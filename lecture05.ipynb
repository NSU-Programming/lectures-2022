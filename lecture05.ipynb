{
 "cells": [
  {
   "cell_type": "markdown",
   "id": "0090a055",
   "metadata": {
    "slideshow": {
     "slide_type": "slide"
    }
   },
   "source": [
    "## Введение в язык Python\n",
    "Курс \"Программирование на C++ и Python\", ФФ НГУ  \n",
    "Грибанов Сергей Сергеевич  \n",
    "9 ноября 2021"
   ]
  },
  {
   "cell_type": "markdown",
   "id": "f5051530",
   "metadata": {
    "slideshow": {
     "slide_type": "slide"
    }
   },
   "source": [
    "### Язык Python\n",
    "* Простой в изучении, отлично документирован (https://docs.python.org/3/)\n",
    "* Высокоуровневый\n",
    "* Интерпретируемый\n",
    "* Имеет строгую динамическую типизацию (в `C` - нестрогая статическая)"
   ]
  },
  {
   "cell_type": "markdown",
   "id": "31e40cca",
   "metadata": {
    "slideshow": {
     "slide_type": "slide"
    }
   },
   "source": [
    "### Философия Python"
   ]
  },
  {
   "cell_type": "code",
   "execution_count": null,
   "id": "5c3efd6d",
   "metadata": {
    "slideshow": {
     "slide_type": "subslide"
    }
   },
   "outputs": [],
   "source": [
    "import this"
   ]
  },
  {
   "cell_type": "code",
   "execution_count": null,
   "id": "4c270dd6",
   "metadata": {
    "slideshow": {
     "slide_type": "subslide"
    }
   },
   "outputs": [],
   "source": [
    "zen_ru = '''Красивое лучше, чем уродливое.\n",
    "Явное лучше, чем неявное.\n",
    "Простое лучше, чем сложное.\n",
    "Сложное лучше, чем запутанное.\n",
    "Плоское лучше, чем вложенное.\n",
    "Разреженное лучше, чем плотное.\n",
    "Читаемость имеет значение.\n",
    "Особые случаи не настолько особые, чтобы нарушать правила.\n",
    "При этом практичность важнее безупречности.\n",
    "Ошибки никогда не должны замалчиваться.\n",
    "Если они не замалчиваются явно.\n",
    "Встретив двусмысленность, отбрось искушение угадать.\n",
    "Должен существовать один и, желательно, только один очевидный способ сделать это.\n",
    "Хотя он поначалу может быть и не очевиден, если вы не голландец.\n",
    "Сейчас лучше, чем никогда.\n",
    "Хотя никогда зачастую лучше, чем прямо сейчас.\n",
    "Если реализацию сложно объяснить — идея плоха.\n",
    "Если реализацию легко объяснить — идея, возможно, хороша.\n",
    "Пространства имён — отличная штука! Будем делать их больше!'''"
   ]
  },
  {
   "cell_type": "code",
   "execution_count": null,
   "id": "777d66bd",
   "metadata": {
    "slideshow": {
     "slide_type": "subslide"
    }
   },
   "outputs": [],
   "source": [
    "print(zen_ru)"
   ]
  },
  {
   "cell_type": "markdown",
   "id": "d767212c",
   "metadata": {
    "slideshow": {
     "slide_type": "slide"
    }
   },
   "source": [
    "### Арифметические типы"
   ]
  },
  {
   "cell_type": "markdown",
   "id": "b3af7949",
   "metadata": {
    "slideshow": {
     "slide_type": "slide"
    }
   },
   "source": [
    "#### Тип `int`"
   ]
  },
  {
   "cell_type": "code",
   "execution_count": null,
   "id": "0e615309",
   "metadata": {
    "slideshow": {
     "slide_type": "fragment"
    }
   },
   "outputs": [],
   "source": [
    "x = 2\n",
    "type(x)"
   ]
  },
  {
   "cell_type": "markdown",
   "id": "1e35b6f0",
   "metadata": {
    "slideshow": {
     "slide_type": "subslide"
    }
   },
   "source": [
    "Тип `int` имеет произвольную точность"
   ]
  },
  {
   "cell_type": "code",
   "execution_count": null,
   "id": "00076a5f",
   "metadata": {
    "slideshow": {
     "slide_type": "fragment"
    }
   },
   "outputs": [],
   "source": [
    "# Возведение 2-ки в степень 1024\n",
    "p = 2**1024\n",
    "print(p)\n",
    "type(p)"
   ]
  },
  {
   "cell_type": "code",
   "execution_count": null,
   "id": "75c572ff",
   "metadata": {
    "slideshow": {
     "slide_type": "subslide"
    }
   },
   "outputs": [],
   "source": [
    "from math import factorial\n",
    "\n",
    "n = factorial(1000)\n",
    "print(n)\n",
    "type(n)"
   ]
  },
  {
   "cell_type": "markdown",
   "id": "7359ea56",
   "metadata": {
    "slideshow": {
     "slide_type": "slide"
    }
   },
   "source": [
    "#### Тип `float`"
   ]
  },
  {
   "cell_type": "code",
   "execution_count": null,
   "id": "8a004390",
   "metadata": {
    "slideshow": {
     "slide_type": "fragment"
    }
   },
   "outputs": [],
   "source": [
    "a = 3.14\n",
    "type(a)"
   ]
  },
  {
   "cell_type": "code",
   "execution_count": null,
   "id": "084ff76d",
   "metadata": {
    "slideshow": {
     "slide_type": "fragment"
    }
   },
   "outputs": [],
   "source": [
    "from math import cos, pi"
   ]
  },
  {
   "cell_type": "code",
   "execution_count": null,
   "id": "cae65efa",
   "metadata": {
    "slideshow": {
     "slide_type": "fragment"
    }
   },
   "outputs": [],
   "source": [
    "print(cos(pi / 3))"
   ]
  },
  {
   "cell_type": "markdown",
   "id": "70d41c30",
   "metadata": {
    "slideshow": {
     "slide_type": "fragment"
    }
   },
   "source": [
    "`float` в Python -- это числа с плавающей точкой двойной точности (`double` из C/C++). Число с плавающей точкой двойной точности занимает в памяти 64 бита: 1 бит на знак, 11 бит на экспоненту, 52 бита на мантиссу. Точность - от 15 до 17 значимых десятичных цифр в мантиссе, т.е. порядка $2^{-53}\\approx 1.11\\times10^{-16}$."
   ]
  },
  {
   "cell_type": "markdown",
   "id": "ac80bd18",
   "metadata": {
    "slideshow": {
     "slide_type": "subslide"
    }
   },
   "source": [
    "Подробнее посмотреть о представлении чисел с плавающей точкой можно посмотреть, например, тут:\n",
    "1. https://en.wikipedia.org/wiki/Double-precision_floating-point_format\n",
    "2. https://tirinox.ru/float-python"
   ]
  },
  {
   "cell_type": "code",
   "execution_count": null,
   "id": "6e86aff4",
   "metadata": {
    "slideshow": {
     "slide_type": "subslide"
    }
   },
   "outputs": [],
   "source": [
    "from mpmath import mp"
   ]
  },
  {
   "cell_type": "markdown",
   "id": "376a92eb",
   "metadata": {
    "slideshow": {
     "slide_type": "fragment"
    }
   },
   "source": [
    "`mpmath` -- библиотека вещественной и комплексной арифметики произвольной точности"
   ]
  },
  {
   "cell_type": "code",
   "execution_count": null,
   "id": "4b34eeda",
   "metadata": {
    "slideshow": {
     "slide_type": "fragment"
    }
   },
   "outputs": [],
   "source": [
    "precision = 100\n",
    "mp.dps = precision\n",
    "mp.cos(mp.pi / 3)"
   ]
  },
  {
   "cell_type": "markdown",
   "id": "35403f9d",
   "metadata": {
    "slideshow": {
     "slide_type": "subslide"
    }
   },
   "source": [
    "Операторы деления"
   ]
  },
  {
   "cell_type": "code",
   "execution_count": null,
   "id": "79497f07",
   "metadata": {
    "slideshow": {
     "slide_type": "fragment"
    }
   },
   "outputs": [],
   "source": [
    "# Деление с учетом дробной части\n",
    "7 / 2"
   ]
  },
  {
   "cell_type": "code",
   "execution_count": null,
   "id": "badfb896",
   "metadata": {
    "slideshow": {
     "slide_type": "fragment"
    }
   },
   "outputs": [],
   "source": [
    "# Целочисленное деление\n",
    "7 // 2"
   ]
  },
  {
   "cell_type": "markdown",
   "id": "36828071",
   "metadata": {
    "slideshow": {
     "slide_type": "slide"
    }
   },
   "source": [
    "#### Рациональные числа"
   ]
  },
  {
   "cell_type": "code",
   "execution_count": null,
   "id": "46795ce5",
   "metadata": {
    "slideshow": {
     "slide_type": "fragment"
    }
   },
   "outputs": [],
   "source": [
    "from fractions import Fraction"
   ]
  },
  {
   "cell_type": "code",
   "execution_count": null,
   "id": "8d5db209",
   "metadata": {
    "slideshow": {
     "slide_type": "fragment"
    }
   },
   "outputs": [],
   "source": [
    "Fraction(2, 3) + Fraction(1, 2)"
   ]
  },
  {
   "cell_type": "code",
   "execution_count": null,
   "id": "a7332027",
   "metadata": {
    "slideshow": {
     "slide_type": "fragment"
    }
   },
   "outputs": [],
   "source": [
    "Fraction(0.75)"
   ]
  },
  {
   "cell_type": "markdown",
   "id": "00becb81",
   "metadata": {
    "slideshow": {
     "slide_type": "slide"
    }
   },
   "source": [
    "#### Комплексные числа"
   ]
  },
  {
   "cell_type": "code",
   "execution_count": null,
   "id": "08062d39",
   "metadata": {
    "slideshow": {
     "slide_type": "fragment"
    }
   },
   "outputs": [],
   "source": [
    "z = .3 + 2.1j\n",
    "type(z)"
   ]
  },
  {
   "cell_type": "code",
   "execution_count": null,
   "id": "99065852",
   "metadata": {},
   "outputs": [],
   "source": [
    "z = complex(.3, 2.1)"
   ]
  },
  {
   "cell_type": "code",
   "execution_count": null,
   "id": "4862a116",
   "metadata": {
    "slideshow": {
     "slide_type": "fragment"
    }
   },
   "outputs": [],
   "source": [
    "z.conjugate()"
   ]
  },
  {
   "cell_type": "code",
   "execution_count": null,
   "id": "b7b52c77",
   "metadata": {
    "slideshow": {
     "slide_type": "fragment"
    }
   },
   "outputs": [],
   "source": [
    "print(z.real)\n",
    "print(z.imag)\n",
    "type(z.imag)"
   ]
  },
  {
   "cell_type": "markdown",
   "id": "77dc0edd",
   "metadata": {
    "slideshow": {
     "slide_type": "slide"
    }
   },
   "source": [
    "#### Логический тип"
   ]
  },
  {
   "cell_type": "code",
   "execution_count": null,
   "id": "4c89d28d",
   "metadata": {
    "slideshow": {
     "slide_type": "fragment"
    }
   },
   "outputs": [],
   "source": [
    "True or False"
   ]
  },
  {
   "cell_type": "code",
   "execution_count": null,
   "id": "15b3b47c",
   "metadata": {
    "slideshow": {
     "slide_type": "fragment"
    }
   },
   "outputs": [],
   "source": [
    "q = 1 > 2 and 3 < 2\n",
    "print(q)"
   ]
  },
  {
   "cell_type": "code",
   "execution_count": null,
   "id": "5b5ac100",
   "metadata": {
    "slideshow": {
     "slide_type": "fragment"
    }
   },
   "outputs": [],
   "source": [
    "not 1 > 2 # not -- оператор отрицания"
   ]
  },
  {
   "cell_type": "code",
   "execution_count": null,
   "id": "c8397d45",
   "metadata": {
    "slideshow": {
     "slide_type": "fragment"
    }
   },
   "outputs": [],
   "source": [
    "a = 2\n",
    "1 < a <= 2"
   ]
  },
  {
   "cell_type": "code",
   "execution_count": null,
   "id": "b5acc207",
   "metadata": {
    "slideshow": {
     "slide_type": "subslide"
    }
   },
   "outputs": [],
   "source": [
    "a = 2.1\n",
    "b = 2.1"
   ]
  },
  {
   "cell_type": "code",
   "execution_count": null,
   "id": "39c15c88",
   "metadata": {
    "slideshow": {
     "slide_type": "fragment"
    }
   },
   "outputs": [],
   "source": [
    "a == b # оператор сравнения"
   ]
  },
  {
   "cell_type": "code",
   "execution_count": null,
   "id": "88384471",
   "metadata": {
    "slideshow": {
     "slide_type": "fragment"
    }
   },
   "outputs": [],
   "source": [
    "a is b # проверка идентичности объектов"
   ]
  },
  {
   "cell_type": "markdown",
   "id": "c74155cb",
   "metadata": {
    "slideshow": {
     "slide_type": "fragment"
    }
   },
   "source": [
    "Оператор `is` проверяет идентичность объектов! (не их равенство)"
   ]
  },
  {
   "cell_type": "code",
   "execution_count": null,
   "id": "009e1649",
   "metadata": {
    "slideshow": {
     "slide_type": "fragment"
    }
   },
   "outputs": [],
   "source": [
    "a != b # опреатор \"не равно\""
   ]
  },
  {
   "cell_type": "markdown",
   "id": "16ec3321",
   "metadata": {
    "slideshow": {
     "slide_type": "slide"
    }
   },
   "source": [
    "### Объект `None`"
   ]
  },
  {
   "cell_type": "code",
   "execution_count": null,
   "id": "6cc0447c",
   "metadata": {
    "slideshow": {
     "slide_type": "fragment"
    }
   },
   "outputs": [],
   "source": [
    "None == None"
   ]
  },
  {
   "cell_type": "code",
   "execution_count": null,
   "id": "ec39234f",
   "metadata": {
    "slideshow": {
     "slide_type": "fragment"
    }
   },
   "outputs": [],
   "source": [
    "None is None"
   ]
  },
  {
   "cell_type": "code",
   "execution_count": null,
   "id": "47e1723b",
   "metadata": {
    "slideshow": {
     "slide_type": "fragment"
    }
   },
   "outputs": [],
   "source": [
    "bool(None)"
   ]
  },
  {
   "cell_type": "markdown",
   "id": "d2b47c72",
   "metadata": {
    "slideshow": {
     "slide_type": "slide"
    }
   },
   "source": [
    "### Строки"
   ]
  },
  {
   "cell_type": "code",
   "execution_count": null,
   "id": "e4af7fb3",
   "metadata": {
    "slideshow": {
     "slide_type": "fragment"
    }
   },
   "outputs": [],
   "source": [
    "s = 'Hello, \\u222F'\n",
    "type(s)"
   ]
  },
  {
   "cell_type": "code",
   "execution_count": null,
   "id": "2701de64",
   "metadata": {
    "slideshow": {
     "slide_type": "fragment"
    }
   },
   "outputs": [],
   "source": [
    "print(s)"
   ]
  },
  {
   "cell_type": "code",
   "execution_count": null,
   "id": "592733ef",
   "metadata": {
    "slideshow": {
     "slide_type": "fragment"
    }
   },
   "outputs": [],
   "source": [
    "print('Hello')"
   ]
  },
  {
   "cell_type": "code",
   "execution_count": null,
   "id": "287e2410",
   "metadata": {
    "slideshow": {
     "slide_type": "fragment"
    }
   },
   "outputs": [],
   "source": [
    "print(\"Hello\")"
   ]
  },
  {
   "cell_type": "code",
   "execution_count": null,
   "id": "ce85b47e",
   "metadata": {
    "slideshow": {
     "slide_type": "subslide"
    }
   },
   "outputs": [],
   "source": [
    "print(\"Hello 'World'\")"
   ]
  },
  {
   "cell_type": "code",
   "execution_count": null,
   "id": "eb2ecbc3",
   "metadata": {
    "slideshow": {
     "slide_type": "fragment"
    }
   },
   "outputs": [],
   "source": [
    "print('Hello \"World\"')"
   ]
  },
  {
   "cell_type": "code",
   "execution_count": null,
   "id": "13cd242c",
   "metadata": {
    "slideshow": {
     "slide_type": "subslide"
    }
   },
   "outputs": [],
   "source": [
    "print('Hello\\nWorld')"
   ]
  },
  {
   "cell_type": "code",
   "execution_count": null,
   "id": "5764e16a",
   "metadata": {
    "slideshow": {
     "slide_type": "fragment"
    }
   },
   "outputs": [],
   "source": [
    "s = '''Hello \n",
    "World'''\n",
    "print(s)"
   ]
  },
  {
   "cell_type": "code",
   "execution_count": null,
   "id": "d6a61f5e",
   "metadata": {
    "slideshow": {
     "slide_type": "fragment"
    }
   },
   "outputs": [],
   "source": [
    "s = \"\"\"Hello\n",
    "World\"\"\"\n",
    "print(s)"
   ]
  },
  {
   "cell_type": "code",
   "execution_count": null,
   "id": "668ab3d2",
   "metadata": {
    "slideshow": {
     "slide_type": "subslide"
    }
   },
   "outputs": [],
   "source": [
    "'Hello, ' + 'World!'"
   ]
  },
  {
   "cell_type": "code",
   "execution_count": null,
   "id": "a9fd76f4",
   "metadata": {
    "slideshow": {
     "slide_type": "fragment"
    }
   },
   "outputs": [],
   "source": [
    "'Hello'.startswith('Hel')"
   ]
  },
  {
   "cell_type": "code",
   "execution_count": null,
   "id": "cdedee50",
   "metadata": {
    "slideshow": {
     "slide_type": "fragment"
    }
   },
   "outputs": [],
   "source": [
    "'Hello'.endswith('loop')"
   ]
  },
  {
   "cell_type": "code",
   "execution_count": null,
   "id": "a08681ff",
   "metadata": {
    "slideshow": {
     "slide_type": "fragment"
    }
   },
   "outputs": [],
   "source": [
    "'ell' in 'Hello'"
   ]
  },
  {
   "cell_type": "code",
   "execution_count": null,
   "id": "464d7046",
   "metadata": {
    "scrolled": true,
    "slideshow": {
     "slide_type": "fragment"
    }
   },
   "outputs": [],
   "source": [
    "'Hello'.find('ll')"
   ]
  },
  {
   "cell_type": "code",
   "execution_count": null,
   "id": "0889d843",
   "metadata": {
    "slideshow": {
     "slide_type": "subslide"
    }
   },
   "outputs": [],
   "source": [
    "'Hello'[1] # 1-ый сивол"
   ]
  },
  {
   "cell_type": "code",
   "execution_count": null,
   "id": "38338fc2",
   "metadata": {
    "slideshow": {
     "slide_type": "fragment"
    }
   },
   "outputs": [],
   "source": [
    "'Hello'[-4] # -4-ый символ"
   ]
  },
  {
   "cell_type": "code",
   "execution_count": null,
   "id": "0022112d",
   "metadata": {
    "slideshow": {
     "slide_type": "fragment"
    }
   },
   "outputs": [],
   "source": [
    "'Hello'[1:5] # строка из символов с 1-го по 5-ый"
   ]
  },
  {
   "cell_type": "code",
   "execution_count": null,
   "id": "69066dea",
   "metadata": {
    "slideshow": {
     "slide_type": "fragment"
    }
   },
   "outputs": [],
   "source": [
    "'Hello'[1:5:3] # строка из символов с 1-го по 5-ый с шагом 3"
   ]
  },
  {
   "cell_type": "code",
   "execution_count": null,
   "id": "9d3d3a35",
   "metadata": {
    "slideshow": {
     "slide_type": "fragment"
    }
   },
   "outputs": [],
   "source": [
    "'Hello'[::-1] # инвертированная строка"
   ]
  },
  {
   "cell_type": "code",
   "execution_count": null,
   "id": "51a3e960",
   "metadata": {
    "slideshow": {
     "slide_type": "subslide"
    }
   },
   "outputs": [],
   "source": [
    "'123'.isdigit()"
   ]
  },
  {
   "cell_type": "code",
   "execution_count": null,
   "id": "7235da94",
   "metadata": {
    "slideshow": {
     "slide_type": "fragment"
    }
   },
   "outputs": [],
   "source": [
    "'abs1'.isalpha()"
   ]
  },
  {
   "cell_type": "code",
   "execution_count": null,
   "id": "f63f68e5",
   "metadata": {
    "slideshow": {
     "slide_type": "fragment"
    }
   },
   "outputs": [],
   "source": [
    "'    123   '.strip()"
   ]
  },
  {
   "cell_type": "code",
   "execution_count": null,
   "id": "5de508cb",
   "metadata": {
    "slideshow": {
     "slide_type": "fragment"
    }
   },
   "outputs": [],
   "source": [
    "'\\t123    \\n'.strip()"
   ]
  },
  {
   "cell_type": "code",
   "execution_count": null,
   "id": "27b19303",
   "metadata": {
    "slideshow": {
     "slide_type": "fragment"
    }
   },
   "outputs": [],
   "source": [
    "'   123  456   789    '.strip()"
   ]
  },
  {
   "cell_type": "code",
   "execution_count": null,
   "id": "9e5446e0",
   "metadata": {
    "slideshow": {
     "slide_type": "fragment"
    }
   },
   "outputs": [],
   "source": [
    "'   123  456   789    '.strip().split()"
   ]
  },
  {
   "cell_type": "code",
   "execution_count": null,
   "id": "5afef37e",
   "metadata": {
    "slideshow": {
     "slide_type": "fragment"
    }
   },
   "outputs": [],
   "source": [
    "', '.join(['123', '456', '789'])"
   ]
  },
  {
   "cell_type": "code",
   "execution_count": null,
   "id": "76990a67",
   "metadata": {
    "slideshow": {
     "slide_type": "subslide"
    }
   },
   "outputs": [],
   "source": [
    "int('123')"
   ]
  },
  {
   "cell_type": "code",
   "execution_count": null,
   "id": "b0ed0b66",
   "metadata": {
    "slideshow": {
     "slide_type": "fragment"
    }
   },
   "outputs": [],
   "source": [
    "float('3.14')"
   ]
  },
  {
   "cell_type": "code",
   "execution_count": null,
   "id": "fb99220c",
   "metadata": {
    "slideshow": {
     "slide_type": "fragment"
    }
   },
   "outputs": [],
   "source": [
    "float('1.e+6')"
   ]
  },
  {
   "cell_type": "code",
   "execution_count": null,
   "id": "fea6e918",
   "metadata": {
    "slideshow": {
     "slide_type": "fragment"
    }
   },
   "outputs": [],
   "source": [
    "complex('.3+2.1j')"
   ]
  },
  {
   "cell_type": "code",
   "execution_count": null,
   "id": "1a7edc17",
   "metadata": {
    "slideshow": {
     "slide_type": "subslide"
    }
   },
   "outputs": [],
   "source": [
    "s = '.3 + 2.1j'"
   ]
  },
  {
   "cell_type": "code",
   "execution_count": null,
   "id": "9beeb6e9",
   "metadata": {
    "slideshow": {
     "slide_type": "fragment"
    }
   },
   "outputs": [],
   "source": [
    "# complex(s)"
   ]
  },
  {
   "cell_type": "code",
   "execution_count": null,
   "id": "d879cc7a",
   "metadata": {
    "scrolled": true,
    "slideshow": {
     "slide_type": "fragment"
    }
   },
   "outputs": [],
   "source": [
    "try:\n",
    "    print(complex(s))\n",
    "except ValueError as err:\n",
    "    print(err)\n",
    "    print(complex(s.replace(' ', '')))"
   ]
  },
  {
   "cell_type": "markdown",
   "id": "64d3848a",
   "metadata": {
    "slideshow": {
     "slide_type": "slide"
    }
   },
   "source": [
    "### Контейнеры\n",
    "* `list` - список\n",
    "* `tuple` - кортеж\n",
    "* `set` - множество\n",
    "* `dict` - словарь"
   ]
  },
  {
   "cell_type": "markdown",
   "id": "40920dd3",
   "metadata": {
    "slideshow": {
     "slide_type": "slide"
    }
   },
   "source": [
    "#### Список `list`"
   ]
  },
  {
   "cell_type": "code",
   "execution_count": null,
   "id": "85022935",
   "metadata": {
    "scrolled": true,
    "slideshow": {
     "slide_type": "fragment"
    }
   },
   "outputs": [],
   "source": [
    "lst = [123, 'hello', 'world', 1.23]\n",
    "lst[0]"
   ]
  },
  {
   "cell_type": "code",
   "execution_count": null,
   "id": "a6f8dfb1",
   "metadata": {
    "slideshow": {
     "slide_type": "fragment"
    }
   },
   "outputs": [],
   "source": [
    "lst = []\n",
    "lst.append('hello')\n",
    "lst += [1, 2, 3]\n",
    "lst.remove(1)\n",
    "print(lst)"
   ]
  },
  {
   "cell_type": "code",
   "execution_count": null,
   "id": "c57baf3d",
   "metadata": {
    "slideshow": {
     "slide_type": "fragment"
    }
   },
   "outputs": [],
   "source": [
    "2 in lst"
   ]
  },
  {
   "cell_type": "code",
   "execution_count": null,
   "id": "a86f3aa4",
   "metadata": {
    "slideshow": {
     "slide_type": "fragment"
    }
   },
   "outputs": [],
   "source": [
    "lst.append([1, 2, 3])\n",
    "print(lst)"
   ]
  },
  {
   "cell_type": "code",
   "execution_count": null,
   "id": "7c032aff",
   "metadata": {
    "slideshow": {
     "slide_type": "subslide"
    }
   },
   "outputs": [],
   "source": [
    "lst = list(range(10))\n",
    "lst"
   ]
  },
  {
   "cell_type": "code",
   "execution_count": null,
   "id": "eb83ea44",
   "metadata": {
    "slideshow": {
     "slide_type": "fragment"
    }
   },
   "outputs": [],
   "source": [
    "lst[::-1]"
   ]
  },
  {
   "cell_type": "code",
   "execution_count": null,
   "id": "ebb0a2e3",
   "metadata": {
    "slideshow": {
     "slide_type": "fragment"
    }
   },
   "outputs": [],
   "source": [
    "lst[0:9:3]"
   ]
  },
  {
   "cell_type": "markdown",
   "id": "4ae70a07",
   "metadata": {
    "slideshow": {
     "slide_type": "slide"
    }
   },
   "source": [
    "#### Кортеж `tuple`\n",
    "Упорядоченный **неизменяемый** контейнер\n",
    "\n",
    "* создаются быстрее, чем списки\n",
    "* занимают меньше памяти, чем списки\n",
    "* можно использовать в качестве ключей `set` и `map`, а списки нельзя"
   ]
  },
  {
   "cell_type": "code",
   "execution_count": null,
   "id": "8d01ef1e",
   "metadata": {
    "slideshow": {
     "slide_type": "fragment"
    }
   },
   "outputs": [],
   "source": [
    "x = ('hello', 1, -4.)\n",
    "x[0]"
   ]
  },
  {
   "cell_type": "code",
   "execution_count": null,
   "id": "e65aa8a1",
   "metadata": {
    "slideshow": {
     "slide_type": "fragment"
    }
   },
   "outputs": [],
   "source": [
    "try:\n",
    "    x[0] = 'world'\n",
    "except Exception as err:\n",
    "    print(type(err))\n",
    "    print(err)"
   ]
  },
  {
   "cell_type": "markdown",
   "id": "3e9d8736",
   "metadata": {
    "slideshow": {
     "slide_type": "slide"
    }
   },
   "source": [
    "#### Множество `set`\n",
    "Неупорядоченная коллекция уникальных объектов"
   ]
  },
  {
   "cell_type": "code",
   "execution_count": null,
   "id": "3010c8ed",
   "metadata": {
    "slideshow": {
     "slide_type": "fragment"
    }
   },
   "outputs": [],
   "source": [
    "s = {'hello', 3.14, 2, (1, 2)}\n",
    "s"
   ]
  },
  {
   "cell_type": "code",
   "execution_count": null,
   "id": "4935feff",
   "metadata": {
    "slideshow": {
     "slide_type": "fragment"
    }
   },
   "outputs": [],
   "source": [
    "s.add('world')\n",
    "s"
   ]
  },
  {
   "cell_type": "code",
   "execution_count": null,
   "id": "01d9b525",
   "metadata": {
    "slideshow": {
     "slide_type": "fragment"
    }
   },
   "outputs": [],
   "source": [
    "2 in s"
   ]
  },
  {
   "cell_type": "code",
   "execution_count": null,
   "id": "4756839a",
   "metadata": {
    "scrolled": true,
    "slideshow": {
     "slide_type": "subslide"
    }
   },
   "outputs": [],
   "source": [
    "s1 = {'рыба', 'змея', 'кошка', 'береза', 'ель', 'сосна'}\n",
    "s2 = {'ель', 'береза', 'сосна'}\n",
    "print(s1 - s2)\n",
    "s3 =  {'ель', 'береза', 'сосна', 'тополь'}\n",
    "print(s1 - s3)"
   ]
  },
  {
   "cell_type": "code",
   "execution_count": null,
   "id": "bd2702dc",
   "metadata": {
    "slideshow": {
     "slide_type": "fragment"
    }
   },
   "outputs": [],
   "source": [
    "s4 = {'кедр', 'кипарис', 'пихта', 'можжевельник', 'лиственница', 'ель', \n",
    "      'сосна', 'секвойя', 'тис', 'каури', 'араукария'}"
   ]
  },
  {
   "cell_type": "code",
   "execution_count": null,
   "id": "0194747a",
   "metadata": {
    "slideshow": {
     "slide_type": "fragment"
    }
   },
   "outputs": [],
   "source": [
    "s3 & s4"
   ]
  },
  {
   "cell_type": "code",
   "execution_count": null,
   "id": "baf2abf8",
   "metadata": {
    "slideshow": {
     "slide_type": "fragment"
    }
   },
   "outputs": [],
   "source": [
    "s3 | s4"
   ]
  },
  {
   "cell_type": "markdown",
   "id": "b3e34c0d",
   "metadata": {
    "slideshow": {
     "slide_type": "subslide"
    }
   },
   "source": [
    "#### Словарь `dict`\n",
    "Ассоциативный контейнер. Запоминает порядок вставки элементов (начиная с python 3.7)."
   ]
  },
  {
   "cell_type": "code",
   "execution_count": null,
   "id": "56000114",
   "metadata": {
    "slideshow": {
     "slide_type": "fragment"
    }
   },
   "outputs": [],
   "source": [
    "# a = {'key1': 'val1', 'key2': 'val2'}\n",
    "a = dict()\n",
    "a"
   ]
  },
  {
   "cell_type": "code",
   "execution_count": null,
   "id": "6fcfca8b",
   "metadata": {
    "slideshow": {
     "slide_type": "fragment"
    }
   },
   "outputs": [],
   "source": [
    "# a['key1']\n",
    "a.get('key1', 'non')"
   ]
  },
  {
   "cell_type": "markdown",
   "id": "45d85269",
   "metadata": {
    "slideshow": {
     "slide_type": "slide"
    }
   },
   "source": [
    "### Копировние"
   ]
  },
  {
   "cell_type": "code",
   "execution_count": null,
   "id": "99d8f966",
   "metadata": {
    "slideshow": {
     "slide_type": "fragment"
    }
   },
   "outputs": [],
   "source": [
    "lst = [3, 4, 5]\n",
    "x = lst\n",
    "x[0] = 1\n",
    "lst"
   ]
  },
  {
   "cell_type": "markdown",
   "id": "ed680218",
   "metadata": {
    "slideshow": {
     "slide_type": "fragment"
    }
   },
   "source": [
    "Операция присваивания не копирует объект, а создает ссылку на него"
   ]
  },
  {
   "cell_type": "code",
   "execution_count": null,
   "id": "71200114",
   "metadata": {
    "slideshow": {
     "slide_type": "fragment"
    }
   },
   "outputs": [],
   "source": [
    "import copy"
   ]
  },
  {
   "cell_type": "code",
   "execution_count": null,
   "id": "2690f81a",
   "metadata": {
    "slideshow": {
     "slide_type": "fragment"
    }
   },
   "outputs": [],
   "source": [
    "x = copy.copy(lst)\n",
    "x[0] = 9\n",
    "print(lst)\n",
    "print(x)"
   ]
  },
  {
   "cell_type": "markdown",
   "id": "f16f3276",
   "metadata": {
    "slideshow": {
     "slide_type": "fragment"
    }
   },
   "source": [
    "`copy` -- поверхностное копирование. Создает новый составной объект, затем копирует в него ссылки на объекты из\n",
    "оргигинала"
   ]
  },
  {
   "cell_type": "code",
   "execution_count": null,
   "id": "0a2ace6d",
   "metadata": {
    "slideshow": {
     "slide_type": "subslide"
    }
   },
   "outputs": [],
   "source": [
    "lst = [1, 2, [6, 7, 8]]"
   ]
  },
  {
   "cell_type": "code",
   "execution_count": null,
   "id": "19ce50aa",
   "metadata": {
    "slideshow": {
     "slide_type": "fragment"
    }
   },
   "outputs": [],
   "source": [
    "x = copy.copy(lst)\n",
    "x[0] = 7\n",
    "x[2][0] = -3\n",
    "print(lst)\n",
    "print(x)"
   ]
  },
  {
   "cell_type": "code",
   "execution_count": null,
   "id": "b11a1c55",
   "metadata": {
    "slideshow": {
     "slide_type": "fragment"
    }
   },
   "outputs": [],
   "source": [
    "x = copy.deepcopy(lst)\n",
    "x[0] = 3\n",
    "x[2][0] = -1\n",
    "print(lst)\n",
    "print(x)"
   ]
  },
  {
   "cell_type": "markdown",
   "id": "28b367b1",
   "metadata": {
    "slideshow": {
     "slide_type": "fragment"
    }
   },
   "source": [
    "`deepcopy` -- глубокая копия. Копирует составной объект, затем рекурсивно копирует в него объекты из оригинала"
   ]
  },
  {
   "cell_type": "markdown",
   "id": "cdc5a74e",
   "metadata": {
    "slideshow": {
     "slide_type": "slide"
    }
   },
   "source": [
    "### Оператор `del`"
   ]
  },
  {
   "cell_type": "code",
   "execution_count": null,
   "id": "aa5f052e",
   "metadata": {
    "slideshow": {
     "slide_type": "fragment"
    }
   },
   "outputs": [],
   "source": [
    "x = 3.14"
   ]
  },
  {
   "cell_type": "code",
   "execution_count": null,
   "id": "dfea6ed7",
   "metadata": {
    "slideshow": {
     "slide_type": "fragment"
    }
   },
   "outputs": [],
   "source": [
    "print(x)"
   ]
  },
  {
   "cell_type": "code",
   "execution_count": null,
   "id": "f263f709",
   "metadata": {
    "slideshow": {
     "slide_type": "fragment"
    }
   },
   "outputs": [],
   "source": [
    "del x"
   ]
  },
  {
   "cell_type": "code",
   "execution_count": null,
   "id": "44e55c7f",
   "metadata": {
    "slideshow": {
     "slide_type": "fragment"
    }
   },
   "outputs": [],
   "source": [
    "try:\n",
    "    print(x)\n",
    "except Exception as err:\n",
    "    print(type(err))\n",
    "    print(err)"
   ]
  },
  {
   "cell_type": "markdown",
   "id": "1dd5a209",
   "metadata": {
    "slideshow": {
     "slide_type": "slide"
    }
   },
   "source": [
    "### Управляющие конструкции `if`, `while`, `for`"
   ]
  },
  {
   "cell_type": "code",
   "execution_count": null,
   "id": "ffa76812",
   "metadata": {
    "slideshow": {
     "slide_type": "fragment"
    }
   },
   "outputs": [],
   "source": [
    "x = int(input('x = '))\n",
    "if x > 5:\n",
    "    print('x > 5')\n",
    "elif x==5:\n",
    "    print('x = 5')\n",
    "elif x < 0:\n",
    "    print('x < 0')\n",
    "else:\n",
    "    print('x >= 0 and x < 5')"
   ]
  },
  {
   "cell_type": "code",
   "execution_count": null,
   "id": "32bc3591",
   "metadata": {
    "slideshow": {
     "slide_type": "subslide"
    }
   },
   "outputs": [],
   "source": [
    "a = 12\n",
    "b = 8\n",
    "while a != 0 and b != 0:\n",
    "    if a > b:\n",
    "        a = a % b\n",
    "    else:\n",
    "        b = b % a\n",
    "        \n",
    "print(a + b)"
   ]
  },
  {
   "cell_type": "code",
   "execution_count": null,
   "id": "acf79e9e",
   "metadata": {
    "slideshow": {
     "slide_type": "fragment"
    }
   },
   "outputs": [],
   "source": [
    "for i in [0, 1, 2, 3, 4, 5]:\n",
    "    print(str(i)*i, end='-')"
   ]
  },
  {
   "cell_type": "code",
   "execution_count": null,
   "id": "f52c65f1",
   "metadata": {
    "slideshow": {
     "slide_type": "fragment"
    }
   },
   "outputs": [],
   "source": [
    "for i in range(5):\n",
    "    print(i, end='-')"
   ]
  },
  {
   "cell_type": "code",
   "execution_count": null,
   "id": "474a68c4",
   "metadata": {
    "slideshow": {
     "slide_type": "subslide"
    }
   },
   "outputs": [],
   "source": [
    "for i in range(1, 10, 3):\n",
    "    print(i, end='')"
   ]
  },
  {
   "cell_type": "code",
   "execution_count": null,
   "id": "0f1f5866",
   "metadata": {
    "slideshow": {
     "slide_type": "fragment"
    }
   },
   "outputs": [],
   "source": [
    "for el in 'Hello, World':\n",
    "    if el=='e':\n",
    "        continue\n",
    "    elif el==',':\n",
    "        break\n",
    "        \n",
    "    print(el, end='')"
   ]
  },
  {
   "cell_type": "markdown",
   "id": "f7303483",
   "metadata": {
    "slideshow": {
     "slide_type": "slide"
    }
   },
   "source": [
    "### Тернарный оператор"
   ]
  },
  {
   "cell_type": "code",
   "execution_count": null,
   "id": "f7314906",
   "metadata": {
    "slideshow": {
     "slide_type": "subslide"
    }
   },
   "outputs": [],
   "source": [
    "x = int(input('x = '))\n",
    "y = x - 1 if x > 0 else x + 1\n",
    "print(y)"
   ]
  },
  {
   "cell_type": "markdown",
   "id": "29323d1a",
   "metadata": {
    "slideshow": {
     "slide_type": "slide"
    }
   },
   "source": [
    "### Функции `enumerate`, `zip`, `reversed`"
   ]
  },
  {
   "cell_type": "code",
   "execution_count": null,
   "id": "3689c4c9",
   "metadata": {
    "slideshow": {
     "slide_type": "fragment"
    }
   },
   "outputs": [],
   "source": [
    "arr = ['a', 'b', 'c']\n",
    "\n",
    "for idx, item in enumerate(arr):\n",
    "    print(f'{idx}: {item},', end=' ')"
   ]
  },
  {
   "cell_type": "code",
   "execution_count": null,
   "id": "482c3a0d",
   "metadata": {
    "slideshow": {
     "slide_type": "fragment"
    }
   },
   "outputs": [],
   "source": [
    "for item in reversed(arr):\n",
    "    print(item, end=', ')"
   ]
  },
  {
   "cell_type": "code",
   "execution_count": null,
   "id": "e5ca38a5",
   "metadata": {
    "scrolled": true,
    "slideshow": {
     "slide_type": "fragment"
    }
   },
   "outputs": [],
   "source": [
    "arr2 = ['d', 'e', 'f']\n",
    "for it1, it2 in zip(arr, arr2):\n",
    "    print(f'{it1}{it2}', end=' ')"
   ]
  },
  {
   "cell_type": "markdown",
   "id": "30015802",
   "metadata": {
    "slideshow": {
     "slide_type": "slide"
    }
   },
   "source": [
    "### Генераторы контейнеров"
   ]
  },
  {
   "cell_type": "code",
   "execution_count": null,
   "id": "f5a21ab7",
   "metadata": {
    "slideshow": {
     "slide_type": "fragment"
    }
   },
   "outputs": [],
   "source": [
    "lst = [2*x for x in range(9)]\n",
    "lst"
   ]
  },
  {
   "cell_type": "code",
   "execution_count": null,
   "id": "ea4a670e",
   "metadata": {
    "slideshow": {
     "slide_type": "fragment"
    }
   },
   "outputs": [],
   "source": [
    "dct = {i: i**3 for i in range(8)}\n",
    "dct"
   ]
  },
  {
   "cell_type": "code",
   "execution_count": null,
   "id": "f1288a0d",
   "metadata": {
    "scrolled": true,
    "slideshow": {
     "slide_type": "fragment"
    }
   },
   "outputs": [],
   "source": [
    "st = {i for i in range(10) if not i % 3}\n",
    "st"
   ]
  },
  {
   "cell_type": "markdown",
   "id": "ffc846de",
   "metadata": {
    "slideshow": {
     "slide_type": "slide"
    }
   },
   "source": [
    "### Распаковка"
   ]
  },
  {
   "cell_type": "code",
   "execution_count": null,
   "id": "d991675e",
   "metadata": {
    "slideshow": {
     "slide_type": "fragment"
    }
   },
   "outputs": [],
   "source": [
    "a, b = 1, 2\n",
    "a, b = b, a\n",
    "a, b"
   ]
  },
  {
   "cell_type": "code",
   "execution_count": null,
   "id": "218a2ba0",
   "metadata": {
    "slideshow": {
     "slide_type": "fragment"
    }
   },
   "outputs": [],
   "source": [
    "a, _, b = range(3)\n",
    "a, b"
   ]
  },
  {
   "cell_type": "code",
   "execution_count": null,
   "id": "ecd7c79d",
   "metadata": {
    "slideshow": {
     "slide_type": "fragment"
    }
   },
   "outputs": [],
   "source": [
    "fp, f = 0, 1\n",
    "for _ in range(2, 11):\n",
    "    fp, f = f, fp + f\n",
    "    \n",
    "f"
   ]
  },
  {
   "cell_type": "markdown",
   "id": "b5c47cd8",
   "metadata": {
    "slideshow": {
     "slide_type": "slide"
    }
   },
   "source": [
    "### Функции"
   ]
  },
  {
   "cell_type": "code",
   "execution_count": null,
   "id": "54239814",
   "metadata": {
    "slideshow": {
     "slide_type": "fragment"
    }
   },
   "outputs": [],
   "source": [
    "def print_hello(name):\n",
    "    \"\"\"Печатает f'Hello, {name}!' \"\"\"\n",
    "    print(f'Hello, {name}!')"
   ]
  },
  {
   "cell_type": "code",
   "execution_count": null,
   "id": "4d9c1236",
   "metadata": {
    "slideshow": {
     "slide_type": "fragment"
    }
   },
   "outputs": [],
   "source": [
    "print_hello('Student')"
   ]
  },
  {
   "cell_type": "code",
   "execution_count": null,
   "id": "709a24f0",
   "metadata": {
    "slideshow": {
     "slide_type": "fragment"
    }
   },
   "outputs": [],
   "source": [
    "print(print_hello.__doc__)"
   ]
  },
  {
   "cell_type": "code",
   "execution_count": null,
   "id": "890e1423",
   "metadata": {
    "slideshow": {
     "slide_type": "fragment"
    }
   },
   "outputs": [],
   "source": [
    "help(print_hello)"
   ]
  },
  {
   "cell_type": "code",
   "execution_count": null,
   "id": "423bb0da",
   "metadata": {
    "slideshow": {
     "slide_type": "subslide"
    }
   },
   "outputs": [],
   "source": [
    "res = print_hello('Student')"
   ]
  },
  {
   "cell_type": "code",
   "execution_count": null,
   "id": "d1bdf85f",
   "metadata": {
    "slideshow": {
     "slide_type": "fragment"
    }
   },
   "outputs": [],
   "source": [
    "print(res)"
   ]
  },
  {
   "cell_type": "code",
   "execution_count": null,
   "id": "003130a9",
   "metadata": {
    "scrolled": true,
    "slideshow": {
     "slide_type": "subslide"
    }
   },
   "outputs": [],
   "source": [
    "def dot(lhs, rhs):\n",
    "    assert len(lhs) == len(rhs)\n",
    "    result = 0\n",
    "    for x, y in zip(lhs, rhs):\n",
    "        result += x * y\n",
    "    return result\n",
    "\n",
    "def length(vector):\n",
    "    \"\"\" Вычисляет длину вектора \"\"\"\n",
    "    return dot(vector, vector)**0.5\n",
    "\n",
    "res = length([1,2,3,4,5])\n",
    "print(res)"
   ]
  },
  {
   "cell_type": "code",
   "execution_count": null,
   "id": "ca6ee784",
   "metadata": {
    "slideshow": {
     "slide_type": "subslide"
    }
   },
   "outputs": [],
   "source": [
    "def plus_one(value):\n",
    "    value += 1\n",
    "    print(value)"
   ]
  },
  {
   "cell_type": "code",
   "execution_count": null,
   "id": "091c8988",
   "metadata": {
    "slideshow": {
     "slide_type": "fragment"
    }
   },
   "outputs": [],
   "source": [
    "a = 3\n",
    "plus_one(a)\n",
    "print(a)"
   ]
  },
  {
   "cell_type": "code",
   "execution_count": null,
   "id": "ef321952",
   "metadata": {
    "slideshow": {
     "slide_type": "fragment"
    }
   },
   "outputs": [],
   "source": [
    "def append(lst, element):\n",
    "    lst.append(element)"
   ]
  },
  {
   "cell_type": "code",
   "execution_count": null,
   "id": "c9659d4d",
   "metadata": {
    "slideshow": {
     "slide_type": "fragment"
    }
   },
   "outputs": [],
   "source": [
    "lst = [1, 2, 3]\n",
    "append(lst, 4)\n",
    "print (lst)"
   ]
  },
  {
   "cell_type": "code",
   "execution_count": null,
   "id": "03f8abaf",
   "metadata": {
    "slideshow": {
     "slide_type": "fragment"
    }
   },
   "outputs": [],
   "source": [
    "def set_list(lst):\n",
    "    lst = [0, 2, 4, 6]"
   ]
  },
  {
   "cell_type": "code",
   "execution_count": null,
   "id": "38359ccd",
   "metadata": {
    "slideshow": {
     "slide_type": "fragment"
    }
   },
   "outputs": [],
   "source": [
    "set_list(lst)\n",
    "print(lst)"
   ]
  },
  {
   "cell_type": "markdown",
   "id": "da819342",
   "metadata": {
    "slideshow": {
     "slide_type": "slide"
    }
   },
   "source": [
    "### Лямбда-функция"
   ]
  },
  {
   "cell_type": "code",
   "execution_count": null,
   "id": "ec5de18b",
   "metadata": {
    "slideshow": {
     "slide_type": "fragment"
    }
   },
   "outputs": [],
   "source": [
    "plus = lambda x, y: x + y"
   ]
  },
  {
   "cell_type": "code",
   "execution_count": null,
   "id": "cb774e95",
   "metadata": {
    "slideshow": {
     "slide_type": "fragment"
    }
   },
   "outputs": [],
   "source": [
    "plus(3, 4)"
   ]
  },
  {
   "cell_type": "markdown",
   "id": "3d6e7eea",
   "metadata": {
    "slideshow": {
     "slide_type": "slide"
    }
   },
   "source": [
    "### Функция `sorted`"
   ]
  },
  {
   "cell_type": "code",
   "execution_count": null,
   "id": "a2eff05d",
   "metadata": {
    "slideshow": {
     "slide_type": "fragment"
    }
   },
   "outputs": [],
   "source": [
    "lst = [1, -1, 2, 7, 3]\n",
    "sorted(lst)"
   ]
  },
  {
   "cell_type": "code",
   "execution_count": null,
   "id": "101e7192",
   "metadata": {
    "slideshow": {
     "slide_type": "fragment"
    }
   },
   "outputs": [],
   "source": [
    "sorted(lst, reverse=True)"
   ]
  },
  {
   "cell_type": "code",
   "execution_count": null,
   "id": "5a7c8127",
   "metadata": {
    "slideshow": {
     "slide_type": "fragment"
    }
   },
   "outputs": [],
   "source": [
    "sorted(lst, key=lambda x: abs(x - 3))"
   ]
  },
  {
   "cell_type": "code",
   "execution_count": null,
   "id": "d7ca07d3",
   "metadata": {
    "slideshow": {
     "slide_type": "subslide"
    }
   },
   "outputs": [],
   "source": [
    "print(sorted.__doc__)"
   ]
  },
  {
   "cell_type": "code",
   "execution_count": null,
   "id": "9f80db5f",
   "metadata": {
    "slideshow": {
     "slide_type": "fragment"
    }
   },
   "outputs": [],
   "source": [
    "help(sorted)"
   ]
  },
  {
   "cell_type": "code",
   "execution_count": null,
   "id": "67b204b2",
   "metadata": {
    "slideshow": {
     "slide_type": "subslide"
    }
   },
   "outputs": [],
   "source": [
    "sorted('Hello')"
   ]
  },
  {
   "cell_type": "code",
   "execution_count": null,
   "id": "fe2d3efb",
   "metadata": {
    "slideshow": {
     "slide_type": "fragment"
    }
   },
   "outputs": [],
   "source": [
    "'Hello'.lower()"
   ]
  },
  {
   "cell_type": "code",
   "execution_count": null,
   "id": "b0f4f1a7",
   "metadata": {
    "slideshow": {
     "slide_type": "fragment"
    }
   },
   "outputs": [],
   "source": [
    "sorted('Hello'.lower())"
   ]
  },
  {
   "cell_type": "markdown",
   "id": "15bc1266",
   "metadata": {
    "slideshow": {
     "slide_type": "slide"
    }
   },
   "source": [
    "### Функция `map`"
   ]
  },
  {
   "cell_type": "code",
   "execution_count": null,
   "id": "de44136f",
   "metadata": {
    "slideshow": {
     "slide_type": "fragment"
    }
   },
   "outputs": [],
   "source": [
    "mp = map(lambda x: x*x, range(10))\n",
    "type(mp)"
   ]
  },
  {
   "cell_type": "code",
   "execution_count": null,
   "id": "ad4c8e3c",
   "metadata": {
    "slideshow": {
     "slide_type": "fragment"
    }
   },
   "outputs": [],
   "source": [
    "list(mp)"
   ]
  },
  {
   "cell_type": "markdown",
   "id": "dd2564ed",
   "metadata": {
    "slideshow": {
     "slide_type": "slide"
    }
   },
   "source": [
    "### Функция `sum`"
   ]
  },
  {
   "cell_type": "code",
   "execution_count": null,
   "id": "167946e2",
   "metadata": {
    "slideshow": {
     "slide_type": "fragment"
    }
   },
   "outputs": [],
   "source": [
    "sum(range(10))"
   ]
  },
  {
   "cell_type": "markdown",
   "id": "cb2b39d2",
   "metadata": {
    "slideshow": {
     "slide_type": "slide"
    }
   },
   "source": [
    "### Функция `reduce`"
   ]
  },
  {
   "cell_type": "code",
   "execution_count": null,
   "id": "7f1fab71",
   "metadata": {
    "slideshow": {
     "slide_type": "fragment"
    }
   },
   "outputs": [],
   "source": [
    "from functools import reduce"
   ]
  },
  {
   "cell_type": "code",
   "execution_count": null,
   "id": "e3952cd7",
   "metadata": {
    "scrolled": true
   },
   "outputs": [],
   "source": [
    "reduce(lambda x, n: x + n, range(10), 0)"
   ]
  },
  {
   "cell_type": "code",
   "execution_count": null,
   "id": "5e11f833",
   "metadata": {},
   "outputs": [],
   "source": [
    "reduce(lambda x, n: x + n**2, range(10), 0)"
   ]
  },
  {
   "cell_type": "code",
   "execution_count": null,
   "id": "c6735fe1",
   "metadata": {
    "slideshow": {
     "slide_type": "fragment"
    }
   },
   "outputs": [],
   "source": [
    "q = reduce(lambda x,_:[x[1],x[0]+x[1]], range(10),[0,1])"
   ]
  },
  {
   "cell_type": "code",
   "execution_count": null,
   "id": "bd7695f1",
   "metadata": {
    "slideshow": {
     "slide_type": "fragment"
    }
   },
   "outputs": [],
   "source": [
    "q[0] # число Фибоначчи, n=10"
   ]
  },
  {
   "cell_type": "markdown",
   "id": "b92134af",
   "metadata": {
    "slideshow": {
     "slide_type": "slide"
    }
   },
   "source": [
    "### Форматирование строк"
   ]
  },
  {
   "cell_type": "code",
   "execution_count": null,
   "id": "31d8fc88",
   "metadata": {
    "scrolled": true,
    "slideshow": {
     "slide_type": "fragment"
    }
   },
   "outputs": [],
   "source": [
    "person = 'Sergei'\n",
    "'Hello, {}!'.format(person)"
   ]
  },
  {
   "cell_type": "markdown",
   "id": "2655f172",
   "metadata": {
    "slideshow": {
     "slide_type": "subslide"
    }
   },
   "source": [
    "Формат целых чисел"
   ]
  },
  {
   "cell_type": "code",
   "execution_count": null,
   "id": "e8092f9f",
   "metadata": {
    "slideshow": {
     "slide_type": "fragment"
    }
   },
   "outputs": [],
   "source": [
    "print('x = {:6d}'.format(12))"
   ]
  },
  {
   "cell_type": "code",
   "execution_count": null,
   "id": "6efa9a8b",
   "metadata": {
    "slideshow": {
     "slide_type": "fragment"
    }
   },
   "outputs": [],
   "source": [
    "print('x = {:06d}'.format(12))"
   ]
  },
  {
   "cell_type": "code",
   "execution_count": null,
   "id": "eb319e45",
   "metadata": {
    "slideshow": {
     "slide_type": "fragment"
    }
   },
   "outputs": [],
   "source": [
    "print('({x:6d}, {y:>6d})'.format(x = 12, y = 13))"
   ]
  },
  {
   "cell_type": "code",
   "execution_count": null,
   "id": "976471f5",
   "metadata": {
    "slideshow": {
     "slide_type": "fragment"
    }
   },
   "outputs": [],
   "source": [
    "print('({x:<6d}, {y:<6d})'.format(x = 12, y = 13))"
   ]
  },
  {
   "cell_type": "code",
   "execution_count": null,
   "id": "9393c598",
   "metadata": {
    "slideshow": {
     "slide_type": "fragment"
    }
   },
   "outputs": [],
   "source": [
    "print('({x:^6d}, {y:^6d})'.format(x = 12, y = 13))"
   ]
  },
  {
   "cell_type": "code",
   "execution_count": null,
   "id": "1531aead",
   "metadata": {
    "slideshow": {
     "slide_type": "subslide"
    }
   },
   "outputs": [],
   "source": [
    "print('x = {:<+6d}'.format(12))"
   ]
  },
  {
   "cell_type": "code",
   "execution_count": null,
   "id": "84edbcfc",
   "metadata": {
    "slideshow": {
     "slide_type": "fragment"
    }
   },
   "outputs": [],
   "source": [
    "print('x = {:<+6d}'.format(-12))"
   ]
  },
  {
   "cell_type": "markdown",
   "id": "afb9ce17",
   "metadata": {
    "slideshow": {
     "slide_type": "subslide"
    }
   },
   "source": [
    "Формат чисел с плавающей точкой"
   ]
  },
  {
   "cell_type": "code",
   "execution_count": null,
   "id": "2b6b51f9",
   "metadata": {
    "slideshow": {
     "slide_type": "fragment"
    }
   },
   "outputs": [],
   "source": [
    "print('x = {:.3f}'.format(1.2345))"
   ]
  },
  {
   "cell_type": "code",
   "execution_count": null,
   "id": "a9f79b14",
   "metadata": {
    "slideshow": {
     "slide_type": "fragment"
    }
   },
   "outputs": [],
   "source": [
    "print('x = {:+10.3f}'.format(-1.2345))"
   ]
  },
  {
   "cell_type": "markdown",
   "id": "3b7ab617",
   "metadata": {
    "slideshow": {
     "slide_type": "subslide"
    }
   },
   "source": [
    "Примеры форматирования"
   ]
  },
  {
   "cell_type": "code",
   "execution_count": null,
   "id": "2fdaf75d",
   "metadata": {
    "slideshow": {
     "slide_type": "fragment"
    }
   },
   "outputs": [],
   "source": [
    "'{} = {}'.format('amplitude', 100.12345)"
   ]
  },
  {
   "cell_type": "code",
   "execution_count": null,
   "id": "92b9caad",
   "metadata": {
    "slideshow": {
     "slide_type": "fragment"
    }
   },
   "outputs": [],
   "source": [
    "'{1} = {0}'.format('amplitude', 100.12345)"
   ]
  },
  {
   "cell_type": "code",
   "execution_count": null,
   "id": "522ceb31",
   "metadata": {
    "slideshow": {
     "slide_type": "subslide"
    }
   },
   "outputs": [],
   "source": [
    "'{amp} value is {val}'.format(amp='Amplitude', val=100.12345)"
   ]
  },
  {
   "cell_type": "code",
   "execution_count": null,
   "id": "046789d8",
   "metadata": {
    "slideshow": {
     "slide_type": "fragment"
    }
   },
   "outputs": [],
   "source": [
    "'{amp} value is {val:.3f}'.format(amp='Amplitude', val=100.12345)"
   ]
  },
  {
   "cell_type": "code",
   "execution_count": null,
   "id": "be61e8a3",
   "metadata": {
    "slideshow": {
     "slide_type": "fragment"
    }
   },
   "outputs": [],
   "source": [
    "x = {'amp' : 'Amplitude', 'val' : 100.12345} # словарь (поговорим позже)\n",
    "'{amp} value is {val:.4f}'.format(**x) # о **x поговорим позже"
   ]
  },
  {
   "cell_type": "markdown",
   "id": "71165e96",
   "metadata": {
    "slideshow": {
     "slide_type": "subslide"
    }
   },
   "source": [
    "#### f-строки"
   ]
  },
  {
   "cell_type": "code",
   "execution_count": null,
   "id": "fbf91e33",
   "metadata": {
    "slideshow": {
     "slide_type": "fragment"
    }
   },
   "outputs": [],
   "source": [
    "'{list(range(10))}'"
   ]
  },
  {
   "cell_type": "code",
   "execution_count": null,
   "id": "0f1fe0aa",
   "metadata": {
    "slideshow": {
     "slide_type": "fragment"
    }
   },
   "outputs": [],
   "source": [
    "f'{list(range(10))}'"
   ]
  },
  {
   "cell_type": "code",
   "execution_count": null,
   "id": "5e2c8585",
   "metadata": {
    "slideshow": {
     "slide_type": "fragment"
    }
   },
   "outputs": [],
   "source": [
    "a = 17\n",
    "b = 2.12434\n",
    "f'a = {a:+d}, b = {b:+.3f}'"
   ]
  },
  {
   "cell_type": "markdown",
   "id": "e0e6190f",
   "metadata": {
    "slideshow": {
     "slide_type": "slide"
    }
   },
   "source": [
    "### Запись в файл, чтение из файла"
   ]
  },
  {
   "cell_type": "code",
   "execution_count": null,
   "id": "f79267e3",
   "metadata": {
    "slideshow": {
     "slide_type": "fragment"
    }
   },
   "outputs": [],
   "source": [
    "with open('data.txt', 'w') as ofile:\n",
    "    for idx in range(9):\n",
    "        ofile.write(f'{idx**0.5:.6f} ')"
   ]
  },
  {
   "cell_type": "code",
   "execution_count": null,
   "id": "61279737",
   "metadata": {
    "slideshow": {
     "slide_type": "fragment"
    }
   },
   "outputs": [],
   "source": [
    "with open('data.txt', 'r') as ifile:\n",
    "    for line in ifile:\n",
    "        lst = [float(x) for x in line.strip().split()]\n",
    "lst"
   ]
  },
  {
   "cell_type": "markdown",
   "id": "262717fc",
   "metadata": {
    "slideshow": {
     "slide_type": "slide"
    }
   },
   "source": [
    "### Регулярные выражения \n",
    "https://docs.python.org/3/library/re.html"
   ]
  },
  {
   "cell_type": "markdown",
   "id": "84a4e505",
   "metadata": {
    "slideshow": {
     "slide_type": "subslide"
    }
   },
   "source": [
    "#### Пример\n",
    "Имеется список имен файлов. Среди всех имен найти только те, которые отвечают шаблону: \n",
    "```\n",
    "Месяц-число-год.txt\n",
    "```\n",
    "Для каждого имени файла извлечь месяц, число и год."
   ]
  },
  {
   "cell_type": "code",
   "execution_count": null,
   "id": "78592128",
   "metadata": {
    "slideshow": {
     "slide_type": "fragment"
    }
   },
   "outputs": [],
   "source": [
    "import re"
   ]
  },
  {
   "cell_type": "code",
   "execution_count": null,
   "id": "949f36a3",
   "metadata": {
    "slideshow": {
     "slide_type": "fragment"
    }
   },
   "outputs": [],
   "source": [
    "lst = ['data.txt', \n",
    "       'January-10-2021.db', \n",
    "       'February-11-2021.txt',\n",
    "       'July-16.1-2020.txt',\n",
    "       '1-July-11-2018.txt',\n",
    "       'August-01-2019.txt',\n",
    "      'Month-19-2018.txt']"
   ]
  },
  {
   "cell_type": "code",
   "execution_count": null,
   "id": "8c2ca9f6",
   "metadata": {
    "slideshow": {
     "slide_type": "subslide"
    }
   },
   "outputs": [],
   "source": [
    "def print_files(pattern, lst=lst):\n",
    "    prog = re.compile(pattern)\n",
    "    for el in lst:\n",
    "        res = prog.match(el)\n",
    "        if res:\n",
    "            print('{} matches the pattern'.format(res.group(0)))\n",
    "            print(res.group(1))\n",
    "            print(res.group(2))\n",
    "            print(res.group(3))\n",
    "            print('------------')"
   ]
  },
  {
   "cell_type": "code",
   "execution_count": null,
   "id": "e2d03666",
   "metadata": {
    "slideshow": {
     "slide_type": "subslide"
    }
   },
   "outputs": [],
   "source": [
    "print_files('(.*)-(.*)-(.*).txt')"
   ]
  },
  {
   "cell_type": "code",
   "execution_count": null,
   "id": "cc52392c",
   "metadata": {
    "slideshow": {
     "slide_type": "subslide"
    }
   },
   "outputs": [],
   "source": [
    "print_files('([A-Z][a-z]+)-([0-9]+)-([0-9]+).txt')"
   ]
  },
  {
   "cell_type": "code",
   "execution_count": null,
   "id": "0e5ba408",
   "metadata": {
    "slideshow": {
     "slide_type": "subslide"
    }
   },
   "outputs": [],
   "source": [
    "import calendar\n",
    "months = list(calendar.month_name)\n",
    "print(months)"
   ]
  },
  {
   "cell_type": "code",
   "execution_count": null,
   "id": "46ef58f7",
   "metadata": {
    "slideshow": {
     "slide_type": "fragment"
    }
   },
   "outputs": [],
   "source": [
    "months.remove('')\n",
    "months = '|'.join(months)\n",
    "print(months)"
   ]
  },
  {
   "cell_type": "code",
   "execution_count": null,
   "id": "16e03312",
   "metadata": {
    "slideshow": {
     "slide_type": "subslide"
    }
   },
   "outputs": [],
   "source": [
    "print_files('({})-([0-9]+)-([0-9]+).txt'.format(months))"
   ]
  },
  {
   "cell_type": "markdown",
   "id": "4e2e31c9",
   "metadata": {
    "slideshow": {
     "slide_type": "subslide"
    }
   },
   "source": [
    "Регулярные выражения можно также использовать для поиска (re.search) и замены (re.sub). Подробнее с регулярными выражениями можно познакомиться на странице https://docs.python.org/3/library/re.html."
   ]
  },
  {
   "cell_type": "markdown",
   "id": "31a1e5e2",
   "metadata": {
    "slideshow": {
     "slide_type": "slide"
    }
   },
   "source": [
    "## Что посмотреть / почитать\n",
    "* [https://docs.python.org/3/tutorial](https://docs.python.org/3/tutorial)\n",
    "* [https://www.learnpython.org](https://www.learnpython.org)\n",
    "* [The Hitchhiker's Guide to Python](https://docs.python-guide.org/)\n",
    "* [Материалы курса Yandex на GitHub](https://github.com/yandexdataschool/python_public)"
   ]
  }
 ],
 "metadata": {
  "celltoolbar": "Slideshow",
  "kernelspec": {
   "display_name": "Python 3 (ipykernel)",
   "language": "python",
   "name": "python3"
  },
  "language_info": {
   "codemirror_mode": {
    "name": "ipython",
    "version": 3
   },
   "file_extension": ".py",
   "mimetype": "text/x-python",
   "name": "python",
   "nbconvert_exporter": "python",
   "pygments_lexer": "ipython3",
   "version": "3.10.8"
  }
 },
 "nbformat": 4,
 "nbformat_minor": 5
}
