{
 "cells": [
  {
   "cell_type": "markdown",
   "id": "a56b9f20",
   "metadata": {},
   "source": [
    "# Лекция 7\n",
    "Грибанов Сергей Сергеевич, 7 декабря 2022\n",
    "\n",
    "# Пакет Numpy: эффективная работа с массивами"
   ]
  },
  {
   "cell_type": "code",
   "execution_count": null,
   "id": "ac069fd6",
   "metadata": {},
   "outputs": [],
   "source": [
    "import numpy as np"
   ]
  },
  {
   "cell_type": "code",
   "execution_count": null,
   "id": "38e8cb25",
   "metadata": {},
   "outputs": [],
   "source": [
    "np.__version__"
   ]
  },
  {
   "cell_type": "code",
   "execution_count": null,
   "id": "df6feb49",
   "metadata": {},
   "outputs": [],
   "source": [
    "import matplotlib.pyplot as plt\n",
    "%matplotlib inline  "
   ]
  },
  {
   "cell_type": "markdown",
   "id": "d3abcabe",
   "metadata": {},
   "source": [
    "### Сравнение cо списками"
   ]
  },
  {
   "cell_type": "code",
   "execution_count": null,
   "id": "bd3f1227",
   "metadata": {},
   "outputs": [],
   "source": [
    "a = np.arange(1000) # numpy-массив чисел от 0 до 999 включительно"
   ]
  },
  {
   "cell_type": "code",
   "execution_count": null,
   "id": "134835e3",
   "metadata": {},
   "outputs": [],
   "source": [
    "a"
   ]
  },
  {
   "cell_type": "markdown",
   "id": "386523c2",
   "metadata": {},
   "source": [
    "Измерим время поэлементного возведения в квадрат numpy-массива `a`:"
   ]
  },
  {
   "cell_type": "code",
   "execution_count": null,
   "id": "017992b4",
   "metadata": {},
   "outputs": [],
   "source": [
    "%%timeit\n",
    "a**2"
   ]
  },
  {
   "cell_type": "code",
   "execution_count": null,
   "id": "8cbfb2ae",
   "metadata": {},
   "outputs": [],
   "source": [
    "l = list(range(1000)) # список чисел от 0 до 999 включительно"
   ]
  },
  {
   "cell_type": "markdown",
   "id": "b53dd745",
   "metadata": {},
   "source": [
    "Измерем время поэлементного возведения в квадрат списка `l`:"
   ]
  },
  {
   "cell_type": "code",
   "execution_count": null,
   "id": "bee73a3f",
   "metadata": {},
   "outputs": [],
   "source": [
    "%%timeit\n",
    "[i**2 for i in l]"
   ]
  },
  {
   "cell_type": "markdown",
   "id": "e558f56f",
   "metadata": {},
   "source": [
    "Вывод: операции с numpy-массивами выполняются на порядок быстрее, чем со списаками"
   ]
  },
  {
   "cell_type": "markdown",
   "id": "21a28dec",
   "metadata": {},
   "source": [
    "### Создание массивов"
   ]
  },
  {
   "cell_type": "markdown",
   "id": "e8f4636f",
   "metadata": {},
   "source": [
    "#### Вручную"
   ]
  },
  {
   "cell_type": "markdown",
   "id": "9e74d8de",
   "metadata": {},
   "source": [
    "`1D`-массив:"
   ]
  },
  {
   "cell_type": "code",
   "execution_count": null,
   "id": "6934249a",
   "metadata": {
    "scrolled": true
   },
   "outputs": [],
   "source": [
    "a = np.array([1, 2, 3, 4, 5, 6])\n",
    "print(f'a = {a}\\ndim = {a.ndim}\\nshape={a.shape}\\ndtype={a.dtype}')"
   ]
  },
  {
   "cell_type": "code",
   "execution_count": null,
   "id": "4b39cdb7",
   "metadata": {},
   "outputs": [],
   "source": [
    "b = a.copy()\n",
    "b[2] = -5\n",
    "print(f'b = {b}')\n",
    "print(f'a = {a}')"
   ]
  },
  {
   "cell_type": "code",
   "execution_count": null,
   "id": "9c807348",
   "metadata": {},
   "outputs": [],
   "source": [
    "b = a.view()\n",
    "b[2] = -5\n",
    "print(f'b = {b}')\n",
    "print(f'a = {a}')"
   ]
  },
  {
   "cell_type": "code",
   "execution_count": null,
   "id": "42b7be45",
   "metadata": {},
   "outputs": [],
   "source": [
    "print(a.reshape(2, 3))"
   ]
  },
  {
   "cell_type": "code",
   "execution_count": null,
   "id": "7cce584b",
   "metadata": {},
   "outputs": [],
   "source": [
    "a"
   ]
  },
  {
   "cell_type": "code",
   "execution_count": null,
   "id": "d194f33b",
   "metadata": {},
   "outputs": [],
   "source": [
    "print(a.reshape(2, -1)) # -1 => numpy сам посчитает размер"
   ]
  },
  {
   "cell_type": "code",
   "execution_count": null,
   "id": "a64ba7e0",
   "metadata": {},
   "outputs": [],
   "source": [
    "b = a.reshape(2, -1) # view"
   ]
  },
  {
   "cell_type": "code",
   "execution_count": null,
   "id": "95479dfb",
   "metadata": {},
   "outputs": [],
   "source": [
    "print(a)"
   ]
  },
  {
   "cell_type": "code",
   "execution_count": null,
   "id": "e5fedba2",
   "metadata": {},
   "outputs": [],
   "source": [
    "print(b)"
   ]
  },
  {
   "cell_type": "code",
   "execution_count": null,
   "id": "cda5a633",
   "metadata": {
    "scrolled": true
   },
   "outputs": [],
   "source": [
    "b[0, 1] = 100\n",
    "print(a)"
   ]
  },
  {
   "cell_type": "code",
   "execution_count": null,
   "id": "a1fbc088",
   "metadata": {},
   "outputs": [],
   "source": [
    "b = np.resize(a, (2, 3))\n",
    "b[0,1] = -1"
   ]
  },
  {
   "cell_type": "code",
   "execution_count": null,
   "id": "a766a181",
   "metadata": {},
   "outputs": [],
   "source": [
    "print(a)"
   ]
  },
  {
   "cell_type": "code",
   "execution_count": null,
   "id": "1d44a535",
   "metadata": {},
   "outputs": [],
   "source": [
    "print(b)"
   ]
  },
  {
   "cell_type": "code",
   "execution_count": null,
   "id": "6d5daf86",
   "metadata": {},
   "outputs": [],
   "source": [
    "a.resize(2, 3) # in-place\n",
    "print(a)"
   ]
  },
  {
   "cell_type": "markdown",
   "id": "1937c080",
   "metadata": {},
   "source": [
    "`2D`-массив:"
   ]
  },
  {
   "cell_type": "code",
   "execution_count": null,
   "id": "0a85c7ca",
   "metadata": {
    "scrolled": false
   },
   "outputs": [],
   "source": [
    "a = np.array([[1, 2, 3], [4, 5, 6]])\n",
    "print(f'a =\\n {a}\\ndim = {a.ndim}\\nshape={a.shape}\\ndtype={a.dtype}')"
   ]
  },
  {
   "cell_type": "code",
   "execution_count": null,
   "id": "0d3254db",
   "metadata": {},
   "outputs": [],
   "source": [
    "print(a)"
   ]
  },
  {
   "cell_type": "code",
   "execution_count": null,
   "id": "658024ad",
   "metadata": {
    "scrolled": true
   },
   "outputs": [],
   "source": [
    "print(a.T) # view"
   ]
  },
  {
   "cell_type": "code",
   "execution_count": null,
   "id": "6749b14e",
   "metadata": {},
   "outputs": [],
   "source": [
    "b = a.T\n",
    "b[0, 1] = 10\n",
    "print(a)"
   ]
  },
  {
   "cell_type": "code",
   "execution_count": null,
   "id": "6fcde4f1",
   "metadata": {
    "scrolled": true
   },
   "outputs": [],
   "source": [
    "print(a.flatten()) # copy"
   ]
  },
  {
   "cell_type": "code",
   "execution_count": null,
   "id": "f79655ae",
   "metadata": {},
   "outputs": [],
   "source": [
    "print (a.ravel()) # view"
   ]
  },
  {
   "cell_type": "code",
   "execution_count": null,
   "id": "016d1f41",
   "metadata": {},
   "outputs": [],
   "source": [
    "print(a.T.ravel())"
   ]
  },
  {
   "cell_type": "markdown",
   "id": "03666251",
   "metadata": {},
   "source": [
    "В `numpy` можно создавать массивы произвольной размерности: `1D`, `2D`, `3D` и т.д."
   ]
  },
  {
   "cell_type": "markdown",
   "id": "cd1b2a8c",
   "metadata": {},
   "source": [
    "При создании numpy-массива не рекомендуется использовать в аргументе конструктора последовательности разной длины:"
   ]
  },
  {
   "cell_type": "code",
   "execution_count": null,
   "id": "cfe539ac",
   "metadata": {
    "scrolled": true
   },
   "outputs": [],
   "source": [
    "a = np.array([[1, 2, 3], [4, 5]])\n",
    "print(f'ndim={a.ndim}\\n\\033[1mshape={a.shape}\\033[0m\\ndtype={a.dtype}')"
   ]
  },
  {
   "cell_type": "markdown",
   "id": "968d405c",
   "metadata": {},
   "source": [
    "Т.е. в этом примере был создан не `2D`-массив чисел типа `int64`, а `1D`-массив объектов (в нашем случае - списков). Если `1D`-массив объектов - желаемый результат, то лучше сделать так:"
   ]
  },
  {
   "cell_type": "code",
   "execution_count": null,
   "id": "d047b486",
   "metadata": {},
   "outputs": [],
   "source": [
    "a = np.array([[1, 2, 3], [4, 5]], dtype=object)\n",
    "print(a)"
   ]
  },
  {
   "cell_type": "markdown",
   "id": "37821130",
   "metadata": {},
   "source": [
    "#### Стандартные массивы"
   ]
  },
  {
   "cell_type": "code",
   "execution_count": null,
   "id": "0738635a",
   "metadata": {},
   "outputs": [],
   "source": [
    "print(np.arange(10))"
   ]
  },
  {
   "cell_type": "code",
   "execution_count": null,
   "id": "6fa51a81",
   "metadata": {},
   "outputs": [],
   "source": [
    "print(np.arange(-1.5, 1.5, 0.5))"
   ]
  },
  {
   "cell_type": "code",
   "execution_count": null,
   "id": "d4c82613",
   "metadata": {},
   "outputs": [],
   "source": [
    "print(np.linspace(-5, 5, 100))"
   ]
  },
  {
   "cell_type": "code",
   "execution_count": null,
   "id": "4a472b23",
   "metadata": {},
   "outputs": [],
   "source": [
    "print(np.zeros(shape=(3, 3)))"
   ]
  },
  {
   "cell_type": "code",
   "execution_count": null,
   "id": "68f16ee5",
   "metadata": {},
   "outputs": [],
   "source": [
    "print(np.ones(shape=(3, 3)))"
   ]
  },
  {
   "cell_type": "code",
   "execution_count": null,
   "id": "831a152b",
   "metadata": {},
   "outputs": [],
   "source": [
    "print(np.eye(3))"
   ]
  },
  {
   "cell_type": "code",
   "execution_count": null,
   "id": "78ba6994",
   "metadata": {
    "scrolled": false
   },
   "outputs": [],
   "source": [
    "print(np.diag([-2, -1, 0, 1, 2]))"
   ]
  },
  {
   "cell_type": "markdown",
   "id": "869be7ee",
   "metadata": {},
   "source": [
    "#### Тип данных"
   ]
  },
  {
   "cell_type": "code",
   "execution_count": null,
   "id": "9193e887",
   "metadata": {},
   "outputs": [],
   "source": [
    "x = np.array([1, 2, 3], dtype=np.float32)\n",
    "print(x.dtype)\n",
    "print(x)"
   ]
  },
  {
   "cell_type": "code",
   "execution_count": null,
   "id": "33ab8c56",
   "metadata": {},
   "outputs": [],
   "source": [
    "x = np.array([1, 2, 3], dtype=np.float64)\n",
    "print(x.dtype)\n",
    "print(x)"
   ]
  },
  {
   "cell_type": "code",
   "execution_count": null,
   "id": "1d477fe5",
   "metadata": {},
   "outputs": [],
   "source": [
    "x = np.array([1, 2, 3], dtype=np.float128)\n",
    "print(x.dtype)\n",
    "print(x)"
   ]
  },
  {
   "cell_type": "code",
   "execution_count": null,
   "id": "b799dc9d",
   "metadata": {},
   "outputs": [],
   "source": [
    "x = np.ones(shape=(3, 3), dtype=np.complex256)\n",
    "print(x.dtype)\n",
    "print(x)"
   ]
  },
  {
   "cell_type": "markdown",
   "id": "bf6bed89",
   "metadata": {},
   "source": [
    "#### Генерация массивов случайных чисел"
   ]
  },
  {
   "cell_type": "markdown",
   "id": "33ec6bfa",
   "metadata": {},
   "source": [
    "Массив случайных чисел, равномерно распределенных в диапазоне `[0, 1)`:"
   ]
  },
  {
   "cell_type": "code",
   "execution_count": null,
   "id": "69338855",
   "metadata": {
    "scrolled": true
   },
   "outputs": [],
   "source": [
    "x = np.random.rand(3, 3)\n",
    "print(x)"
   ]
  },
  {
   "cell_type": "markdown",
   "id": "78efe0bc",
   "metadata": {},
   "source": [
    "Массив случайных чисел, равномерно распределенных в диапазоне `[a, b)`:"
   ]
  },
  {
   "cell_type": "code",
   "execution_count": null,
   "id": "d5515f0e",
   "metadata": {},
   "outputs": [],
   "source": [
    "a = 7\n",
    "b = 9\n",
    "x = a + (b - a) * np.random.rand(3, 3)\n",
    "print(x)"
   ]
  },
  {
   "cell_type": "markdown",
   "id": "e354e30e",
   "metadata": {},
   "source": [
    "Тоже массив случайных чисел, равномерно распределенных в диапазоне `[a, b)`:"
   ]
  },
  {
   "cell_type": "code",
   "execution_count": null,
   "id": "5255373b",
   "metadata": {
    "scrolled": false
   },
   "outputs": [],
   "source": [
    "x = np.random.uniform(a, b, size=(3, 3))\n",
    "print(x)"
   ]
  },
  {
   "cell_type": "markdown",
   "id": "f30c30c1",
   "metadata": {},
   "source": [
    "Одномерный массив чисел, равномерно распределенных в диапазоне `[a, b)':"
   ]
  },
  {
   "cell_type": "code",
   "execution_count": null,
   "id": "c1bd0c2a",
   "metadata": {},
   "outputs": [],
   "source": [
    "x = np.random.uniform(a, b, size=10000)\n",
    "plt.hist(x)"
   ]
  },
  {
   "cell_type": "markdown",
   "id": "2c34e687",
   "metadata": {},
   "source": [
    "Нормальное распределение"
   ]
  },
  {
   "cell_type": "code",
   "execution_count": null,
   "id": "1c2d4d86",
   "metadata": {},
   "outputs": [],
   "source": [
    "x = np.random.normal(3., 1., size=10000)\n",
    "plt.hist(x, bins=50)"
   ]
  },
  {
   "cell_type": "markdown",
   "id": "96179c8f",
   "metadata": {},
   "source": [
    "Многомерное нормальное распределение"
   ]
  },
  {
   "cell_type": "code",
   "execution_count": null,
   "id": "701c50f6",
   "metadata": {},
   "outputs": [],
   "source": [
    "mean = [-2, 5]\n",
    "cov = [[3, 3.5], [3.5, 10]]\n",
    "x = np.random.multivariate_normal(mean, cov, size=100000)\n",
    "plt.hist2d(x[:, 0], x[:, 1], bins=(100, 100))"
   ]
  },
  {
   "cell_type": "markdown",
   "id": "b242b997",
   "metadata": {},
   "source": [
    "Целые случайные числа из диапазона `[a, b)`:"
   ]
  },
  {
   "cell_type": "code",
   "execution_count": null,
   "id": "f292ba2d",
   "metadata": {},
   "outputs": [],
   "source": [
    "a = 5\n",
    "b = 10\n",
    "# При работе со случайными числами можно непосредственно создавать объект генератора случайных чисел.\n",
    "# Подробнее о генератор в numpy можно прочитать здесь: https://numpy.org/doc/stable/reference/random/generator.html\n",
    "rng = np.random.default_rng(seed=1)\n",
    "\n",
    "# Целые случайные числа из диапазона [a, b):\n",
    "x = rng.integers(a, b,  size=10)\n",
    "print(x)"
   ]
  },
  {
   "cell_type": "code",
   "execution_count": null,
   "id": "7b10ce82",
   "metadata": {
    "scrolled": false
   },
   "outputs": [],
   "source": [
    "lst = [3, 2, 1, 3, 4, 3, 2, 5, 3, 3, 2]\n",
    "N = 100000\n",
    "x = rng.choice(lst, size=N)\n",
    "print(x)"
   ]
  },
  {
   "cell_type": "code",
   "execution_count": null,
   "id": "324374f2",
   "metadata": {},
   "outputs": [],
   "source": [
    "from collections import Counter\n",
    "\n",
    "c0 = Counter(lst)\n",
    "c = Counter(x)\n",
    "for key, val in c.most_common():\n",
    "    print(f'value {key}:\\tP measured = {val / N},\\tP expected = {c0[key] / len(lst)}')"
   ]
  },
  {
   "cell_type": "markdown",
   "id": "2e9b5188",
   "metadata": {},
   "source": [
    "С `numpy` можно генерировать случайные величины, подчиняющиеся и другим распределениям. Подробнее об этом можно прочитать в документации: https://numpy.org/doc/1.16/reference/routines.random.html"
   ]
  },
  {
   "cell_type": "markdown",
   "id": "e9f8bc39",
   "metadata": {},
   "source": [
    "Случайная перестановка элементов:"
   ]
  },
  {
   "cell_type": "code",
   "execution_count": null,
   "id": "a605e20e",
   "metadata": {},
   "outputs": [],
   "source": [
    "lst = [1, 2, 3, 4, 5]\n",
    "np.random.shuffle(lst) # in-place\n",
    "# или используя заранее созданный объект генератора: rng.shuffle(lst)\n",
    "print(lst)"
   ]
  },
  {
   "cell_type": "code",
   "execution_count": null,
   "id": "8c38ec10",
   "metadata": {},
   "outputs": [],
   "source": [
    "lst = [1.1, -2, 3, 4, 5]\n",
    "x = np.random.permutation(lst)\n",
    "print(type(lst))\n",
    "print(lst)\n",
    "print(type(x))\n",
    "print(x)"
   ]
  },
  {
   "cell_type": "markdown",
   "id": "c931d832",
   "metadata": {},
   "source": [
    "### Индексация"
   ]
  },
  {
   "cell_type": "code",
   "execution_count": null,
   "id": "ab877898",
   "metadata": {},
   "outputs": [],
   "source": [
    "x = np.array([3, -2, 1, 5, 7, 9, -1, 0, 5, 6, 3, 2, -2, 3, 7])\n",
    "print(x[1])"
   ]
  },
  {
   "cell_type": "code",
   "execution_count": null,
   "id": "4fb000af",
   "metadata": {},
   "outputs": [],
   "source": [
    "print(x[2:5])"
   ]
  },
  {
   "cell_type": "code",
   "execution_count": null,
   "id": "aa0ec1c8",
   "metadata": {},
   "outputs": [],
   "source": [
    "print(x[2:12:3])"
   ]
  },
  {
   "cell_type": "code",
   "execution_count": null,
   "id": "056c3b9c",
   "metadata": {},
   "outputs": [],
   "source": [
    "print(x[::-1])"
   ]
  },
  {
   "cell_type": "code",
   "execution_count": null,
   "id": "30af8de0",
   "metadata": {},
   "outputs": [],
   "source": [
    "x = np.arange(9).reshape(3, -1)\n",
    "print(x)"
   ]
  },
  {
   "cell_type": "code",
   "execution_count": null,
   "id": "96475650",
   "metadata": {},
   "outputs": [],
   "source": [
    "print(x[1, 2])"
   ]
  },
  {
   "cell_type": "code",
   "execution_count": null,
   "id": "c5be6f42",
   "metadata": {},
   "outputs": [],
   "source": [
    "print(x[:, 1])"
   ]
  },
  {
   "cell_type": "code",
   "execution_count": null,
   "id": "17d8472f",
   "metadata": {},
   "outputs": [],
   "source": [
    "print(x[2, :])"
   ]
  },
  {
   "cell_type": "code",
   "execution_count": null,
   "id": "90448f43",
   "metadata": {
    "scrolled": true
   },
   "outputs": [],
   "source": [
    "print(x[1:, 1:])"
   ]
  },
  {
   "cell_type": "code",
   "execution_count": null,
   "id": "b1619b69",
   "metadata": {},
   "outputs": [],
   "source": [
    "x = np.random.normal(5, 1, size=100000)\n",
    "mask = np.abs(x - 5) <= 1.0\n",
    "print(mask)"
   ]
  },
  {
   "cell_type": "code",
   "execution_count": null,
   "id": "2944c0ac",
   "metadata": {
    "scrolled": true
   },
   "outputs": [],
   "source": [
    "\n",
    "y = x[mask]\n",
    "\n",
    "bins = 50\n",
    "bins = np.histogram(np.hstack((x, y)), bins=bins)[1]\n",
    "plt.hist(x, bins=bins)\n",
    "plt.hist(y, bins=bins)"
   ]
  },
  {
   "cell_type": "code",
   "execution_count": null,
   "id": "7274c328",
   "metadata": {
    "scrolled": true
   },
   "outputs": [],
   "source": [
    "z = x.copy()\n",
    "z[mask] = 1 # изменяются элементы массива z, элементы массива x не меняются, т.к. мы копировали x в z\n",
    "z[~mask] = 0\n",
    "plt.hist(z, bins=2)"
   ]
  },
  {
   "cell_type": "markdown",
   "id": "92bfb85a",
   "metadata": {},
   "source": [
    "Пример: вычисление интеграла методом Симпсона\n",
    "\\begin{equation}\n",
    "\\begin{split}\n",
    "\\int\\limits^b_a f(x)dx &= \\frac{h}{3}\\sum\\limits^{N-1}_{k=1,3,5,\\ldots}\\left[f(x_{k-1}) + 4f(x_{k}) + f(x_{k+1})\\right],\\\\\n",
    "x_k &= a + kh, \\\\\n",
    "h &= \\frac{b - a}{N}\n",
    "\\end{split}\n",
    "\\end{equation}"
   ]
  },
  {
   "cell_type": "markdown",
   "id": "655a7ba5",
   "metadata": {},
   "source": [
    "С использованием `np.vectorize`"
   ]
  },
  {
   "cell_type": "code",
   "execution_count": null,
   "id": "31f21634",
   "metadata": {},
   "outputs": [],
   "source": [
    "def simpson_int_v1(fcn, a, b, N=10000000):\n",
    "    x = np.linspace(a, b, N)\n",
    "    h = x[1] - x[0]\n",
    "    g = np.vectorize(fcn)\n",
    "    return h/3 * np.sum(g(x[0:N-2:2]) + 4*g(x[1:N-1:2]) + g(x[2:N:2]))"
   ]
  },
  {
   "cell_type": "code",
   "execution_count": null,
   "id": "df056661",
   "metadata": {
    "code_folding": []
   },
   "outputs": [],
   "source": [
    "%%time\n",
    "simpson_int_v1(lambda x: x**3, 0, 1)"
   ]
  },
  {
   "cell_type": "markdown",
   "id": "ea7fd1fd",
   "metadata": {},
   "source": [
    "`np.vectorize` векторизует функцию `fcn`, т.е. вызывает Python-овскую функцию `fcn` на каждый элемент массива, \n",
    "поэтому приведенный выше пример не  претендует на высокую производительность.\n",
    "\n",
    "Рассмотрим второй вариант функции интегрирования:"
   ]
  },
  {
   "cell_type": "code",
   "execution_count": null,
   "id": "bd936fec",
   "metadata": {},
   "outputs": [],
   "source": [
    "def simpson_int_v2(fcn, a, b, N=10000000):\n",
    "    x = np.linspace(a, b, N)\n",
    "    h = x[1] - x[0]\n",
    "    return h/3 * np.sum(fcn(x[0:N-2:2]) + 4*fcn(x[1:N-1:2]) + fcn(x[2:N:2]))"
   ]
  },
  {
   "cell_type": "code",
   "execution_count": null,
   "id": "4de2f8e1",
   "metadata": {},
   "outputs": [],
   "source": [
    "%%time\n",
    "simpson_int_v2(lambda x: x**3, 0, 1)"
   ]
  },
  {
   "cell_type": "markdown",
   "id": "ed10a6bc",
   "metadata": {},
   "source": [
    "### Операции с массивами"
   ]
  },
  {
   "cell_type": "markdown",
   "id": "22b9e9aa",
   "metadata": {},
   "source": [
    "#### Арифметические операции и функции"
   ]
  },
  {
   "cell_type": "code",
   "execution_count": null,
   "id": "0b97d831",
   "metadata": {},
   "outputs": [],
   "source": [
    "a = np.arange(10)\n",
    "print(a + 5)"
   ]
  },
  {
   "cell_type": "code",
   "execution_count": null,
   "id": "3e7b732c",
   "metadata": {},
   "outputs": [],
   "source": [
    "print(a**2)"
   ]
  },
  {
   "cell_type": "code",
   "execution_count": null,
   "id": "9a3650ae",
   "metadata": {},
   "outputs": [],
   "source": [
    "print(np.exp(a))"
   ]
  },
  {
   "cell_type": "code",
   "execution_count": null,
   "id": "ad1d84af",
   "metadata": {},
   "outputs": [],
   "source": [
    "print(np.sin(a))"
   ]
  },
  {
   "cell_type": "code",
   "execution_count": null,
   "id": "e7065ba1",
   "metadata": {},
   "outputs": [],
   "source": [
    "x = 2 * np.ones(3)\n",
    "print(x)"
   ]
  },
  {
   "cell_type": "code",
   "execution_count": null,
   "id": "881ba339",
   "metadata": {},
   "outputs": [],
   "source": [
    "y = np.array([1, -2, 3])\n",
    "print(x * y)"
   ]
  },
  {
   "cell_type": "code",
   "execution_count": null,
   "id": "c6ce62a4",
   "metadata": {},
   "outputs": [],
   "source": [
    "print(np.dot(x, y)) # скалярное произведение"
   ]
  },
  {
   "cell_type": "code",
   "execution_count": null,
   "id": "142c9395",
   "metadata": {},
   "outputs": [],
   "source": [
    "print(np.cross(x, y)) # векторное произведение"
   ]
  },
  {
   "cell_type": "markdown",
   "id": "fb83bfc4",
   "metadata": {},
   "source": [
    "#### Логические операции"
   ]
  },
  {
   "cell_type": "code",
   "execution_count": null,
   "id": "2a5d2469",
   "metadata": {},
   "outputs": [],
   "source": [
    "x = np.ones(10)\n",
    "y = np.random.choice([1, 1, 1, 2], size=10)\n",
    "print(x==y)"
   ]
  },
  {
   "cell_type": "code",
   "execution_count": null,
   "id": "be8d2424",
   "metadata": {},
   "outputs": [],
   "source": [
    "x = np.linspace(0, 1.e-3, 10000)\n",
    "y = np.sin(x)\n",
    "print(np.allclose(x, y))"
   ]
  },
  {
   "cell_type": "code",
   "execution_count": null,
   "id": "87262da4",
   "metadata": {},
   "outputs": [],
   "source": [
    "x = np.array([1, 0, 1], dtype=bool)\n",
    "y = np.array([1, 1, 0], dtype=bool)\n",
    "print(f'x = {x}')\n",
    "print(f'y = {y}')"
   ]
  },
  {
   "cell_type": "code",
   "execution_count": null,
   "id": "e5e49dde",
   "metadata": {},
   "outputs": [],
   "source": [
    "print(f'x = {~x}')"
   ]
  },
  {
   "cell_type": "code",
   "execution_count": null,
   "id": "51cc056f",
   "metadata": {},
   "outputs": [],
   "source": [
    "print(x & y)"
   ]
  },
  {
   "cell_type": "code",
   "execution_count": null,
   "id": "b5489218",
   "metadata": {},
   "outputs": [],
   "source": [
    "print(x | y)"
   ]
  },
  {
   "cell_type": "code",
   "execution_count": null,
   "id": "2fd38459",
   "metadata": {},
   "outputs": [],
   "source": [
    "print(np.any(x))"
   ]
  },
  {
   "cell_type": "code",
   "execution_count": null,
   "id": "d6e8e28f",
   "metadata": {},
   "outputs": [],
   "source": [
    "print(np.all(x))"
   ]
  },
  {
   "cell_type": "markdown",
   "id": "78780dd5",
   "metadata": {},
   "source": [
    "#### Суммирование"
   ]
  },
  {
   "cell_type": "code",
   "execution_count": null,
   "id": "9b8abccc",
   "metadata": {},
   "outputs": [],
   "source": [
    "x = np.ones(10)"
   ]
  },
  {
   "cell_type": "code",
   "execution_count": null,
   "id": "a1bd055e",
   "metadata": {},
   "outputs": [],
   "source": [
    "print(np.sum(x))"
   ]
  },
  {
   "cell_type": "code",
   "execution_count": null,
   "id": "257b5a73",
   "metadata": {},
   "outputs": [],
   "source": [
    "print(x.sum())"
   ]
  },
  {
   "cell_type": "code",
   "execution_count": null,
   "id": "1915b01c",
   "metadata": {},
   "outputs": [],
   "source": [
    "x = np.arange(9).reshape(3, -1)\n",
    "print(x)"
   ]
  },
  {
   "cell_type": "code",
   "execution_count": null,
   "id": "f1e01f6c",
   "metadata": {},
   "outputs": [],
   "source": [
    "print(x.sum(axis=0))"
   ]
  },
  {
   "cell_type": "code",
   "execution_count": null,
   "id": "54b14ab0",
   "metadata": {},
   "outputs": [],
   "source": [
    "print(x.sum(axis=1))"
   ]
  },
  {
   "cell_type": "markdown",
   "id": "e7b7b4c8",
   "metadata": {},
   "source": [
    "#### Экстремумы"
   ]
  },
  {
   "cell_type": "code",
   "execution_count": null,
   "id": "f3e4fc4c",
   "metadata": {},
   "outputs": [],
   "source": [
    "x = np.linspace(0, 2 * np.pi, 10000)\n",
    "y = np.sin(x)"
   ]
  },
  {
   "cell_type": "code",
   "execution_count": null,
   "id": "5b362177",
   "metadata": {},
   "outputs": [],
   "source": [
    "print(y.min())"
   ]
  },
  {
   "cell_type": "code",
   "execution_count": null,
   "id": "43649b1c",
   "metadata": {},
   "outputs": [],
   "source": [
    "print(y.max())"
   ]
  },
  {
   "cell_type": "code",
   "execution_count": null,
   "id": "bec49fdb",
   "metadata": {},
   "outputs": [],
   "source": [
    "print(y.argmin())\n",
    "print(x[y.argmin()] / np.pi)"
   ]
  },
  {
   "cell_type": "code",
   "execution_count": null,
   "id": "987ecd97",
   "metadata": {},
   "outputs": [],
   "source": [
    "print(y.argmax())"
   ]
  },
  {
   "cell_type": "markdown",
   "id": "362f0d8a",
   "metadata": {},
   "source": [
    "* Статистика"
   ]
  },
  {
   "cell_type": "code",
   "execution_count": null,
   "id": "a0a62d8b",
   "metadata": {},
   "outputs": [],
   "source": [
    "x = np.random.normal(5, 3, size=50)"
   ]
  },
  {
   "cell_type": "markdown",
   "id": "dc27fd01",
   "metadata": {},
   "source": [
    "Выборочная оценка среднего:\n",
    "\n",
    "\\begin{equation}\n",
    "\\bar{x} = \\frac{1}{N}\\sum\\limits^N_1x_k\n",
    "\\end{equation}"
   ]
  },
  {
   "cell_type": "code",
   "execution_count": null,
   "id": "70d5152b",
   "metadata": {
    "scrolled": true
   },
   "outputs": [],
   "source": [
    "print(x.mean())"
   ]
  },
  {
   "cell_type": "markdown",
   "id": "23db9d05",
   "metadata": {},
   "source": [
    "Смещенная выборочная оценка стандартного отклонения:\n",
    "\n",
    "\\begin{equation}\n",
    "\\sigma=\\sqrt{\\frac{1}{N}\\sum\\limits^N_{k=1}\\left(x_k - \\overline{x}\\right)^2}\n",
    "\\end{equation}"
   ]
  },
  {
   "cell_type": "code",
   "execution_count": null,
   "id": "4bcf53f8",
   "metadata": {
    "scrolled": true
   },
   "outputs": [],
   "source": [
    "print(x.std())"
   ]
  },
  {
   "cell_type": "markdown",
   "id": "57028ebf",
   "metadata": {},
   "source": [
    "Несмещенная выборочная оценка стандартного отклонения:\n",
    "\n",
    "\\begin{equation}\n",
    "\\sigma_{\\text{corr}}=\\sqrt{\\frac{1}{N-1}\\sum\\limits^N_{k=1}\\left(x_k - \\overline{x}\\right)^2}\n",
    "\\end{equation}"
   ]
  },
  {
   "cell_type": "code",
   "execution_count": null,
   "id": "c15c596a",
   "metadata": {},
   "outputs": [],
   "source": [
    "print(x.std(ddof=1))"
   ]
  },
  {
   "cell_type": "code",
   "execution_count": null,
   "id": "9cf72680",
   "metadata": {},
   "outputs": [],
   "source": [
    "# медиана - такое значение x, левее и правее которго находится одинаковое число элементов\n",
    "# медиана не всегда совпадает со средним\n",
    "print(np.median(x))"
   ]
  },
  {
   "cell_type": "markdown",
   "id": "f2fdc019",
   "metadata": {},
   "source": [
    "#### Сортировка"
   ]
  },
  {
   "cell_type": "code",
   "execution_count": null,
   "id": "4f62da3f",
   "metadata": {},
   "outputs": [],
   "source": [
    "x = np.random.randint(1, 10, size=(3, 3))\n",
    "print(x)"
   ]
  },
  {
   "cell_type": "code",
   "execution_count": null,
   "id": "34c373e9",
   "metadata": {},
   "outputs": [],
   "source": [
    "print(np.sort(x, axis=0))"
   ]
  },
  {
   "cell_type": "code",
   "execution_count": null,
   "id": "0ecc2850",
   "metadata": {},
   "outputs": [],
   "source": [
    "print(np.sort(x, axis=1))"
   ]
  },
  {
   "cell_type": "code",
   "execution_count": null,
   "id": "b18e1e1e",
   "metadata": {},
   "outputs": [],
   "source": [
    "x.sort(axis=0) # in-place sort\n",
    "print(x)"
   ]
  },
  {
   "cell_type": "code",
   "execution_count": null,
   "id": "fc83c88b",
   "metadata": {},
   "outputs": [],
   "source": [
    "x = np.linspace(-10, 10, 20)\n",
    "mask = np.argsort(np.abs(x - 3))\n",
    "print(x[mask])"
   ]
  },
  {
   "cell_type": "markdown",
   "id": "a50072c8",
   "metadata": {},
   "source": [
    "#### Broadcasting\n",
    "* Основные операции над массивами `numpy` выполняются поэлементно\n",
    "* Необходимо следить за соответствием размеров массивов\n",
    "* В некоторых случаях можно выполнять операции с массивами разных размеров. При этом `numpy` автоматически преобразовывает размеры массивов"
   ]
  },
  {
   "cell_type": "code",
   "execution_count": null,
   "id": "8c50c6d5",
   "metadata": {},
   "outputs": [],
   "source": [
    "a = np.ones((4, 5))\n",
    "print(a)"
   ]
  },
  {
   "cell_type": "code",
   "execution_count": null,
   "id": "e91c888c",
   "metadata": {},
   "outputs": [],
   "source": [
    "a[0] = 2\n",
    "print(a)"
   ]
  },
  {
   "cell_type": "code",
   "execution_count": null,
   "id": "c9f48f0d",
   "metadata": {},
   "outputs": [],
   "source": [
    "a += 1\n",
    "print(a)"
   ]
  },
  {
   "cell_type": "code",
   "execution_count": null,
   "id": "2646f2aa",
   "metadata": {
    "scrolled": true
   },
   "outputs": [],
   "source": [
    "a += np.array([1, 2, 3, 4, 5])\n",
    "print(a)"
   ]
  },
  {
   "cell_type": "markdown",
   "id": "6abe3a3b",
   "metadata": {},
   "source": [
    "### Линейная алгебра с `numpy`"
   ]
  },
  {
   "cell_type": "code",
   "execution_count": null,
   "id": "aabc1ff0",
   "metadata": {},
   "outputs": [],
   "source": [
    "A = np.array([[1, 2, 3], [1, 1, 1]])\n",
    "v = np.array([1, -1, 1]).reshape(1, -1) # вектор-строка\n",
    "print(A @ v.T)"
   ]
  },
  {
   "cell_type": "code",
   "execution_count": null,
   "id": "f33e8ed8",
   "metadata": {},
   "outputs": [],
   "source": [
    "A = np.array([[1, -1, 2], [-1, 3, 3], [2, 3, 1]])\n",
    "print(A)"
   ]
  },
  {
   "cell_type": "code",
   "execution_count": null,
   "id": "2fa2b51c",
   "metadata": {},
   "outputs": [],
   "source": [
    "v @ A @ v.T"
   ]
  },
  {
   "cell_type": "code",
   "execution_count": null,
   "id": "43a4787b",
   "metadata": {},
   "outputs": [],
   "source": [
    "(v @ A @ v.T).item()"
   ]
  },
  {
   "cell_type": "code",
   "execution_count": null,
   "id": "f2470aa6",
   "metadata": {},
   "outputs": [],
   "source": [
    "np.linalg.det(A)"
   ]
  },
  {
   "cell_type": "code",
   "execution_count": null,
   "id": "8e9646cb",
   "metadata": {},
   "outputs": [],
   "source": [
    "np.linalg.inv(A) * A"
   ]
  },
  {
   "cell_type": "code",
   "execution_count": null,
   "id": "916ae4b2",
   "metadata": {},
   "outputs": [],
   "source": [
    "v * A * v.T"
   ]
  },
  {
   "cell_type": "code",
   "execution_count": null,
   "id": "4a574414",
   "metadata": {},
   "outputs": [],
   "source": [
    "v = np.matrix(v)\n",
    "A = np.matrix(A)\n",
    "v * A * v.T"
   ]
  },
  {
   "cell_type": "code",
   "execution_count": null,
   "id": "e4b31f08",
   "metadata": {},
   "outputs": [],
   "source": [
    "evals, evecs = np.linalg.eig(A)"
   ]
  },
  {
   "cell_type": "code",
   "execution_count": null,
   "id": "e88c1adc",
   "metadata": {},
   "outputs": [],
   "source": [
    "print(evecs[:, 0])"
   ]
  },
  {
   "cell_type": "code",
   "execution_count": null,
   "id": "998a7364",
   "metadata": {
    "scrolled": true
   },
   "outputs": [],
   "source": [
    "A * evecs[:, 0] / evals[0]"
   ]
  },
  {
   "cell_type": "markdown",
   "id": "849b96e5",
   "metadata": {},
   "source": [
    "Сингулярное разложение: \n",
    "\\begin{equation}\n",
    "A = U\\Sigma{V^\\dagger}\n",
    "\\end{equation}"
   ]
  },
  {
   "cell_type": "code",
   "execution_count": null,
   "id": "35e432a5",
   "metadata": {},
   "outputs": [],
   "source": [
    "u, v, vh = np.linalg.svd(A)"
   ]
  },
  {
   "cell_type": "markdown",
   "id": "b0f4b0e8",
   "metadata": {},
   "source": [
    "### Полиномы в `numpy`\n",
    "Пример: $3𝑥^2+2𝑥−1$"
   ]
  },
  {
   "cell_type": "code",
   "execution_count": null,
   "id": "62d84bad",
   "metadata": {},
   "outputs": [],
   "source": [
    "p = np.polynomial.Polynomial([-1, 2, 3, 0, 5])\n",
    "p"
   ]
  },
  {
   "cell_type": "code",
   "execution_count": null,
   "id": "9e2f9244",
   "metadata": {},
   "outputs": [],
   "source": [
    "p(0)"
   ]
  },
  {
   "cell_type": "code",
   "execution_count": null,
   "id": "962457cb",
   "metadata": {},
   "outputs": [],
   "source": [
    "p.degree()"
   ]
  },
  {
   "cell_type": "code",
   "execution_count": null,
   "id": "048faeec",
   "metadata": {},
   "outputs": [],
   "source": [
    "print(p.roots())"
   ]
  },
  {
   "cell_type": "code",
   "execution_count": null,
   "id": "e13e7c33",
   "metadata": {},
   "outputs": [],
   "source": [
    "rng = np.random.default_rng(seed=1)\n",
    "x = np.linspace(-0.5, 0.5, 200)\n",
    "y = np.cos(2*x + 0.3)\n",
    "y = np.random.normal(y, 0.05)\n",
    "p = np.polynomial.Chebyshev.fit(x, y, 6);\n",
    "p"
   ]
  },
  {
   "cell_type": "code",
   "execution_count": null,
   "id": "fa25f329",
   "metadata": {},
   "outputs": [],
   "source": [
    "import matplotlib.pyplot as plt\n",
    "plt.figure(num=2, figsize=(20, 7))\n",
    "plt.plot(x, y, '.')\n",
    "plt.plot(x, p(x))\n",
    "plt.show()"
   ]
  },
  {
   "cell_type": "code",
   "execution_count": null,
   "id": "b7c14fd3",
   "metadata": {},
   "outputs": [],
   "source": [
    "def fcn(x1):\n",
    "    a, om, phi = x1\n",
    "    return np.sum((y - a*np.cos(om*x + phi))**2)\n",
    "\n",
    "from scipy.optimize import minimize"
   ]
  },
  {
   "cell_type": "code",
   "execution_count": null,
   "id": "50e5cb74",
   "metadata": {},
   "outputs": [],
   "source": [
    "fitres = minimize(fcn, [1.1, 1.8, 0.0])\n",
    "a0, om0, phi0 = fitres.x\n",
    "fitres"
   ]
  },
  {
   "cell_type": "code",
   "execution_count": null,
   "id": "01a9e103",
   "metadata": {},
   "outputs": [],
   "source": [
    "plt.figure(num=2, figsize=(20, 7))\n",
    "plt.plot(x, y, '.')\n",
    "plt.plot(x, p(x))\n",
    "plt.plot(x, a0 * np.cos(om0 * x + phi0))\n",
    "plt.show()"
   ]
  },
  {
   "cell_type": "markdown",
   "id": "c6847027",
   "metadata": {},
   "source": [
    "#### Работа с файлами в `numpy`\n",
    "* Бинарный формат `.npy` позволяет быстро записывать/считывать данные, выполняет сжатие данных\n",
    "* `numpy` поддерживает несколько других форматов данных. Читайте документацию"
   ]
  },
  {
   "cell_type": "code",
   "execution_count": null,
   "id": "e02e4e3d",
   "metadata": {},
   "outputs": [],
   "source": [
    "mean = [-2, 5]\n",
    "cov = [[3, 3.5], [3.5, 10]]\n",
    "x = np.random.multivariate_normal(mean, cov, size=100000)\n",
    "np.savetxt('myarray.txt', x)\n",
    "np.save('myarray.npy', x)"
   ]
  },
  {
   "cell_type": "code",
   "execution_count": null,
   "id": "8def1a60",
   "metadata": {},
   "outputs": [],
   "source": [
    "y = np.loadtxt('myarray.txt')\n",
    "plt.hist2d(x[:, 0], x[:, 1], bins=(100, 100))"
   ]
  },
  {
   "cell_type": "code",
   "execution_count": null,
   "id": "66f7a459",
   "metadata": {},
   "outputs": [],
   "source": [
    "y = np.load('myarray.npy')\n",
    "plt.hist2d(x[:, 0], x[:, 1], bins=(100, 100))"
   ]
  }
 ],
 "metadata": {
  "kernelspec": {
   "display_name": "Python 3 (ipykernel)",
   "language": "python",
   "name": "python3"
  },
  "language_info": {
   "codemirror_mode": {
    "name": "ipython",
    "version": 3
   },
   "file_extension": ".py",
   "mimetype": "text/x-python",
   "name": "python",
   "nbconvert_exporter": "python",
   "pygments_lexer": "ipython3",
   "version": "3.10.8"
  },
  "varInspector": {
   "cols": {
    "lenName": 16,
    "lenType": 16,
    "lenVar": 40
   },
   "kernels_config": {
    "python": {
     "delete_cmd_postfix": "",
     "delete_cmd_prefix": "del ",
     "library": "var_list.py",
     "varRefreshCmd": "print(var_dic_list())"
    },
    "r": {
     "delete_cmd_postfix": ") ",
     "delete_cmd_prefix": "rm(",
     "library": "var_list.r",
     "varRefreshCmd": "cat(var_dic_list()) "
    }
   },
   "types_to_exclude": [
    "module",
    "function",
    "builtin_function_or_method",
    "instance",
    "_Feature"
   ],
   "window_display": false
  }
 },
 "nbformat": 4,
 "nbformat_minor": 5
}
