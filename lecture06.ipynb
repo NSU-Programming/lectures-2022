{
 "cells": [
  {
   "cell_type": "markdown",
   "id": "20a99f92",
   "metadata": {
    "slideshow": {
     "slide_type": "slide"
    }
   },
   "source": [
    "## Введение в язык Python\n",
    "Курс \"Программирование на C++ и Python\", ФФ НГУ  \n",
    "Грибанов Сергей Сергеевич  \n",
    "23 ноября 2021"
   ]
  },
  {
   "cell_type": "markdown",
   "id": "cf0d913f",
   "metadata": {
    "slideshow": {
     "slide_type": "slide"
    }
   },
   "source": [
    "## Форматирование строк"
   ]
  },
  {
   "cell_type": "code",
   "execution_count": null,
   "id": "c29294ff",
   "metadata": {
    "slideshow": {
     "slide_type": "fragment"
    }
   },
   "outputs": [],
   "source": [
    "person = 'Sergei'\n",
    "'Hello, {}!'.format(person)"
   ]
  },
  {
   "cell_type": "markdown",
   "id": "16211b97",
   "metadata": {
    "slideshow": {
     "slide_type": "subslide"
    }
   },
   "source": [
    "Формат целых чисел"
   ]
  },
  {
   "cell_type": "code",
   "execution_count": null,
   "id": "94f8187d",
   "metadata": {
    "slideshow": {
     "slide_type": "fragment"
    }
   },
   "outputs": [],
   "source": [
    "print('x = {:6d}'.format(12))"
   ]
  },
  {
   "cell_type": "code",
   "execution_count": null,
   "id": "f9aca3fb",
   "metadata": {
    "slideshow": {
     "slide_type": "fragment"
    }
   },
   "outputs": [],
   "source": [
    "print('x = {:06d}'.format(12))"
   ]
  },
  {
   "cell_type": "code",
   "execution_count": null,
   "id": "98d421cb",
   "metadata": {
    "slideshow": {
     "slide_type": "fragment"
    }
   },
   "outputs": [],
   "source": [
    "print('({x:6d}, {y:>6d})'.format(x = 12, y = 13))"
   ]
  },
  {
   "cell_type": "code",
   "execution_count": null,
   "id": "da1a2e20",
   "metadata": {
    "slideshow": {
     "slide_type": "fragment"
    }
   },
   "outputs": [],
   "source": [
    "print('({x:<6d}, {y:<6d})'.format(x = 12, y = 13))"
   ]
  },
  {
   "cell_type": "code",
   "execution_count": null,
   "id": "aee8e4e4",
   "metadata": {
    "slideshow": {
     "slide_type": "fragment"
    }
   },
   "outputs": [],
   "source": [
    "print('({x:^6d}, {y:^6d})'.format(x = 12, y = 13))"
   ]
  },
  {
   "cell_type": "code",
   "execution_count": null,
   "id": "112310ba",
   "metadata": {
    "slideshow": {
     "slide_type": "subslide"
    }
   },
   "outputs": [],
   "source": [
    "print('x = {:<+6d}'.format(12))"
   ]
  },
  {
   "cell_type": "code",
   "execution_count": null,
   "id": "7ed44707",
   "metadata": {
    "slideshow": {
     "slide_type": "fragment"
    }
   },
   "outputs": [],
   "source": [
    "print('x = {:<+6d}'.format(-12))"
   ]
  },
  {
   "cell_type": "markdown",
   "id": "883610e3",
   "metadata": {
    "slideshow": {
     "slide_type": "subslide"
    }
   },
   "source": [
    "Формат чисел с плавающей точкой"
   ]
  },
  {
   "cell_type": "code",
   "execution_count": null,
   "id": "2a4aadd6",
   "metadata": {
    "slideshow": {
     "slide_type": "fragment"
    }
   },
   "outputs": [],
   "source": [
    "print('x = {:.3f}'.format(1.2345))"
   ]
  },
  {
   "cell_type": "code",
   "execution_count": null,
   "id": "fdc14579",
   "metadata": {
    "scrolled": false,
    "slideshow": {
     "slide_type": "fragment"
    }
   },
   "outputs": [],
   "source": [
    "print('x = {:+10.3f}'.format(-1.2345))"
   ]
  },
  {
   "cell_type": "markdown",
   "id": "4e30bf62",
   "metadata": {
    "slideshow": {
     "slide_type": "subslide"
    }
   },
   "source": [
    "Формат строк"
   ]
  },
  {
   "cell_type": "code",
   "execution_count": null,
   "id": "64ee619e",
   "metadata": {
    "slideshow": {
     "slide_type": "fragment"
    }
   },
   "outputs": [],
   "source": [
    "s = 'Hello'\n",
    "print('{:~^11s}'.format(s))"
   ]
  },
  {
   "cell_type": "markdown",
   "id": "038b13c8",
   "metadata": {
    "slideshow": {
     "slide_type": "subslide"
    }
   },
   "source": [
    "Примеры форматирования"
   ]
  },
  {
   "cell_type": "code",
   "execution_count": null,
   "id": "81008d0c",
   "metadata": {
    "slideshow": {
     "slide_type": "fragment"
    }
   },
   "outputs": [],
   "source": [
    "'{} = {}'.format('amplitude', 100.12345)"
   ]
  },
  {
   "cell_type": "code",
   "execution_count": null,
   "id": "8f5919d1",
   "metadata": {
    "slideshow": {
     "slide_type": "fragment"
    }
   },
   "outputs": [],
   "source": [
    "'{1} = {0}'.format('amplitude', 100.12345)"
   ]
  },
  {
   "cell_type": "code",
   "execution_count": null,
   "id": "c3304dda",
   "metadata": {
    "slideshow": {
     "slide_type": "fragment"
    }
   },
   "outputs": [],
   "source": [
    "'{amp} value is {val}'.format(amp='Amplitude', val=100.12345)"
   ]
  },
  {
   "cell_type": "code",
   "execution_count": null,
   "id": "7452461a",
   "metadata": {
    "slideshow": {
     "slide_type": "fragment"
    }
   },
   "outputs": [],
   "source": [
    "'{amp} value is {val:.3f}'.format(amp='Amplitude', val=100.12345)"
   ]
  },
  {
   "cell_type": "code",
   "execution_count": null,
   "id": "367520af",
   "metadata": {
    "slideshow": {
     "slide_type": "fragment"
    }
   },
   "outputs": [],
   "source": [
    "x = {'amp' : 'Amplitude', 'val' : 100.12345}\n",
    "'{amp} value is {val:.4f}'.format(**x) "
   ]
  },
  {
   "cell_type": "markdown",
   "id": "b5ca9d4f",
   "metadata": {
    "slideshow": {
     "slide_type": "subslide"
    }
   },
   "source": [
    "### f-строки"
   ]
  },
  {
   "cell_type": "code",
   "execution_count": null,
   "id": "0f6f45b6",
   "metadata": {
    "slideshow": {
     "slide_type": "fragment"
    }
   },
   "outputs": [],
   "source": [
    "f'{list(range(10))}'"
   ]
  },
  {
   "cell_type": "code",
   "execution_count": null,
   "id": "3558cfb6",
   "metadata": {
    "slideshow": {
     "slide_type": "fragment"
    }
   },
   "outputs": [],
   "source": [
    "a = 17\n",
    "b = 2.12434\n",
    "f'a = {a:+d}, b = {b:+.3f}'"
   ]
  },
  {
   "cell_type": "markdown",
   "id": "d6571b55",
   "metadata": {
    "slideshow": {
     "slide_type": "slide"
    }
   },
   "source": [
    "## Запись в файл, чтение из файла"
   ]
  },
  {
   "cell_type": "code",
   "execution_count": null,
   "id": "2dd0088e",
   "metadata": {
    "slideshow": {
     "slide_type": "fragment"
    }
   },
   "outputs": [],
   "source": [
    "with open('data.txt', 'w') as ofile:\n",
    "    for idx in range(9):\n",
    "        ofile.write(f'{idx**0.5:.6f} ')"
   ]
  },
  {
   "cell_type": "code",
   "execution_count": null,
   "id": "db65d09a",
   "metadata": {
    "slideshow": {
     "slide_type": "fragment"
    }
   },
   "outputs": [],
   "source": [
    "with open('data.txt', 'r') as ifile:\n",
    "    for line in ifile:\n",
    "        lst = [float(x) for x in line.strip().split()]\n",
    "\n",
    "print(lst)"
   ]
  },
  {
   "cell_type": "markdown",
   "id": "198e3f51",
   "metadata": {
    "slideshow": {
     "slide_type": "slide"
    }
   },
   "source": [
    "## Регулярные выражения \n",
    "https://docs.python.org/3/library/re.html"
   ]
  },
  {
   "cell_type": "markdown",
   "id": "9d07bde7",
   "metadata": {
    "slideshow": {
     "slide_type": "subslide"
    }
   },
   "source": [
    "#### Пример\n",
    "Имеется список имен файлов. Среди всех имен найти только те, которые отвечают шаблону: \n",
    "```\n",
    "Месяц-число-год.txt\n",
    "```\n",
    "Для каждого имени файла извлечь месяц, число и год."
   ]
  },
  {
   "cell_type": "code",
   "execution_count": null,
   "id": "2737dcb3",
   "metadata": {
    "slideshow": {
     "slide_type": "fragment"
    }
   },
   "outputs": [],
   "source": [
    "import re"
   ]
  },
  {
   "cell_type": "code",
   "execution_count": null,
   "id": "b2564f1f",
   "metadata": {
    "slideshow": {
     "slide_type": "fragment"
    }
   },
   "outputs": [],
   "source": [
    "lst = ['data.txt', \n",
    "       'January-10-2021.db', \n",
    "       'February-11-2021.txt',\n",
    "       'July-16.1-2020.txt',\n",
    "       '1-July-11-2018.txt',\n",
    "       'August-01-2019.txt',\n",
    "      'Month-19-2018.txt']"
   ]
  },
  {
   "cell_type": "code",
   "execution_count": null,
   "id": "cc3e8b84",
   "metadata": {
    "slideshow": {
     "slide_type": "subslide"
    }
   },
   "outputs": [],
   "source": [
    "print('\\n'.join(lst))"
   ]
  },
  {
   "cell_type": "code",
   "execution_count": null,
   "id": "d79c63fe",
   "metadata": {
    "slideshow": {
     "slide_type": "fragment"
    }
   },
   "outputs": [],
   "source": [
    "def print_files(pattern, lst=lst):\n",
    "    prog = re.compile(pattern)\n",
    "    for el in lst:\n",
    "        res = prog.match(el)\n",
    "        if res:\n",
    "            print('{} matches the pattern'.format(res.group(0)))\n",
    "            print(res.group(1))\n",
    "            print(res.group(2))\n",
    "            print(res.group(3))\n",
    "            print('------------')"
   ]
  },
  {
   "cell_type": "code",
   "execution_count": null,
   "id": "54b99c66",
   "metadata": {
    "slideshow": {
     "slide_type": "subslide"
    }
   },
   "outputs": [],
   "source": [
    "print_files('(.*)-(.*)-(.*).txt')"
   ]
  },
  {
   "cell_type": "code",
   "execution_count": null,
   "id": "38778e17",
   "metadata": {
    "slideshow": {
     "slide_type": "subslide"
    }
   },
   "outputs": [],
   "source": [
    "print_files('([A-Z][a-z]+)-([0-9]+)-([0-9]+).txt')"
   ]
  },
  {
   "cell_type": "code",
   "execution_count": null,
   "id": "39d0b651",
   "metadata": {
    "slideshow": {
     "slide_type": "subslide"
    }
   },
   "outputs": [],
   "source": [
    "import calendar\n",
    "months = list(calendar.month_name)\n",
    "print(months)"
   ]
  },
  {
   "cell_type": "code",
   "execution_count": null,
   "id": "f3598f9a",
   "metadata": {
    "slideshow": {
     "slide_type": "fragment"
    }
   },
   "outputs": [],
   "source": [
    "months.remove('')\n",
    "months = '|'.join(months)\n",
    "print(months)"
   ]
  },
  {
   "cell_type": "code",
   "execution_count": null,
   "id": "df2111ba",
   "metadata": {
    "slideshow": {
     "slide_type": "fragment"
    }
   },
   "outputs": [],
   "source": [
    "print_files('({})-([0-9]+)-([0-9]+).txt'.format(months))"
   ]
  },
  {
   "cell_type": "markdown",
   "id": "fb87e1d4",
   "metadata": {
    "slideshow": {
     "slide_type": "subslide"
    }
   },
   "source": [
    "Регулярные выражения можно также использовать для поиска (re.search) и замены (re.sub). Подробнее с регулярными выражениями можно познакомиться на странице https://docs.python.org/3/library/re.html."
   ]
  },
  {
   "cell_type": "markdown",
   "id": "2f8db635",
   "metadata": {
    "slideshow": {
     "slide_type": "slide"
    }
   },
   "source": [
    "## Аргуметны функций"
   ]
  },
  {
   "cell_type": "markdown",
   "id": "d818a9b9",
   "metadata": {
    "slideshow": {
     "slide_type": "subslide"
    }
   },
   "source": [
    "### Порядковые и именованные аргументы"
   ]
  },
  {
   "cell_type": "code",
   "execution_count": null,
   "id": "4a3a12ac",
   "metadata": {
    "slideshow": {
     "slide_type": "fragment"
    }
   },
   "outputs": [],
   "source": [
    "def summ(a, b):\n",
    "    return a**b"
   ]
  },
  {
   "cell_type": "code",
   "execution_count": null,
   "id": "6f7b8770",
   "metadata": {
    "slideshow": {
     "slide_type": "fragment"
    }
   },
   "outputs": [],
   "source": [
    "summ(2, 2)"
   ]
  },
  {
   "cell_type": "code",
   "execution_count": null,
   "id": "398b1e0c",
   "metadata": {
    "slideshow": {
     "slide_type": "fragment"
    }
   },
   "outputs": [],
   "source": [
    "summ(b=2, a=3)"
   ]
  },
  {
   "cell_type": "code",
   "execution_count": null,
   "id": "f57f591a",
   "metadata": {
    "slideshow": {
     "slide_type": "fragment"
    }
   },
   "outputs": [],
   "source": [
    "summ(2, b=3)"
   ]
  },
  {
   "cell_type": "code",
   "execution_count": null,
   "id": "e788f407",
   "metadata": {
    "slideshow": {
     "slide_type": "fragment"
    }
   },
   "outputs": [],
   "source": [
    "# Python сообщит о cинтаксической ошибке: порядковый аргумент не должен следовать за именованным аргуметом\n",
    "\n",
    "# summ(a=2, 2)"
   ]
  },
  {
   "cell_type": "markdown",
   "id": "0ed193cb",
   "metadata": {
    "slideshow": {
     "slide_type": "subslide"
    }
   },
   "source": [
    "### Значения по умолчанию"
   ]
  },
  {
   "cell_type": "code",
   "execution_count": null,
   "id": "1c9cd151",
   "metadata": {
    "slideshow": {
     "slide_type": "fragment"
    }
   },
   "outputs": [],
   "source": [
    "def rational(num, den=1.):\n",
    "    return num / den"
   ]
  },
  {
   "cell_type": "code",
   "execution_count": null,
   "id": "a9efdf96",
   "metadata": {
    "slideshow": {
     "slide_type": "fragment"
    }
   },
   "outputs": [],
   "source": [
    "rational(2)"
   ]
  },
  {
   "cell_type": "code",
   "execution_count": null,
   "id": "1c6b0b39",
   "metadata": {
    "slideshow": {
     "slide_type": "fragment"
    }
   },
   "outputs": [],
   "source": [
    "rational(3, 2)"
   ]
  },
  {
   "cell_type": "markdown",
   "id": "cea51314",
   "metadata": {
    "slideshow": {
     "slide_type": "subslide"
    }
   },
   "source": [
    "### Опциональные аргументы"
   ]
  },
  {
   "cell_type": "code",
   "execution_count": null,
   "id": "3522cf84",
   "metadata": {
    "slideshow": {
     "slide_type": "fragment"
    }
   },
   "outputs": [],
   "source": [
    "def rational(num, den=None):\n",
    "    return float(num) if den is None else num / den"
   ]
  },
  {
   "cell_type": "code",
   "execution_count": null,
   "id": "9057b066",
   "metadata": {
    "slideshow": {
     "slide_type": "fragment"
    }
   },
   "outputs": [],
   "source": [
    "rational(2)"
   ]
  },
  {
   "cell_type": "code",
   "execution_count": null,
   "id": "5e17e23e",
   "metadata": {
    "slideshow": {
     "slide_type": "fragment"
    }
   },
   "outputs": [],
   "source": [
    "rational(3, 2)"
   ]
  },
  {
   "cell_type": "markdown",
   "id": "045b00e5",
   "metadata": {
    "slideshow": {
     "slide_type": "subslide"
    }
   },
   "source": [
    "### Произвольное количество аргументов"
   ]
  },
  {
   "cell_type": "code",
   "execution_count": null,
   "id": "f6260996",
   "metadata": {
    "slideshow": {
     "slide_type": "fragment"
    }
   },
   "outputs": [],
   "source": [
    "def op_seq(op, initial, *args):\n",
    "    res = initial \n",
    "    for el in args:\n",
    "        res = op(res, el)\n",
    "        \n",
    "    return res"
   ]
  },
  {
   "cell_type": "code",
   "execution_count": null,
   "id": "d353038f",
   "metadata": {
    "slideshow": {
     "slide_type": "fragment"
    }
   },
   "outputs": [],
   "source": [
    "import operator"
   ]
  },
  {
   "cell_type": "code",
   "execution_count": null,
   "id": "5b82c9ff",
   "metadata": {
    "slideshow": {
     "slide_type": "fragment"
    }
   },
   "outputs": [],
   "source": [
    "op_seq(operator.add, 0, 1, 2, 3, 4, 5, 6, 7, 8, 9, 10)"
   ]
  },
  {
   "cell_type": "code",
   "execution_count": null,
   "id": "60550772",
   "metadata": {
    "slideshow": {
     "slide_type": "fragment"
    }
   },
   "outputs": [],
   "source": [
    "lst = [operator.mul, 1, 2, 3, 4]"
   ]
  },
  {
   "cell_type": "code",
   "execution_count": null,
   "id": "b40d2385",
   "metadata": {
    "slideshow": {
     "slide_type": "fragment"
    }
   },
   "outputs": [],
   "source": [
    "op_seq(*lst)"
   ]
  },
  {
   "cell_type": "markdown",
   "id": "08fa9e2d",
   "metadata": {
    "slideshow": {
     "slide_type": "subslide"
    }
   },
   "source": [
    "### Именованные аргументы"
   ]
  },
  {
   "cell_type": "code",
   "execution_count": null,
   "id": "6057db80",
   "metadata": {
    "slideshow": {
     "slide_type": "fragment"
    }
   },
   "outputs": [],
   "source": [
    "def print_kwargs(**kwargs):\n",
    "    print(type(kwargs))\n",
    "    print(kwargs)"
   ]
  },
  {
   "cell_type": "code",
   "execution_count": null,
   "id": "f7bd9d8b",
   "metadata": {
    "slideshow": {
     "slide_type": "fragment"
    }
   },
   "outputs": [],
   "source": [
    "print_kwargs(a=1, b=2.0, c=None, d='Hello')"
   ]
  },
  {
   "cell_type": "code",
   "execution_count": null,
   "id": "ce571809",
   "metadata": {
    "slideshow": {
     "slide_type": "subslide"
    }
   },
   "outputs": [],
   "source": [
    "dct = {'d': 0.1, 'a' : 1, 'c' : 2, 'b' : 3}\n",
    "print_kwargs(**dct)"
   ]
  },
  {
   "cell_type": "code",
   "execution_count": null,
   "id": "8507d75c",
   "metadata": {
    "slideshow": {
     "slide_type": "fragment"
    }
   },
   "outputs": [],
   "source": [
    "from collections import OrderedDict\n",
    "from functools import reduce\n",
    "\n",
    "def eval_poly(x, **kwargs):\n",
    "    dct = OrderedDict(sorted(kwargs.items(), reverse=True))\n",
    "    print(dct)\n",
    "    return reduce(lambda cur, val: (cur[0] + val * cur[1], cur[1] * x), dct.values(), (0, 1))[0]\n",
    "    "
   ]
  },
  {
   "cell_type": "code",
   "execution_count": null,
   "id": "5d62dfbf",
   "metadata": {
    "slideshow": {
     "slide_type": "fragment"
    }
   },
   "outputs": [],
   "source": [
    "eval_poly(1, **dct)"
   ]
  },
  {
   "cell_type": "markdown",
   "id": "56aa0def",
   "metadata": {
    "slideshow": {
     "slide_type": "subslide"
    }
   },
   "source": [
    "### Аннотация типов\n",
    "Подсказка о намерениях разработчика  \n",
    "Не гарантирует правильное использование"
   ]
  },
  {
   "cell_type": "code",
   "execution_count": null,
   "id": "a0c3c7a7",
   "metadata": {
    "slideshow": {
     "slide_type": "fragment"
    }
   },
   "outputs": [],
   "source": [
    "def sumabc(a: float, b: float, c:float) -> float:\n",
    "    \"\"\"Sum of three floating point numbers \"\"\"\n",
    "    return a + b + c"
   ]
  },
  {
   "cell_type": "code",
   "execution_count": null,
   "id": "c0f827d3",
   "metadata": {
    "slideshow": {
     "slide_type": "fragment"
    }
   },
   "outputs": [],
   "source": [
    "sumabc(1.0, 2.0, 3.0)"
   ]
  },
  {
   "cell_type": "code",
   "execution_count": null,
   "id": "2916b3ca",
   "metadata": {
    "slideshow": {
     "slide_type": "fragment"
    }
   },
   "outputs": [],
   "source": [
    "sumabc('a', 'b', 'c')"
   ]
  },
  {
   "cell_type": "markdown",
   "id": "4c3db1f1",
   "metadata": {
    "slideshow": {
     "slide_type": "subslide"
    }
   },
   "source": [
    "Аннотация типов и комментарии видны при использовании `help`"
   ]
  },
  {
   "cell_type": "code",
   "execution_count": null,
   "id": "713048c8",
   "metadata": {
    "scrolled": true,
    "slideshow": {
     "slide_type": "fragment"
    }
   },
   "outputs": [],
   "source": [
    "help(sumabc)"
   ]
  },
  {
   "cell_type": "markdown",
   "id": "bc4b2d6b",
   "metadata": {
    "slideshow": {
     "slide_type": "slide"
    }
   },
   "source": [
    "## Декораторы"
   ]
  },
  {
   "cell_type": "code",
   "execution_count": null,
   "id": "356d0e70",
   "metadata": {
    "slideshow": {
     "slide_type": "subslide"
    }
   },
   "outputs": [],
   "source": [
    "def check_int(func):\n",
    "    def wrapper(*args):\n",
    "        if not all(isinstance(arg, int) for arg in args):\n",
    "            raise ValueError('all arguments must be integers')\n",
    "            \n",
    "        return func(*args)\n",
    "    \n",
    "    return wrapper"
   ]
  },
  {
   "cell_type": "code",
   "execution_count": null,
   "id": "d6e6b930",
   "metadata": {
    "slideshow": {
     "slide_type": "fragment"
    }
   },
   "outputs": [],
   "source": [
    "@check_int\n",
    "def sum(a, b):\n",
    "    return a + b\n",
    "\n",
    "@check_int\n",
    "def mul(a, b):\n",
    "    return a * b"
   ]
  },
  {
   "cell_type": "code",
   "execution_count": null,
   "id": "dedb9250",
   "metadata": {
    "slideshow": {
     "slide_type": "subslide"
    }
   },
   "outputs": [],
   "source": [
    "sum(1, 2)"
   ]
  },
  {
   "cell_type": "code",
   "execution_count": null,
   "id": "5fb99e2f",
   "metadata": {
    "slideshow": {
     "slide_type": "fragment"
    }
   },
   "outputs": [],
   "source": [
    "try:\n",
    "    sum(1.0, 2)\n",
    "except ValueError as err:\n",
    "    print(err)"
   ]
  },
  {
   "cell_type": "markdown",
   "id": "726c56ce",
   "metadata": {
    "slideshow": {
     "slide_type": "slide"
    }
   },
   "source": [
    "## ООП (кратко)\n",
    "В Python всё - объект"
   ]
  },
  {
   "cell_type": "code",
   "execution_count": null,
   "id": "6d64a3af",
   "metadata": {
    "code_folding": [
     2,
     8,
     15,
     21,
     27,
     34,
     42,
     48,
     56,
     64,
     71,
     79
    ],
    "slideshow": {
     "slide_type": "subslide"
    }
   },
   "outputs": [],
   "source": [
    "class Vector:\n",
    "    \"\"\"n-мерный вектор\"\"\"\n",
    "    def __init__(self, *args):\n",
    "        \"\"\"\n",
    "        Конструктор\n",
    "        \"\"\"\n",
    "        self.__data = args\n",
    "        \n",
    "    def __abs__(self):\n",
    "        \"\"\"\n",
    "        Поведение при вызове функции abs(v).\n",
    "        Для вектора вычисляем норму.\n",
    "        \"\"\"\n",
    "        return self.dot(self)**0.5\n",
    "    \n",
    "    def __pos__(self):\n",
    "        \"\"\"\n",
    "        Унарный плюс: +v\n",
    "        \"\"\"\n",
    "        return Vector(*self.__data)\n",
    "    \n",
    "    def __neg__(self):\n",
    "        \"\"\"\n",
    "        Унарный минус: -v\n",
    "        \"\"\"\n",
    "        return Vector(*map(lambda x: -x, self.__data))\n",
    "    \n",
    "    def __len__(self):\n",
    "        \"\"\"\n",
    "        Поведение при вызове функции len(v).\n",
    "        Возвращаем длину вектора.\n",
    "        \"\"\"\n",
    "        return len(self.__data)\n",
    "    \n",
    "    def __getitem__(self, index):\n",
    "        \"\"\"\n",
    "        Оператор [] (v[i]).\n",
    "        Делает объект итерируемым, т.е.\n",
    "        можно например вызвать list(v)\n",
    "        \"\"\"\n",
    "        return self.__data[index]\n",
    "    \n",
    "    def __str__(self):\n",
    "        \"\"\"\n",
    "        Поведение при вызове функции print(v)\n",
    "        \"\"\"\n",
    "        return \"Vector({})\".format(', '.join(map(str, self.__data)))\n",
    "    \n",
    "    def __iadd__(self, other):\n",
    "        \"\"\"\n",
    "        v1 += v2\n",
    "        \"\"\"\n",
    "        self.__vec2vec_check(other)\n",
    "        self.__data = [x + y for x, y in zip(self.__data, other.__data)]\n",
    "        return self\n",
    "    \n",
    "    def __isub__(self, other):\n",
    "        \"\"\"\n",
    "        v1 -= v2\n",
    "        \"\"\"\n",
    "        self.__vec2vec_check(other)\n",
    "        self.__data = [x - y for x, y in zip(self.__data, other.__data)]\n",
    "        return self\n",
    "    \n",
    "    def __add__(self, other):\n",
    "        \"\"\"\n",
    "        v1 + v2\n",
    "        \"\"\"\n",
    "        self.__vec2vec_check(other)\n",
    "        return Vector(*[x + y for x, y in zip(self.__data, other.__data)])\n",
    "    \n",
    "    def __sub__(self, other):\n",
    "        \"\"\"\n",
    "        v1 - v2\n",
    "        \"\"\"\n",
    "        self.__vec2vec_check(other)\n",
    "        return Vector(*[x - y for x, y in zip(self.__data, other.__data)])\n",
    "    \n",
    "    def __vec2vec_check(self, other):\n",
    "        if not isinstance(other, Vector):\n",
    "            raise ValueError(\"other must be a Vector\")\n",
    "        \n",
    "        if len(self) != len(other):\n",
    "            raise ValueError(\"vectors have different sizes\")\n",
    "            \n",
    "    def dot(self, other):\n",
    "        self.__vec2vec_check(other)\n",
    "        return reduce(lambda res, x: res + x[0] * x[1], zip(self.__data, other.__data), 0)"
   ]
  },
  {
   "cell_type": "code",
   "execution_count": null,
   "id": "f34978a4",
   "metadata": {
    "slideshow": {
     "slide_type": "subslide"
    }
   },
   "outputs": [],
   "source": [
    "a = Vector(1, -1, 1)\n",
    "b = Vector(1, 1, 2)"
   ]
  },
  {
   "cell_type": "code",
   "execution_count": null,
   "id": "e8979aed",
   "metadata": {
    "scrolled": true,
    "slideshow": {
     "slide_type": "fragment"
    }
   },
   "outputs": [],
   "source": [
    "print(a)\n",
    "print(a[1])\n",
    "print(f'len(a) = {len(a)}')\n",
    "print(f'abs(a) = {abs(a)}')\n",
    "print(a + b)\n",
    "a += b\n",
    "print(a)"
   ]
  },
  {
   "cell_type": "code",
   "execution_count": null,
   "id": "54c988a2",
   "metadata": {
    "slideshow": {
     "slide_type": "fragment"
    }
   },
   "outputs": [],
   "source": [
    "lst = list(a)\n",
    "print(lst)"
   ]
  },
  {
   "cell_type": "code",
   "execution_count": null,
   "id": "6d2e3f86",
   "metadata": {
    "slideshow": {
     "slide_type": "subslide"
    }
   },
   "outputs": [],
   "source": [
    "class Functor:\n",
    "    def __init__(self, fcn):\n",
    "        self.__fcn = fcn\n",
    "        \n",
    "    def __call__(self, *args, **kwargs):\n",
    "        return self.__fcn(*args, **kwargs)"
   ]
  },
  {
   "cell_type": "code",
   "execution_count": null,
   "id": "c98e37dd",
   "metadata": {
    "slideshow": {
     "slide_type": "fragment"
    }
   },
   "outputs": [],
   "source": [
    "f = Functor(lambda x, y: x + y)\n",
    "print(f(1, 2))"
   ]
  },
  {
   "cell_type": "markdown",
   "id": "1dcf50f2",
   "metadata": {
    "slideshow": {
     "slide_type": "fragment"
    }
   },
   "source": [
    "`__init__`, `__len__`, `__abs__`, `__str__`, `__getitem__`, `__call__`, `__add__` и т.д. -- магические методы.\n",
    "Существуют и другие магические методы, см. https://docs.python.org/3/reference/datamodel.html\n",
    "\n",
    "Магические методы необходимы для перегрузки операторов и взаимодействия с экосистемой Python."
   ]
  },
  {
   "cell_type": "markdown",
   "id": "b7f7fa88",
   "metadata": {
    "slideshow": {
     "slide_type": "slide"
    }
   },
   "source": [
    "### Наследование"
   ]
  },
  {
   "cell_type": "code",
   "execution_count": null,
   "id": "241c5c03",
   "metadata": {
    "slideshow": {
     "slide_type": "fragment"
    }
   },
   "outputs": [],
   "source": [
    "class Vector3d(Vector):\n",
    "    def __init__(self, x, y, z):\n",
    "        super().__init__(x, y, z)\n",
    "        \n",
    "    def cross(self, other):\n",
    "        return Vector3d(self[1] * other[2] - self[2] * other[1],\n",
    "                        self[2] * other[0] - self[0] * other[2],\n",
    "                        self[0] * other[1] - self[1] * other[0])"
   ]
  },
  {
   "cell_type": "code",
   "execution_count": null,
   "id": "4cb23bde",
   "metadata": {
    "slideshow": {
     "slide_type": "fragment"
    }
   },
   "outputs": [],
   "source": [
    "a = Vector3d(1, 0, 0)\n",
    "b = Vector3d(0, 1, 0)"
   ]
  },
  {
   "cell_type": "code",
   "execution_count": null,
   "id": "fbbe14e4",
   "metadata": {
    "slideshow": {
     "slide_type": "fragment"
    }
   },
   "outputs": [],
   "source": [
    "c = a.cross(b)\n",
    "print(c)"
   ]
  },
  {
   "cell_type": "markdown",
   "id": "4ab4cc2c",
   "metadata": {
    "slideshow": {
     "slide_type": "subslide"
    }
   },
   "source": [
    "#### Видимость полей и методов"
   ]
  },
  {
   "cell_type": "code",
   "execution_count": null,
   "id": "62d30273",
   "metadata": {
    "slideshow": {
     "slide_type": "fragment"
    }
   },
   "outputs": [],
   "source": [
    "class A:\n",
    "    def __init__(self):\n",
    "        self._a = 1\n",
    "        self.__b = 2\n",
    "        self.__c = 3\n",
    "        \n",
    "    def fcn0(self):\n",
    "        return 0\n",
    "    \n",
    "    def _fcn1(self):\n",
    "        return 1\n",
    "    \n",
    "    def __fcn2(self):\n",
    "        return 2\n",
    "    \n",
    "    def __fcn3__(self):\n",
    "        return 3"
   ]
  },
  {
   "cell_type": "code",
   "execution_count": null,
   "id": "0445f7d7",
   "metadata": {
    "slideshow": {
     "slide_type": "subslide"
    }
   },
   "outputs": [],
   "source": [
    "a = A()\n",
    "print(a._a)\n",
    "print(a.fcn0())\n",
    "print(a._fcn1())"
   ]
  },
  {
   "cell_type": "code",
   "execution_count": null,
   "id": "a165d4ff",
   "metadata": {
    "slideshow": {
     "slide_type": "fragment"
    }
   },
   "outputs": [],
   "source": [
    "try:\n",
    "    print(a.__b)\n",
    "except Exception as err:\n",
    "    print(type(err))\n",
    "    print(err)"
   ]
  },
  {
   "cell_type": "code",
   "execution_count": null,
   "id": "c2481680",
   "metadata": {
    "slideshow": {
     "slide_type": "fragment"
    }
   },
   "outputs": [],
   "source": [
    "print(a._A__b)"
   ]
  },
  {
   "cell_type": "code",
   "execution_count": null,
   "id": "8441c1a3",
   "metadata": {
    "slideshow": {
     "slide_type": "subslide"
    }
   },
   "outputs": [],
   "source": [
    "try:\n",
    "    print(a.__fcn2())\n",
    "except Exception as err:\n",
    "    print(type(err))\n",
    "    print(err)"
   ]
  },
  {
   "cell_type": "code",
   "execution_count": null,
   "id": "c6397105",
   "metadata": {
    "slideshow": {
     "slide_type": "fragment"
    }
   },
   "outputs": [],
   "source": [
    "print(a._A__fcn2())"
   ]
  },
  {
   "cell_type": "code",
   "execution_count": null,
   "id": "147d0922",
   "metadata": {
    "slideshow": {
     "slide_type": "fragment"
    }
   },
   "outputs": [],
   "source": [
    "print(a.__fcn3__())"
   ]
  },
  {
   "cell_type": "code",
   "execution_count": null,
   "id": "baca9e40",
   "metadata": {
    "slideshow": {
     "slide_type": "subslide"
    }
   },
   "outputs": [],
   "source": [
    "class B(A):\n",
    "    def __init__(self):\n",
    "        super().__init__()\n",
    "        self._a = 3\n",
    "        self.__c = 7"
   ]
  },
  {
   "cell_type": "code",
   "execution_count": null,
   "id": "f5a11c47",
   "metadata": {
    "slideshow": {
     "slide_type": "fragment"
    }
   },
   "outputs": [],
   "source": [
    "b = B()\n",
    "print(b._a)\n",
    "print(b.fcn0())\n",
    "print(b._fcn1())"
   ]
  },
  {
   "cell_type": "code",
   "execution_count": null,
   "id": "ccbb1364",
   "metadata": {
    "slideshow": {
     "slide_type": "fragment"
    }
   },
   "outputs": [],
   "source": [
    "print(b._A__b)"
   ]
  },
  {
   "cell_type": "code",
   "execution_count": null,
   "id": "d3a6cf02",
   "metadata": {
    "slideshow": {
     "slide_type": "fragment"
    }
   },
   "outputs": [],
   "source": [
    "try:\n",
    "    print(b._B__b)\n",
    "except Exception as err:\n",
    "    print(type(err))\n",
    "    print(err)"
   ]
  },
  {
   "cell_type": "code",
   "execution_count": null,
   "id": "7283c8f9",
   "metadata": {
    "slideshow": {
     "slide_type": "subslide"
    }
   },
   "outputs": [],
   "source": [
    "print(b._A__c)\n",
    "print(b._B__c)"
   ]
  },
  {
   "cell_type": "code",
   "execution_count": null,
   "id": "c8d069ab",
   "metadata": {
    "slideshow": {
     "slide_type": "subslide"
    }
   },
   "outputs": [],
   "source": [
    "print(b._A__fcn2())"
   ]
  },
  {
   "cell_type": "code",
   "execution_count": null,
   "id": "47e86604",
   "metadata": {
    "slideshow": {
     "slide_type": "fragment"
    }
   },
   "outputs": [],
   "source": [
    "print(b.__fcn3__())"
   ]
  },
  {
   "cell_type": "markdown",
   "id": "4dfe11e0",
   "metadata": {
    "slideshow": {
     "slide_type": "fragment"
    }
   },
   "source": [
    "Вывод: поля (или методы) вида _a удобно использовать в качестве \"protected\" полей (методов); поля вида __a удобно использовать в качестве приватных полей\n",
    "    "
   ]
  },
  {
   "cell_type": "markdown",
   "id": "cf4c83e2",
   "metadata": {
    "slideshow": {
     "slide_type": "subslide"
    }
   },
   "source": [
    "### Абстрактные классы\n",
    "Можно создавать с помощью модуля `abc` стандартной библиотеки Python.\n",
    "См. примеры на странице: https://docs.python.org/3/library/abc.html"
   ]
  },
  {
   "cell_type": "code",
   "execution_count": null,
   "id": "1ce02c45",
   "metadata": {
    "slideshow": {
     "slide_type": "subslide"
    }
   },
   "outputs": [],
   "source": [
    "from abc import ABC, abstractmethod\n",
    "\n",
    "class MyAbsClass(ABC):\n",
    "    def __init__(self):\n",
    "        self._a = 1\n",
    "        \n",
    "    @abstractmethod\n",
    "    def fcn(self, x):\n",
    "        ...\n"
   ]
  },
  {
   "cell_type": "code",
   "execution_count": null,
   "id": "c3b560a7",
   "metadata": {
    "slideshow": {
     "slide_type": "fragment"
    }
   },
   "outputs": [],
   "source": [
    "try:\n",
    "    q = MyAbsClass()\n",
    "except Exception as err:\n",
    "    print(type(err))\n",
    "    print(err)"
   ]
  },
  {
   "cell_type": "code",
   "execution_count": null,
   "id": "8e2ce2d4",
   "metadata": {
    "slideshow": {
     "slide_type": "subslide"
    }
   },
   "outputs": [],
   "source": [
    "class AnotherClass(MyAbsClass):\n",
    "    def __init__(self):\n",
    "        super().__init__()\n",
    "        self._b = 2\n",
    "        \n",
    "    def fcn(self, x):\n",
    "        return self._a * x + self._b"
   ]
  },
  {
   "cell_type": "code",
   "execution_count": null,
   "id": "afc603af",
   "metadata": {
    "slideshow": {
     "slide_type": "fragment"
    }
   },
   "outputs": [],
   "source": [
    "q = AnotherClass()\n",
    "print(q.fcn(2))"
   ]
  },
  {
   "cell_type": "markdown",
   "id": "e69abcb1",
   "metadata": {
    "slideshow": {
     "slide_type": "subslide"
    }
   },
   "source": [
    "### getters and setters"
   ]
  },
  {
   "cell_type": "code",
   "execution_count": null,
   "id": "1322fc04",
   "metadata": {
    "slideshow": {
     "slide_type": "fragment"
    }
   },
   "outputs": [],
   "source": [
    "class Child:\n",
    "    def __init__(self, val):\n",
    "        self._age = val\n",
    "        \n",
    "    @property\n",
    "    def age(self):\n",
    "        return self._age\n",
    "    \n",
    "    @age.setter\n",
    "    def age(self, val):\n",
    "        if val >= 18:\n",
    "            raise ValueError('invalid age')\n",
    "            \n",
    "        self._age = val"
   ]
  },
  {
   "cell_type": "code",
   "execution_count": null,
   "id": "774d2591",
   "metadata": {
    "slideshow": {
     "slide_type": "fragment"
    }
   },
   "outputs": [],
   "source": [
    "child = Child(5)"
   ]
  },
  {
   "cell_type": "code",
   "execution_count": null,
   "id": "3ce53dfb",
   "metadata": {
    "slideshow": {
     "slide_type": "fragment"
    }
   },
   "outputs": [],
   "source": [
    "print(child.age)"
   ]
  },
  {
   "cell_type": "code",
   "execution_count": null,
   "id": "b2cfe59c",
   "metadata": {
    "slideshow": {
     "slide_type": "fragment"
    }
   },
   "outputs": [],
   "source": [
    "child.age = 3\n",
    "print(child.age)"
   ]
  },
  {
   "cell_type": "code",
   "execution_count": null,
   "id": "0e360f69",
   "metadata": {
    "slideshow": {
     "slide_type": "subslide"
    }
   },
   "outputs": [],
   "source": [
    "try:\n",
    "    child.age = 19\n",
    "except ValueError as err:\n",
    "    print(err)"
   ]
  },
  {
   "cell_type": "markdown",
   "id": "b20cd50e",
   "metadata": {
    "slideshow": {
     "slide_type": "slide"
    }
   },
   "source": [
    "## Стандартная библиотека `python`\n",
    "[docs.python.org/3/library/](https://docs.python.org/3/library/) - список стандартных модулей  \n",
    "Стандартная библиотека `python` обширна. С некоторыми модулями стандартной библиотекти мы уже успели познакомиться. Некоторые модули стандартной (и не только) библиотеки приведены ниже.\n",
    "\n",
    "* Работа с операционной системой: `sys`, `os`\n",
    "* `decimal` и `fractions` - вычисления с произвольной точностью\n",
    "* `itertools` - инструменты для итерирования\n",
    "* `datetime` - работа с датой и временем\n",
    "* Сериализация объектов: `ast`, `pickle`, `json`, ...\n",
    "* Сжатие данных: `zlib`, `zipfile`, `tarfile`\n",
    "* Инструменты тестирования: `timeit`, `unittest`, `doctest`, (не стандартная) `pytest`\n",
    "* Вэб-инструменты: `urllib`, (не стандартная) `requests`\n",
    "* Графический интерфейс: `tkinter`, (не стандартная) `PyQt5`\n",
    "* Разработка игр: `pygame`\n",
    "* Асинхронный код: `multiprocessing`, `subprocess`, `asyncio`"
   ]
  },
  {
   "cell_type": "markdown",
   "id": "21eeb0b9",
   "metadata": {
    "slideshow": {
     "slide_type": "subslide"
    }
   },
   "source": [
    "### `sys`: system-specific parameters and functions"
   ]
  },
  {
   "cell_type": "code",
   "execution_count": null,
   "id": "9ef3315a",
   "metadata": {
    "scrolled": true,
    "slideshow": {
     "slide_type": "fragment"
    }
   },
   "outputs": [],
   "source": [
    "import sys"
   ]
  },
  {
   "cell_type": "code",
   "execution_count": null,
   "id": "f4e77665",
   "metadata": {
    "slideshow": {
     "slide_type": "fragment"
    }
   },
   "outputs": [],
   "source": [
    "sys.argv"
   ]
  },
  {
   "cell_type": "code",
   "execution_count": null,
   "id": "6a735130",
   "metadata": {
    "slideshow": {
     "slide_type": "fragment"
    }
   },
   "outputs": [],
   "source": [
    "sys.path"
   ]
  },
  {
   "cell_type": "code",
   "execution_count": null,
   "id": "45b63d20",
   "metadata": {
    "slideshow": {
     "slide_type": "fragment"
    }
   },
   "outputs": [],
   "source": [
    "sys.platform"
   ]
  },
  {
   "cell_type": "code",
   "execution_count": null,
   "id": "7f11f1e4",
   "metadata": {
    "slideshow": {
     "slide_type": "fragment"
    }
   },
   "outputs": [],
   "source": [
    "print(dir(sys))"
   ]
  },
  {
   "cell_type": "markdown",
   "id": "34e63496",
   "metadata": {
    "slideshow": {
     "slide_type": "subslide"
    }
   },
   "source": [
    "### `os` - инструменты для работы с операционной системой и файловой системой"
   ]
  },
  {
   "cell_type": "code",
   "execution_count": null,
   "id": "502300c1",
   "metadata": {
    "slideshow": {
     "slide_type": "fragment"
    }
   },
   "outputs": [],
   "source": [
    "import os"
   ]
  },
  {
   "cell_type": "code",
   "execution_count": null,
   "id": "c8eb1fd8",
   "metadata": {
    "slideshow": {
     "slide_type": "fragment"
    }
   },
   "outputs": [],
   "source": [
    "prefix = '/home/sergei'\n",
    "filename = 'test.txt'"
   ]
  },
  {
   "cell_type": "code",
   "execution_count": null,
   "id": "523dd266",
   "metadata": {
    "slideshow": {
     "slide_type": "fragment"
    }
   },
   "outputs": [],
   "source": [
    "path = os.path.join(prefix, filename)\n",
    "print(path)"
   ]
  },
  {
   "cell_type": "code",
   "execution_count": null,
   "id": "f2c4c8fd",
   "metadata": {
    "slideshow": {
     "slide_type": "fragment"
    }
   },
   "outputs": [],
   "source": [
    "print(os.path.basename(path))"
   ]
  },
  {
   "cell_type": "code",
   "execution_count": null,
   "id": "b1906932",
   "metadata": {
    "slideshow": {
     "slide_type": "fragment"
    }
   },
   "outputs": [],
   "source": [
    "print(os.path.dirname(path))"
   ]
  },
  {
   "cell_type": "code",
   "execution_count": null,
   "id": "2d662491",
   "metadata": {
    "slideshow": {
     "slide_type": "subslide"
    }
   },
   "outputs": [],
   "source": [
    "head, tail = os.path.split(path)\n",
    "print(head)\n",
    "print(tail)"
   ]
  },
  {
   "cell_type": "code",
   "execution_count": null,
   "id": "dad4d0c3",
   "metadata": {
    "slideshow": {
     "slide_type": "fragment"
    }
   },
   "outputs": [],
   "source": [
    "root, ext = os.path.splitext(path)\n",
    "print(root)\n",
    "print(ext)\n",
    "print(os.path.basename(root))"
   ]
  },
  {
   "cell_type": "code",
   "execution_count": null,
   "id": "eb334bdb",
   "metadata": {
    "slideshow": {
     "slide_type": "subslide"
    }
   },
   "outputs": [],
   "source": [
    "os.path.exists('/home/sergei')"
   ]
  },
  {
   "cell_type": "code",
   "execution_count": null,
   "id": "700cba82",
   "metadata": {
    "slideshow": {
     "slide_type": "fragment"
    }
   },
   "outputs": [],
   "source": [
    "os.path.isfile('/home/sergei')"
   ]
  },
  {
   "cell_type": "code",
   "execution_count": null,
   "id": "9928902c",
   "metadata": {
    "slideshow": {
     "slide_type": "fragment"
    }
   },
   "outputs": [],
   "source": [
    "os.path.isdir('/home/sergei')"
   ]
  },
  {
   "cell_type": "code",
   "execution_count": null,
   "id": "d7720832",
   "metadata": {
    "slideshow": {
     "slide_type": "fragment"
    }
   },
   "outputs": [],
   "source": [
    "os.path.exists('/home/sergei/test.txt')"
   ]
  },
  {
   "cell_type": "code",
   "execution_count": null,
   "id": "7ce1306c",
   "metadata": {
    "slideshow": {
     "slide_type": "fragment"
    }
   },
   "outputs": [],
   "source": [
    "os.path.isfile('/home/sergei/test.txt')"
   ]
  },
  {
   "cell_type": "code",
   "execution_count": null,
   "id": "2b202782",
   "metadata": {
    "slideshow": {
     "slide_type": "fragment"
    }
   },
   "outputs": [],
   "source": [
    "os.path.isdir('/home/sergei/test.txt')"
   ]
  },
  {
   "cell_type": "code",
   "execution_count": null,
   "id": "52b02250",
   "metadata": {
    "slideshow": {
     "slide_type": "subslide"
    }
   },
   "outputs": [],
   "source": [
    "print(os.getenv('PATH'))"
   ]
  },
  {
   "cell_type": "code",
   "execution_count": null,
   "id": "9d408529",
   "metadata": {
    "slideshow": {
     "slide_type": "fragment"
    }
   },
   "outputs": [],
   "source": [
    "print(os.getenv('LD_LIBRARY_PATH'))"
   ]
  },
  {
   "cell_type": "code",
   "execution_count": null,
   "id": "198ae703",
   "metadata": {
    "slideshow": {
     "slide_type": "fragment"
    }
   },
   "outputs": [],
   "source": [
    "os.environ['LD_LIBRARY_PATH'] = '/home/sergei/.local/lib' "
   ]
  },
  {
   "cell_type": "code",
   "execution_count": null,
   "id": "f1aa88a8",
   "metadata": {
    "slideshow": {
     "slide_type": "fragment"
    }
   },
   "outputs": [],
   "source": [
    "print(os.getenv('LD_LIBRARY_PATH'))"
   ]
  },
  {
   "cell_type": "code",
   "execution_count": null,
   "id": "2c68668d",
   "metadata": {
    "scrolled": false,
    "slideshow": {
     "slide_type": "subslide"
    }
   },
   "outputs": [],
   "source": [
    "with open('script.py', 'w') as ofile:\n",
    "    ofile.write(\"\"\"\n",
    "import matplotlib.pyplot as plt\n",
    "import numpy as np\n",
    "\n",
    "plt.plot(np.arange(10), np.arange(10)**2)\n",
    "plt.savefig('/home/sergei/test.png')\n",
    "\"\"\")\n",
    "os.system('python script.py')\n",
    "\n",
    "from IPython.display import Image\n",
    "Image(filename='/home/sergei/test.png') "
   ]
  },
  {
   "cell_type": "markdown",
   "id": "e437a5e9",
   "metadata": {
    "slideshow": {
     "slide_type": "slide"
    }
   },
   "source": [
    "### `decimal`: Decimal fixed point and floating point arithmetic"
   ]
  },
  {
   "cell_type": "code",
   "execution_count": null,
   "id": "795b47d7",
   "metadata": {
    "slideshow": {
     "slide_type": "fragment"
    }
   },
   "outputs": [],
   "source": [
    "import decimal"
   ]
  },
  {
   "cell_type": "code",
   "execution_count": null,
   "id": "6c8ff05c",
   "metadata": {
    "slideshow": {
     "slide_type": "fragment"
    }
   },
   "outputs": [],
   "source": [
    "decimal.getcontext().prec = 2\n",
    "decimal.Decimal(2).sqrt()"
   ]
  },
  {
   "cell_type": "code",
   "execution_count": null,
   "id": "f280a610",
   "metadata": {
    "slideshow": {
     "slide_type": "fragment"
    }
   },
   "outputs": [],
   "source": [
    "decimal.getcontext().prec = 1000\n",
    "decimal.Decimal(2).sqrt()"
   ]
  },
  {
   "cell_type": "markdown",
   "id": "26558ad9",
   "metadata": {
    "slideshow": {
     "slide_type": "slide"
    }
   },
   "source": [
    "### `itertools`: Functions creating iterators for efficient looping"
   ]
  },
  {
   "cell_type": "code",
   "execution_count": null,
   "id": "ab1a31d8",
   "metadata": {
    "slideshow": {
     "slide_type": "fragment"
    }
   },
   "outputs": [],
   "source": [
    "import itertools"
   ]
  },
  {
   "cell_type": "code",
   "execution_count": null,
   "id": "65afba2e",
   "metadata": {
    "slideshow": {
     "slide_type": "fragment"
    }
   },
   "outputs": [],
   "source": [
    "g = itertools.cycle('ABC')\n",
    "for _ in range(10):\n",
    "    print(f'{next(g)}', end=' ')"
   ]
  },
  {
   "cell_type": "code",
   "execution_count": null,
   "id": "294a6101",
   "metadata": {
    "slideshow": {
     "slide_type": "fragment"
    }
   },
   "outputs": [],
   "source": [
    "for n in itertools.accumulate(range(10)):\n",
    "    print(f'{n}', end=' ')"
   ]
  },
  {
   "cell_type": "code",
   "execution_count": null,
   "id": "e81678d0",
   "metadata": {
    "slideshow": {
     "slide_type": "fragment"
    }
   },
   "outputs": [],
   "source": [
    "for a, b in itertools.product('ABCD', [1, 2, 3, 4]):\n",
    "    print(f'{a}{b}', end=' ')"
   ]
  },
  {
   "cell_type": "code",
   "execution_count": null,
   "id": "4da65179",
   "metadata": {
    "slideshow": {
     "slide_type": "fragment"
    }
   },
   "outputs": [],
   "source": [
    "for a,b,c in itertools.permutations('ABC'):\n",
    "    print(f'{a}{b}{c}', end=' ')"
   ]
  },
  {
   "cell_type": "markdown",
   "id": "2818f08c",
   "metadata": {
    "slideshow": {
     "slide_type": "slide"
    }
   },
   "source": [
    "### `datetime`: Basic date and time types"
   ]
  },
  {
   "cell_type": "code",
   "execution_count": null,
   "id": "3372dc17",
   "metadata": {
    "slideshow": {
     "slide_type": "fragment"
    }
   },
   "outputs": [],
   "source": [
    "from datetime import date, timedelta\n",
    "d1 = date.fromisoformat('2020-12-04')"
   ]
  },
  {
   "cell_type": "code",
   "execution_count": null,
   "id": "6381d09b",
   "metadata": {
    "slideshow": {
     "slide_type": "fragment"
    }
   },
   "outputs": [],
   "source": [
    "d2 = date(2002, 12, 31)\n",
    "d1 < d2"
   ]
  },
  {
   "cell_type": "code",
   "execution_count": null,
   "id": "140fbffa",
   "metadata": {
    "slideshow": {
     "slide_type": "fragment"
    }
   },
   "outputs": [],
   "source": [
    "delta = d1 - d2\n",
    "delta.days"
   ]
  },
  {
   "cell_type": "code",
   "execution_count": null,
   "id": "4d37a5f8",
   "metadata": {
    "slideshow": {
     "slide_type": "fragment"
    }
   },
   "outputs": [],
   "source": [
    "type(delta)"
   ]
  },
  {
   "cell_type": "code",
   "execution_count": null,
   "id": "0e48e6ce",
   "metadata": {
    "slideshow": {
     "slide_type": "fragment"
    }
   },
   "outputs": [],
   "source": [
    "delta2 = timedelta(days=15)\n",
    "d3 = d1 + delta2\n",
    "d3"
   ]
  },
  {
   "cell_type": "code",
   "execution_count": null,
   "id": "3c4d8f46",
   "metadata": {
    "slideshow": {
     "slide_type": "subslide"
    }
   },
   "outputs": [],
   "source": [
    "d3.weekday()"
   ]
  },
  {
   "cell_type": "code",
   "execution_count": null,
   "id": "705b5d66",
   "metadata": {
    "slideshow": {
     "slide_type": "fragment"
    }
   },
   "outputs": [],
   "source": [
    "date.today()"
   ]
  },
  {
   "cell_type": "code",
   "execution_count": null,
   "id": "1a177514",
   "metadata": {
    "slideshow": {
     "slide_type": "fragment"
    }
   },
   "outputs": [],
   "source": [
    "import time\n",
    "from datetime import datetime\n",
    "datetime.fromtimestamp(time.time())"
   ]
  },
  {
   "cell_type": "code",
   "execution_count": null,
   "id": "e943cfd5",
   "metadata": {
    "slideshow": {
     "slide_type": "fragment"
    }
   },
   "outputs": [],
   "source": [
    "dt2 = datetime.fromisoformat('2020-07-15 21:47:09.036145')\n",
    "dt2"
   ]
  },
  {
   "cell_type": "code",
   "execution_count": null,
   "id": "6981fc2b",
   "metadata": {
    "slideshow": {
     "slide_type": "fragment"
    }
   },
   "outputs": [],
   "source": [
    "dt2.timestamp()"
   ]
  },
  {
   "cell_type": "markdown",
   "id": "8bd84e07",
   "metadata": {
    "slideshow": {
     "slide_type": "subslide"
    }
   },
   "source": [
    "### `timeit` - измерение времени"
   ]
  },
  {
   "cell_type": "code",
   "execution_count": null,
   "id": "c3506acd",
   "metadata": {
    "slideshow": {
     "slide_type": "fragment"
    }
   },
   "outputs": [],
   "source": [
    "import timeit\n",
    "import numpy as np\n",
    "\n",
    "code1 = '''\n",
    "sum=0\n",
    "for i in range(10000):\n",
    "    sum += i**2\n",
    "'''\n",
    "code2 = 'sum([x**2 for x in range(10000)])'\n",
    "code3 = 'sum(map(lambda x: x**2, range(10000)))'\n",
    "code4 = 'sum(x**2 for x in range(10000))'\n",
    "code5 = '''\n",
    "import numpy as np\n",
    "np.sum(np.arange(10000)**2)\n",
    "'''"
   ]
  },
  {
   "cell_type": "code",
   "execution_count": null,
   "id": "b66b1a13",
   "metadata": {
    "slideshow": {
     "slide_type": "fragment"
    }
   },
   "outputs": [],
   "source": [
    "for idx, c in enumerate([code1, code2, code3, code4, code5]):\n",
    "    print(f'code {idx+1}: {timeit.timeit(c, number=1000):.5f}')"
   ]
  },
  {
   "cell_type": "code",
   "execution_count": null,
   "id": "963aff51",
   "metadata": {
    "slideshow": {
     "slide_type": "fragment"
    }
   },
   "outputs": [],
   "source": [
    "for idx, c in enumerate([code1, code2, code3, code4, code5]):\n",
    "    res = timeit.repeat(c, number=1000, repeat=5)\n",
    "    print(' '.join([f'{item:.3f}' for item in res]))"
   ]
  },
  {
   "cell_type": "markdown",
   "id": "4149f59c",
   "metadata": {
    "slideshow": {
     "slide_type": "slide"
    }
   },
   "source": [
    "## Сериализация\n",
    "\n",
    "* Модуль `ast`\n",
    "* Модуль `pickle`\n",
    "* Модуль `json`"
   ]
  },
  {
   "cell_type": "markdown",
   "id": "31279945",
   "metadata": {
    "slideshow": {
     "slide_type": "subslide"
    }
   },
   "source": [
    "### ast - abstract syntax tree"
   ]
  },
  {
   "cell_type": "code",
   "execution_count": null,
   "id": "00ac635b",
   "metadata": {
    "slideshow": {
     "slide_type": "fragment"
    }
   },
   "outputs": [],
   "source": [
    "import ast"
   ]
  },
  {
   "cell_type": "code",
   "execution_count": null,
   "id": "09a6120b",
   "metadata": {
    "slideshow": {
     "slide_type": "fragment"
    }
   },
   "outputs": [],
   "source": [
    "data = [\n",
    "    1, 2, 'a',\n",
    "    ['2', 1],\n",
    "    (3, 2, 1),\n",
    "    {x: y**2 for x, y in enumerate(range(3))}\n",
    "]"
   ]
  },
  {
   "cell_type": "code",
   "execution_count": null,
   "id": "80ae6349",
   "metadata": {
    "slideshow": {
     "slide_type": "fragment"
    }
   },
   "outputs": [],
   "source": [
    "with open('s1.txt', 'w') as f:\n",
    "    f.write(repr(data))"
   ]
  },
  {
   "cell_type": "code",
   "execution_count": null,
   "id": "2fd76659",
   "metadata": {
    "slideshow": {
     "slide_type": "fragment"
    }
   },
   "outputs": [],
   "source": [
    "with open('s1.txt', 'r') as f:\n",
    "    restored_data = ast.literal_eval(f.read())"
   ]
  },
  {
   "cell_type": "code",
   "execution_count": null,
   "id": "7bb4efaa",
   "metadata": {
    "slideshow": {
     "slide_type": "fragment"
    }
   },
   "outputs": [],
   "source": [
    "type(restored_data)"
   ]
  },
  {
   "cell_type": "markdown",
   "id": "fabdcfff",
   "metadata": {
    "slideshow": {
     "slide_type": "subslide"
    }
   },
   "source": [
    "### pickle - бинарная сериализация"
   ]
  },
  {
   "cell_type": "code",
   "execution_count": null,
   "id": "ea0f52a9",
   "metadata": {
    "slideshow": {
     "slide_type": "fragment"
    }
   },
   "outputs": [],
   "source": [
    "import pickle"
   ]
  },
  {
   "cell_type": "code",
   "execution_count": null,
   "id": "6f70817d",
   "metadata": {
    "slideshow": {
     "slide_type": "fragment"
    }
   },
   "outputs": [],
   "source": [
    "data = [\n",
    "    1, 2, 'a',\n",
    "    ['2', 1],\n",
    "    (3, 2, 1),\n",
    "    {x: y**2 for x, y in enumerate(range(3))}\n",
    "]"
   ]
  },
  {
   "cell_type": "code",
   "execution_count": null,
   "id": "b6458872",
   "metadata": {
    "slideshow": {
     "slide_type": "fragment"
    }
   },
   "outputs": [],
   "source": [
    "with open('s1.dat', 'wb') as f:\n",
    "    pickle.dump(data, f)"
   ]
  },
  {
   "cell_type": "code",
   "execution_count": null,
   "id": "aeb828e0",
   "metadata": {
    "slideshow": {
     "slide_type": "fragment"
    }
   },
   "outputs": [],
   "source": [
    "with open('s1.dat', 'rb') as f:\n",
    "    restored_data2 = pickle.load(f)"
   ]
  },
  {
   "cell_type": "code",
   "execution_count": null,
   "id": "a717a27a",
   "metadata": {
    "slideshow": {
     "slide_type": "fragment"
    }
   },
   "outputs": [],
   "source": [
    "print(restored_data2)"
   ]
  },
  {
   "cell_type": "markdown",
   "id": "f6845bb8",
   "metadata": {
    "slideshow": {
     "slide_type": "subslide"
    }
   },
   "source": [
    "### JSON - JavaScript Object Notation"
   ]
  },
  {
   "cell_type": "code",
   "execution_count": null,
   "id": "110051e5",
   "metadata": {
    "slideshow": {
     "slide_type": "fragment"
    }
   },
   "outputs": [],
   "source": [
    "import json"
   ]
  },
  {
   "cell_type": "code",
   "execution_count": null,
   "id": "108a867f",
   "metadata": {
    "slideshow": {
     "slide_type": "fragment"
    }
   },
   "outputs": [],
   "source": [
    "data = [\n",
    "    1, 2, 'a',\n",
    "    ['2', 1],\n",
    "    (3, 2, 1),\n",
    "    {x: y**2 for x, y in enumerate(range(3))}\n",
    "]"
   ]
  },
  {
   "cell_type": "code",
   "execution_count": null,
   "id": "9e5c6ab0",
   "metadata": {
    "slideshow": {
     "slide_type": "fragment"
    }
   },
   "outputs": [],
   "source": [
    "with open('s1.txt', 'w') as f:\n",
    "    json.dump(data, f)"
   ]
  },
  {
   "cell_type": "code",
   "execution_count": null,
   "id": "ad1cee8d",
   "metadata": {
    "slideshow": {
     "slide_type": "fragment"
    }
   },
   "outputs": [],
   "source": [
    "with open('s1.txt', 'r') as f:\n",
    "    restored_data3 = json.load(f)"
   ]
  },
  {
   "cell_type": "code",
   "execution_count": null,
   "id": "eab0899c",
   "metadata": {
    "slideshow": {
     "slide_type": "fragment"
    }
   },
   "outputs": [],
   "source": [
    "print(restored_data3)"
   ]
  },
  {
   "cell_type": "markdown",
   "id": "5de5e130",
   "metadata": {
    "slideshow": {
     "slide_type": "slide"
    }
   },
   "source": [
    "## requests"
   ]
  },
  {
   "cell_type": "code",
   "execution_count": null,
   "id": "79c7b9e4",
   "metadata": {
    "slideshow": {
     "slide_type": "fragment"
    }
   },
   "outputs": [],
   "source": [
    "import requests\n",
    "import json\n",
    "from datetime import datetime"
   ]
  },
  {
   "cell_type": "code",
   "execution_count": null,
   "id": "f54f11e2",
   "metadata": {
    "slideshow": {
     "slide_type": "fragment"
    }
   },
   "outputs": [],
   "source": [
    "req = requests.get('https://api.open-meteo.com/v1/forecast?latitude=54.843&longitude=83.093&hourly=temperature_2m,rain,snowfall,snow_depth,pressure_msl,windspeed_10m')"
   ]
  },
  {
   "cell_type": "code",
   "execution_count": null,
   "id": "566e0838",
   "metadata": {
    "slideshow": {
     "slide_type": "fragment"
    }
   },
   "outputs": [],
   "source": [
    "wether_data = json.loads(req.text)"
   ]
  },
  {
   "cell_type": "code",
   "execution_count": null,
   "id": "5e54cfdb",
   "metadata": {
    "slideshow": {
     "slide_type": "fragment"
    }
   },
   "outputs": [],
   "source": [
    "x = wether_data['hourly']['time']\n",
    "x = list(map(lambda s: datetime.strptime(s, \"%Y-%m-%dT%H:%M\"), x))\n",
    "y = wether_data['hourly']['temperature_2m']"
   ]
  },
  {
   "cell_type": "code",
   "execution_count": null,
   "id": "57a20819",
   "metadata": {
    "slideshow": {
     "slide_type": "subslide"
    }
   },
   "outputs": [],
   "source": [
    "import matplotlib.pyplot as plt\n",
    "import matplotlib.dates as mdates\n",
    "from matplotlib.dates import MO, TU, WE, TH, FR, SA, SU"
   ]
  },
  {
   "cell_type": "code",
   "execution_count": null,
   "id": "01f1e605",
   "metadata": {
    "slideshow": {
     "slide_type": "fragment"
    }
   },
   "outputs": [],
   "source": [
    "fig, ax = plt.subplots()\n",
    "ax.plot(x, y)\n",
    "ax.xaxis.set_major_locator(mdates.WeekdayLocator(byweekday=(MO, TU, WE, TH, FR, SA, SU)))\n",
    "ax.xaxis.set_minor_locator(mdates.WeekdayLocator())\n",
    "ax.xaxis.set_major_formatter(mdates.DateFormatter('%a'))"
   ]
  }
 ],
 "metadata": {
  "celltoolbar": "Slideshow",
  "kernelspec": {
   "display_name": "Python 3 (ipykernel)",
   "language": "python",
   "name": "python3"
  },
  "language_info": {
   "codemirror_mode": {
    "name": "ipython",
    "version": 3
   },
   "file_extension": ".py",
   "mimetype": "text/x-python",
   "name": "python",
   "nbconvert_exporter": "python",
   "pygments_lexer": "ipython3",
   "version": "3.10.8"
  },
  "varInspector": {
   "cols": {
    "lenName": 16,
    "lenType": 16,
    "lenVar": 40
   },
   "kernels_config": {
    "python": {
     "delete_cmd_postfix": "",
     "delete_cmd_prefix": "del ",
     "library": "var_list.py",
     "varRefreshCmd": "print(var_dic_list())"
    },
    "r": {
     "delete_cmd_postfix": ") ",
     "delete_cmd_prefix": "rm(",
     "library": "var_list.r",
     "varRefreshCmd": "cat(var_dic_list()) "
    }
   },
   "types_to_exclude": [
    "module",
    "function",
    "builtin_function_or_method",
    "instance",
    "_Feature"
   ],
   "window_display": false
  }
 },
 "nbformat": 4,
 "nbformat_minor": 5
}
