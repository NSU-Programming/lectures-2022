{
 "cells": [
  {
   "cell_type": "markdown",
   "id": "20a99f92",
   "metadata": {
    "slideshow": {
     "slide_type": "slide"
    }
   },
   "source": [
    "## Введение в язык Python\n",
    "Курс \"Программирование на C++ и Python\", ФФ НГУ  \n",
    "Грибанов Сергей Сергеевич  \n",
    "23 ноября 2021"
   ]
  },
  {
   "cell_type": "markdown",
   "id": "cf0d913f",
   "metadata": {
    "slideshow": {
     "slide_type": "slide"
    }
   },
   "source": [
    "## Форматирование строк"
   ]
  },
  {
   "cell_type": "code",
   "execution_count": null,
   "id": "c29294ff",
   "metadata": {
    "slideshow": {
     "slide_type": "skip"
    }
   },
   "outputs": [],
   "source": [
    "person = 'Sergei'\n",
    "'Hello, {}!'.format(person)"
   ]
  },
  {
   "cell_type": "markdown",
   "id": "16211b97",
   "metadata": {
    "slideshow": {
     "slide_type": "skip"
    }
   },
   "source": [
    "Формат целых чисел"
   ]
  },
  {
   "cell_type": "code",
   "execution_count": null,
   "id": "94f8187d",
   "metadata": {
    "slideshow": {
     "slide_type": "skip"
    }
   },
   "outputs": [],
   "source": [
    "print('x = {:6d}'.format(12))"
   ]
  },
  {
   "cell_type": "code",
   "execution_count": null,
   "id": "f9aca3fb",
   "metadata": {
    "slideshow": {
     "slide_type": "skip"
    }
   },
   "outputs": [],
   "source": [
    "print('x = {:06d}'.format(12))"
   ]
  },
  {
   "cell_type": "code",
   "execution_count": null,
   "id": "98d421cb",
   "metadata": {
    "slideshow": {
     "slide_type": "skip"
    }
   },
   "outputs": [],
   "source": [
    "print('({x:6d}, {y:>6d})'.format(x = 12, y = 13))"
   ]
  },
  {
   "cell_type": "code",
   "execution_count": null,
   "id": "da1a2e20",
   "metadata": {
    "slideshow": {
     "slide_type": "skip"
    }
   },
   "outputs": [],
   "source": [
    "print('({x:<6d}, {y:<6d})'.format(x = 12, y = 13))"
   ]
  },
  {
   "cell_type": "code",
   "execution_count": null,
   "id": "aee8e4e4",
   "metadata": {
    "slideshow": {
     "slide_type": "skip"
    }
   },
   "outputs": [],
   "source": [
    "print('({x:^6d}, {y:^6d})'.format(x = 12, y = 13))"
   ]
  },
  {
   "cell_type": "code",
   "execution_count": null,
   "id": "112310ba",
   "metadata": {
    "slideshow": {
     "slide_type": "skip"
    }
   },
   "outputs": [],
   "source": [
    "print('x = {:<+6d}'.format(12))"
   ]
  },
  {
   "cell_type": "code",
   "execution_count": null,
   "id": "7ed44707",
   "metadata": {
    "slideshow": {
     "slide_type": "skip"
    }
   },
   "outputs": [],
   "source": [
    "print('x = {:<+6d}'.format(-12))"
   ]
  },
  {
   "cell_type": "markdown",
   "id": "883610e3",
   "metadata": {
    "slideshow": {
     "slide_type": "subslide"
    }
   },
   "source": [
    "Формат чисел с плавающей точкой"
   ]
  },
  {
   "cell_type": "code",
   "execution_count": 1,
   "id": "2a4aadd6",
   "metadata": {
    "slideshow": {
     "slide_type": "fragment"
    }
   },
   "outputs": [
    {
     "name": "stdout",
     "output_type": "stream",
     "text": [
      "x = 1.234\n"
     ]
    }
   ],
   "source": [
    "print('x = {:.3f}'.format(1.2345))"
   ]
  },
  {
   "cell_type": "code",
   "execution_count": 2,
   "id": "fdc14579",
   "metadata": {
    "scrolled": false,
    "slideshow": {
     "slide_type": "fragment"
    }
   },
   "outputs": [
    {
     "name": "stdout",
     "output_type": "stream",
     "text": [
      "x =     -1.234\n"
     ]
    }
   ],
   "source": [
    "print('x = {:+10.3f}'.format(-1.2345))"
   ]
  },
  {
   "cell_type": "markdown",
   "id": "4e30bf62",
   "metadata": {
    "slideshow": {
     "slide_type": "subslide"
    }
   },
   "source": [
    "Формат строк"
   ]
  },
  {
   "cell_type": "code",
   "execution_count": 3,
   "id": "64ee619e",
   "metadata": {
    "slideshow": {
     "slide_type": "fragment"
    }
   },
   "outputs": [
    {
     "name": "stdout",
     "output_type": "stream",
     "text": [
      "~~~Hello~~~\n"
     ]
    }
   ],
   "source": [
    "s = 'Hello'\n",
    "print('{:~^11s}'.format(s))"
   ]
  },
  {
   "cell_type": "markdown",
   "id": "038b13c8",
   "metadata": {
    "slideshow": {
     "slide_type": "subslide"
    }
   },
   "source": [
    "Примеры форматирования"
   ]
  },
  {
   "cell_type": "code",
   "execution_count": 4,
   "id": "81008d0c",
   "metadata": {
    "slideshow": {
     "slide_type": "fragment"
    }
   },
   "outputs": [
    {
     "data": {
      "text/plain": [
       "'amplitude = 100.12345'"
      ]
     },
     "execution_count": 4,
     "metadata": {},
     "output_type": "execute_result"
    }
   ],
   "source": [
    "'{} = {}'.format('amplitude', 100.12345)"
   ]
  },
  {
   "cell_type": "code",
   "execution_count": 5,
   "id": "8f5919d1",
   "metadata": {
    "slideshow": {
     "slide_type": "fragment"
    }
   },
   "outputs": [
    {
     "data": {
      "text/plain": [
       "'100.12345 = amplitude'"
      ]
     },
     "execution_count": 5,
     "metadata": {},
     "output_type": "execute_result"
    }
   ],
   "source": [
    "'{1} = {0}'.format('amplitude', 100.12345)"
   ]
  },
  {
   "cell_type": "code",
   "execution_count": 6,
   "id": "c3304dda",
   "metadata": {
    "slideshow": {
     "slide_type": "fragment"
    }
   },
   "outputs": [
    {
     "data": {
      "text/plain": [
       "'Amplitude value is 100.12345'"
      ]
     },
     "execution_count": 6,
     "metadata": {},
     "output_type": "execute_result"
    }
   ],
   "source": [
    "'{amp} value is {val}'.format(amp='Amplitude', val=100.12345)"
   ]
  },
  {
   "cell_type": "code",
   "execution_count": 7,
   "id": "7452461a",
   "metadata": {
    "slideshow": {
     "slide_type": "fragment"
    }
   },
   "outputs": [
    {
     "data": {
      "text/plain": [
       "'Amplitude value is 100.123'"
      ]
     },
     "execution_count": 7,
     "metadata": {},
     "output_type": "execute_result"
    }
   ],
   "source": [
    "'{amp} value is {val:.3f}'.format(amp='Amplitude', val=100.12345)"
   ]
  },
  {
   "cell_type": "code",
   "execution_count": 8,
   "id": "367520af",
   "metadata": {
    "slideshow": {
     "slide_type": "fragment"
    }
   },
   "outputs": [
    {
     "data": {
      "text/plain": [
       "'Amplitude value is 100.1235'"
      ]
     },
     "execution_count": 8,
     "metadata": {},
     "output_type": "execute_result"
    }
   ],
   "source": [
    "x = {'amp' : 'Amplitude', 'val' : 100.12345}\n",
    "'{amp} value is {val:.4f}'.format(**x) "
   ]
  },
  {
   "cell_type": "markdown",
   "id": "b5ca9d4f",
   "metadata": {
    "slideshow": {
     "slide_type": "subslide"
    }
   },
   "source": [
    "### f-строки"
   ]
  },
  {
   "cell_type": "code",
   "execution_count": 9,
   "id": "0f6f45b6",
   "metadata": {
    "slideshow": {
     "slide_type": "fragment"
    }
   },
   "outputs": [
    {
     "data": {
      "text/plain": [
       "'[0, 1, 2, 3, 4, 5, 6, 7, 8, 9]'"
      ]
     },
     "execution_count": 9,
     "metadata": {},
     "output_type": "execute_result"
    }
   ],
   "source": [
    "f'{list(range(10))}'"
   ]
  },
  {
   "cell_type": "code",
   "execution_count": 10,
   "id": "3558cfb6",
   "metadata": {
    "slideshow": {
     "slide_type": "fragment"
    }
   },
   "outputs": [
    {
     "data": {
      "text/plain": [
       "'a = +17, b = +2.124'"
      ]
     },
     "execution_count": 10,
     "metadata": {},
     "output_type": "execute_result"
    }
   ],
   "source": [
    "a = 17\n",
    "b = 2.12434\n",
    "f'a = {a:+d}, b = {b:+.3f}'"
   ]
  },
  {
   "cell_type": "markdown",
   "id": "d6571b55",
   "metadata": {
    "slideshow": {
     "slide_type": "slide"
    }
   },
   "source": [
    "## Запись в файл, чтение из файла"
   ]
  },
  {
   "cell_type": "code",
   "execution_count": 11,
   "id": "2dd0088e",
   "metadata": {
    "slideshow": {
     "slide_type": "fragment"
    }
   },
   "outputs": [],
   "source": [
    "with open('data.txt', 'w') as ofile:\n",
    "    for idx in range(9):\n",
    "        ofile.write(f'{idx**0.5:.6f} ')"
   ]
  },
  {
   "cell_type": "code",
   "execution_count": 12,
   "id": "db65d09a",
   "metadata": {
    "slideshow": {
     "slide_type": "fragment"
    }
   },
   "outputs": [
    {
     "name": "stdout",
     "output_type": "stream",
     "text": [
      "[0.0, 1.0, 1.414214, 1.732051, 2.0, 2.236068, 2.44949, 2.645751, 2.828427]\n"
     ]
    }
   ],
   "source": [
    "with open('data.txt', 'r') as ifile:\n",
    "    for line in ifile:\n",
    "        lst = [float(x) for x in line.strip().split()]\n",
    "\n",
    "print(lst)"
   ]
  },
  {
   "cell_type": "markdown",
   "id": "198e3f51",
   "metadata": {
    "slideshow": {
     "slide_type": "slide"
    }
   },
   "source": [
    "## Регулярные выражения \n",
    "https://docs.python.org/3/library/re.html"
   ]
  },
  {
   "cell_type": "markdown",
   "id": "9d07bde7",
   "metadata": {
    "slideshow": {
     "slide_type": "subslide"
    }
   },
   "source": [
    "#### Пример\n",
    "Имеется список имен файлов. Среди всех имен найти только те, которые отвечают шаблону: \n",
    "```\n",
    "Месяц-число-год.txt\n",
    "```\n",
    "Для каждого имени файла извлечь месяц, число и год."
   ]
  },
  {
   "cell_type": "code",
   "execution_count": 13,
   "id": "2737dcb3",
   "metadata": {
    "slideshow": {
     "slide_type": "fragment"
    }
   },
   "outputs": [],
   "source": [
    "import re"
   ]
  },
  {
   "cell_type": "code",
   "execution_count": 14,
   "id": "b2564f1f",
   "metadata": {
    "slideshow": {
     "slide_type": "fragment"
    }
   },
   "outputs": [],
   "source": [
    "lst = ['data.txt', \n",
    "       'January-10-2021.db', \n",
    "       'February-11-2021.txt',\n",
    "       'July-16.1-2020.txt',\n",
    "       '1-July-11-2018.txt',\n",
    "       'August-01-2019.txt',\n",
    "      'Month-19-2018.txt']"
   ]
  },
  {
   "cell_type": "code",
   "execution_count": 15,
   "id": "cc3e8b84",
   "metadata": {
    "slideshow": {
     "slide_type": "subslide"
    }
   },
   "outputs": [
    {
     "name": "stdout",
     "output_type": "stream",
     "text": [
      "data.txt\n",
      "January-10-2021.db\n",
      "February-11-2021.txt\n",
      "July-16.1-2020.txt\n",
      "1-July-11-2018.txt\n",
      "August-01-2019.txt\n",
      "Month-19-2018.txt\n"
     ]
    }
   ],
   "source": [
    "print('\\n'.join(lst))"
   ]
  },
  {
   "cell_type": "code",
   "execution_count": 16,
   "id": "d79c63fe",
   "metadata": {
    "slideshow": {
     "slide_type": "fragment"
    }
   },
   "outputs": [],
   "source": [
    "def print_files(pattern, lst=lst):\n",
    "    prog = re.compile(pattern)\n",
    "    for el in lst:\n",
    "        res = prog.match(el)\n",
    "        if res:\n",
    "            print('{} matches the pattern'.format(res.group(0)))\n",
    "            print(res.group(1))\n",
    "            print(res.group(2))\n",
    "            print(res.group(3))\n",
    "            print('------------')"
   ]
  },
  {
   "cell_type": "code",
   "execution_count": 17,
   "id": "54b99c66",
   "metadata": {
    "slideshow": {
     "slide_type": "subslide"
    }
   },
   "outputs": [
    {
     "name": "stdout",
     "output_type": "stream",
     "text": [
      "February-11-2021.txt matches the pattern\n",
      "February\n",
      "11\n",
      "2021\n",
      "------------\n",
      "July-16.1-2020.txt matches the pattern\n",
      "July\n",
      "16.1\n",
      "2020\n",
      "------------\n",
      "1-July-11-2018.txt matches the pattern\n",
      "1-July\n",
      "11\n",
      "2018\n",
      "------------\n",
      "August-01-2019.txt matches the pattern\n",
      "August\n",
      "01\n",
      "2019\n",
      "------------\n",
      "Month-19-2018.txt matches the pattern\n",
      "Month\n",
      "19\n",
      "2018\n",
      "------------\n"
     ]
    }
   ],
   "source": [
    "print_files('(.*)-(.*)-(.*).txt')"
   ]
  },
  {
   "cell_type": "code",
   "execution_count": 18,
   "id": "38778e17",
   "metadata": {
    "slideshow": {
     "slide_type": "subslide"
    }
   },
   "outputs": [
    {
     "name": "stdout",
     "output_type": "stream",
     "text": [
      "February-11-2021.txt matches the pattern\n",
      "February\n",
      "11\n",
      "2021\n",
      "------------\n",
      "August-01-2019.txt matches the pattern\n",
      "August\n",
      "01\n",
      "2019\n",
      "------------\n",
      "Month-19-2018.txt matches the pattern\n",
      "Month\n",
      "19\n",
      "2018\n",
      "------------\n"
     ]
    }
   ],
   "source": [
    "print_files('([A-Z][a-z]+)-([0-9]+)-([0-9]+).txt')"
   ]
  },
  {
   "cell_type": "code",
   "execution_count": 19,
   "id": "39d0b651",
   "metadata": {
    "slideshow": {
     "slide_type": "subslide"
    }
   },
   "outputs": [
    {
     "name": "stdout",
     "output_type": "stream",
     "text": [
      "['', 'January', 'February', 'March', 'April', 'May', 'June', 'July', 'August', 'September', 'October', 'November', 'December']\n"
     ]
    }
   ],
   "source": [
    "import calendar\n",
    "months = list(calendar.month_name)\n",
    "print(months)"
   ]
  },
  {
   "cell_type": "code",
   "execution_count": 20,
   "id": "f3598f9a",
   "metadata": {
    "slideshow": {
     "slide_type": "fragment"
    }
   },
   "outputs": [
    {
     "name": "stdout",
     "output_type": "stream",
     "text": [
      "January|February|March|April|May|June|July|August|September|October|November|December\n"
     ]
    }
   ],
   "source": [
    "months.remove('')\n",
    "months = '|'.join(months)\n",
    "print(months)"
   ]
  },
  {
   "cell_type": "code",
   "execution_count": 21,
   "id": "df2111ba",
   "metadata": {
    "slideshow": {
     "slide_type": "fragment"
    }
   },
   "outputs": [
    {
     "name": "stdout",
     "output_type": "stream",
     "text": [
      "February-11-2021.txt matches the pattern\n",
      "February\n",
      "11\n",
      "2021\n",
      "------------\n",
      "August-01-2019.txt matches the pattern\n",
      "August\n",
      "01\n",
      "2019\n",
      "------------\n"
     ]
    }
   ],
   "source": [
    "print_files('({})-([0-9]+)-([0-9]+).txt'.format(months))"
   ]
  },
  {
   "cell_type": "markdown",
   "id": "fb87e1d4",
   "metadata": {
    "slideshow": {
     "slide_type": "subslide"
    }
   },
   "source": [
    "Регулярные выражения можно также использовать для поиска (re.search) и замены (re.sub). Подробнее с регулярными выражениями можно познакомиться на странице https://docs.python.org/3/library/re.html."
   ]
  },
  {
   "cell_type": "markdown",
   "id": "2f8db635",
   "metadata": {
    "slideshow": {
     "slide_type": "slide"
    }
   },
   "source": [
    "## Аргуметны функций"
   ]
  },
  {
   "cell_type": "markdown",
   "id": "d818a9b9",
   "metadata": {
    "slideshow": {
     "slide_type": "subslide"
    }
   },
   "source": [
    "### Порядковые и именованные аргументы"
   ]
  },
  {
   "cell_type": "code",
   "execution_count": 22,
   "id": "4a3a12ac",
   "metadata": {
    "slideshow": {
     "slide_type": "fragment"
    }
   },
   "outputs": [],
   "source": [
    "def summ(a, b):\n",
    "    return a**b"
   ]
  },
  {
   "cell_type": "code",
   "execution_count": 23,
   "id": "6f7b8770",
   "metadata": {
    "slideshow": {
     "slide_type": "fragment"
    }
   },
   "outputs": [
    {
     "data": {
      "text/plain": [
       "4"
      ]
     },
     "execution_count": 23,
     "metadata": {},
     "output_type": "execute_result"
    }
   ],
   "source": [
    "summ(2, 2)"
   ]
  },
  {
   "cell_type": "code",
   "execution_count": 24,
   "id": "398b1e0c",
   "metadata": {
    "slideshow": {
     "slide_type": "fragment"
    }
   },
   "outputs": [
    {
     "data": {
      "text/plain": [
       "9"
      ]
     },
     "execution_count": 24,
     "metadata": {},
     "output_type": "execute_result"
    }
   ],
   "source": [
    "summ(b=2, a=3)"
   ]
  },
  {
   "cell_type": "code",
   "execution_count": 25,
   "id": "f57f591a",
   "metadata": {
    "slideshow": {
     "slide_type": "fragment"
    }
   },
   "outputs": [
    {
     "data": {
      "text/plain": [
       "8"
      ]
     },
     "execution_count": 25,
     "metadata": {},
     "output_type": "execute_result"
    }
   ],
   "source": [
    "summ(2, b=3)"
   ]
  },
  {
   "cell_type": "code",
   "execution_count": 26,
   "id": "e788f407",
   "metadata": {
    "slideshow": {
     "slide_type": "fragment"
    }
   },
   "outputs": [],
   "source": [
    "# Python сообщит о cинтаксической ошибке: порядковый аргумент не должен следовать за именованным аргуметом\n",
    "\n",
    "# summ(a=2, 2)"
   ]
  },
  {
   "cell_type": "markdown",
   "id": "0ed193cb",
   "metadata": {
    "slideshow": {
     "slide_type": "subslide"
    }
   },
   "source": [
    "### Значения по умолчанию"
   ]
  },
  {
   "cell_type": "code",
   "execution_count": 27,
   "id": "1c9cd151",
   "metadata": {
    "slideshow": {
     "slide_type": "fragment"
    }
   },
   "outputs": [],
   "source": [
    "def rational(num, den=1.):\n",
    "    return num / den"
   ]
  },
  {
   "cell_type": "code",
   "execution_count": 28,
   "id": "a9efdf96",
   "metadata": {
    "slideshow": {
     "slide_type": "fragment"
    }
   },
   "outputs": [
    {
     "data": {
      "text/plain": [
       "2.0"
      ]
     },
     "execution_count": 28,
     "metadata": {},
     "output_type": "execute_result"
    }
   ],
   "source": [
    "rational(2)"
   ]
  },
  {
   "cell_type": "code",
   "execution_count": 29,
   "id": "1c6b0b39",
   "metadata": {
    "slideshow": {
     "slide_type": "fragment"
    }
   },
   "outputs": [
    {
     "data": {
      "text/plain": [
       "1.5"
      ]
     },
     "execution_count": 29,
     "metadata": {},
     "output_type": "execute_result"
    }
   ],
   "source": [
    "rational(3, 2)"
   ]
  },
  {
   "cell_type": "markdown",
   "id": "cea51314",
   "metadata": {
    "slideshow": {
     "slide_type": "subslide"
    }
   },
   "source": [
    "### Опциональные аргументы"
   ]
  },
  {
   "cell_type": "code",
   "execution_count": 30,
   "id": "3522cf84",
   "metadata": {
    "slideshow": {
     "slide_type": "fragment"
    }
   },
   "outputs": [],
   "source": [
    "def rational(num, den=None):\n",
    "    return float(num) if den is None else num / den"
   ]
  },
  {
   "cell_type": "code",
   "execution_count": 31,
   "id": "9057b066",
   "metadata": {
    "slideshow": {
     "slide_type": "fragment"
    }
   },
   "outputs": [
    {
     "data": {
      "text/plain": [
       "2.0"
      ]
     },
     "execution_count": 31,
     "metadata": {},
     "output_type": "execute_result"
    }
   ],
   "source": [
    "rational(2)"
   ]
  },
  {
   "cell_type": "code",
   "execution_count": 32,
   "id": "5e17e23e",
   "metadata": {
    "slideshow": {
     "slide_type": "fragment"
    }
   },
   "outputs": [
    {
     "data": {
      "text/plain": [
       "1.5"
      ]
     },
     "execution_count": 32,
     "metadata": {},
     "output_type": "execute_result"
    }
   ],
   "source": [
    "rational(3, 2)"
   ]
  },
  {
   "cell_type": "markdown",
   "id": "045b00e5",
   "metadata": {
    "slideshow": {
     "slide_type": "subslide"
    }
   },
   "source": [
    "### Произвольное количество аргументов"
   ]
  },
  {
   "cell_type": "code",
   "execution_count": 33,
   "id": "f6260996",
   "metadata": {
    "slideshow": {
     "slide_type": "fragment"
    }
   },
   "outputs": [],
   "source": [
    "def op_seq(op, initial, *args):\n",
    "    res = initial \n",
    "    for el in args:\n",
    "        res = op(res, el)\n",
    "        \n",
    "    return res"
   ]
  },
  {
   "cell_type": "code",
   "execution_count": 34,
   "id": "d353038f",
   "metadata": {
    "slideshow": {
     "slide_type": "fragment"
    }
   },
   "outputs": [],
   "source": [
    "import operator"
   ]
  },
  {
   "cell_type": "code",
   "execution_count": 35,
   "id": "5b82c9ff",
   "metadata": {
    "slideshow": {
     "slide_type": "fragment"
    }
   },
   "outputs": [
    {
     "data": {
      "text/plain": [
       "55"
      ]
     },
     "execution_count": 35,
     "metadata": {},
     "output_type": "execute_result"
    }
   ],
   "source": [
    "op_seq(operator.add, 0, 1, 2, 3, 4, 5, 6, 7, 8, 9, 10)"
   ]
  },
  {
   "cell_type": "code",
   "execution_count": 36,
   "id": "60550772",
   "metadata": {
    "slideshow": {
     "slide_type": "fragment"
    }
   },
   "outputs": [],
   "source": [
    "lst = [operator.mul, 1, 2, 3, 4]"
   ]
  },
  {
   "cell_type": "code",
   "execution_count": 37,
   "id": "b40d2385",
   "metadata": {
    "slideshow": {
     "slide_type": "fragment"
    }
   },
   "outputs": [
    {
     "data": {
      "text/plain": [
       "24"
      ]
     },
     "execution_count": 37,
     "metadata": {},
     "output_type": "execute_result"
    }
   ],
   "source": [
    "op_seq(*lst)"
   ]
  },
  {
   "cell_type": "markdown",
   "id": "08fa9e2d",
   "metadata": {
    "slideshow": {
     "slide_type": "subslide"
    }
   },
   "source": [
    "### Именованные аргументы"
   ]
  },
  {
   "cell_type": "code",
   "execution_count": 38,
   "id": "6057db80",
   "metadata": {
    "code_folding": [],
    "slideshow": {
     "slide_type": "fragment"
    }
   },
   "outputs": [],
   "source": [
    "def print_kwargs(**kwargs):\n",
    "    print(type(kwargs))\n",
    "    print(kwargs)"
   ]
  },
  {
   "cell_type": "code",
   "execution_count": 42,
   "id": "f7bd9d8b",
   "metadata": {
    "slideshow": {
     "slide_type": "fragment"
    }
   },
   "outputs": [
    {
     "name": "stdout",
     "output_type": "stream",
     "text": [
      "<class 'dict'>\n",
      "{'a': 1, 'b': 2.0, 'c': None, 'd': 'Hello'}\n"
     ]
    }
   ],
   "source": [
    "print_kwargs(a=1, b=2.0, c=None, d='Hello')"
   ]
  },
  {
   "cell_type": "code",
   "execution_count": 44,
   "id": "271beb92",
   "metadata": {
    "slideshow": {
     "slide_type": "fragment"
    }
   },
   "outputs": [],
   "source": [
    "def print_kwargs2(**kwargs):\n",
    "    for key, value in kwargs.items():\n",
    "        print(f'{key} : {value}')"
   ]
  },
  {
   "cell_type": "code",
   "execution_count": 45,
   "id": "3d5938a5",
   "metadata": {
    "slideshow": {
     "slide_type": "fragment"
    }
   },
   "outputs": [
    {
     "name": "stdout",
     "output_type": "stream",
     "text": [
      "a : 1\n",
      "b : 2.0\n",
      "c : None\n",
      "d : Hello\n"
     ]
    }
   ],
   "source": [
    "print_kwargs2(a=1, b=2.0, c=None, d='Hello')"
   ]
  },
  {
   "cell_type": "code",
   "execution_count": 40,
   "id": "ce571809",
   "metadata": {
    "slideshow": {
     "slide_type": "subslide"
    }
   },
   "outputs": [
    {
     "name": "stdout",
     "output_type": "stream",
     "text": [
      "<class 'dict'>\n",
      "{'d': 0.1, 'a': 1, 'c': 2, 'b': 3}\n"
     ]
    }
   ],
   "source": [
    "dct = {'d': 0.1, 'a' : 1, 'c' : 2, 'b' : 3}\n",
    "print_kwargs(**dct)"
   ]
  },
  {
   "cell_type": "code",
   "execution_count": 46,
   "id": "8507d75c",
   "metadata": {
    "slideshow": {
     "slide_type": "fragment"
    }
   },
   "outputs": [],
   "source": [
    "from collections import OrderedDict\n",
    "from functools import reduce\n",
    "\n",
    "def eval_poly(x, **kwargs):\n",
    "    dct = OrderedDict(sorted(kwargs.items(), reverse=True))\n",
    "    print(dct)\n",
    "    return reduce(lambda cur, val: (cur[0] + val * cur[1], cur[1] * x), dct.values(), (0, 1))[0]\n",
    "    "
   ]
  },
  {
   "cell_type": "code",
   "execution_count": 47,
   "id": "5d62dfbf",
   "metadata": {
    "slideshow": {
     "slide_type": "fragment"
    }
   },
   "outputs": [
    {
     "name": "stdout",
     "output_type": "stream",
     "text": [
      "OrderedDict([('d', 0.1), ('c', 2), ('b', 3), ('a', 1)])\n"
     ]
    },
    {
     "data": {
      "text/plain": [
       "6.1"
      ]
     },
     "execution_count": 47,
     "metadata": {},
     "output_type": "execute_result"
    }
   ],
   "source": [
    "eval_poly(1, **dct)"
   ]
  },
  {
   "cell_type": "markdown",
   "id": "56aa0def",
   "metadata": {
    "slideshow": {
     "slide_type": "subslide"
    }
   },
   "source": [
    "### Аннотация типов\n",
    "Подсказка о намерениях разработчика  \n",
    "Не гарантирует правильное использование"
   ]
  },
  {
   "cell_type": "code",
   "execution_count": 48,
   "id": "a0c3c7a7",
   "metadata": {
    "slideshow": {
     "slide_type": "fragment"
    }
   },
   "outputs": [],
   "source": [
    "def sumabc(a: float, b: float, c:float) -> float:\n",
    "    \"\"\"Sum of three floating point numbers \"\"\"\n",
    "    return a + b + c"
   ]
  },
  {
   "cell_type": "code",
   "execution_count": 49,
   "id": "c0f827d3",
   "metadata": {
    "slideshow": {
     "slide_type": "fragment"
    }
   },
   "outputs": [
    {
     "data": {
      "text/plain": [
       "6.0"
      ]
     },
     "execution_count": 49,
     "metadata": {},
     "output_type": "execute_result"
    }
   ],
   "source": [
    "sumabc(1.0, 2.0, 3.0)"
   ]
  },
  {
   "cell_type": "code",
   "execution_count": 50,
   "id": "2916b3ca",
   "metadata": {
    "slideshow": {
     "slide_type": "fragment"
    }
   },
   "outputs": [
    {
     "data": {
      "text/plain": [
       "'abc'"
      ]
     },
     "execution_count": 50,
     "metadata": {},
     "output_type": "execute_result"
    }
   ],
   "source": [
    "sumabc('a', 'b', 'c')"
   ]
  },
  {
   "cell_type": "markdown",
   "id": "4c3db1f1",
   "metadata": {
    "slideshow": {
     "slide_type": "subslide"
    }
   },
   "source": [
    "Аннотация типов и комментарии видны при использовании `help`"
   ]
  },
  {
   "cell_type": "code",
   "execution_count": 51,
   "id": "713048c8",
   "metadata": {
    "scrolled": true,
    "slideshow": {
     "slide_type": "fragment"
    }
   },
   "outputs": [
    {
     "name": "stdout",
     "output_type": "stream",
     "text": [
      "Help on function sumabc in module __main__:\n",
      "\n",
      "sumabc(a: float, b: float, c: float) -> float\n",
      "    Sum of three floating point numbers\n",
      "\n"
     ]
    }
   ],
   "source": [
    "help(sumabc)"
   ]
  },
  {
   "cell_type": "markdown",
   "id": "bc4b2d6b",
   "metadata": {
    "slideshow": {
     "slide_type": "slide"
    }
   },
   "source": [
    "## Декораторы"
   ]
  },
  {
   "cell_type": "code",
   "execution_count": 52,
   "id": "356d0e70",
   "metadata": {
    "slideshow": {
     "slide_type": "subslide"
    }
   },
   "outputs": [],
   "source": [
    "def check_int(func):\n",
    "    def wrapper(*args):\n",
    "        if not all(isinstance(arg, int) for arg in args):\n",
    "            raise ValueError('all arguments must be integers')\n",
    "            \n",
    "        return func(*args)\n",
    "    \n",
    "    return wrapper"
   ]
  },
  {
   "cell_type": "code",
   "execution_count": 53,
   "id": "d6e6b930",
   "metadata": {
    "slideshow": {
     "slide_type": "fragment"
    }
   },
   "outputs": [],
   "source": [
    "@check_int\n",
    "def sum(a, b):\n",
    "    return a + b\n",
    "\n",
    "@check_int\n",
    "def mul(a, b):\n",
    "    return a * b"
   ]
  },
  {
   "cell_type": "code",
   "execution_count": 54,
   "id": "dedb9250",
   "metadata": {
    "slideshow": {
     "slide_type": "subslide"
    }
   },
   "outputs": [
    {
     "data": {
      "text/plain": [
       "3"
      ]
     },
     "execution_count": 54,
     "metadata": {},
     "output_type": "execute_result"
    }
   ],
   "source": [
    "sum(1, 2)"
   ]
  },
  {
   "cell_type": "code",
   "execution_count": 55,
   "id": "5fb99e2f",
   "metadata": {
    "slideshow": {
     "slide_type": "fragment"
    }
   },
   "outputs": [
    {
     "name": "stdout",
     "output_type": "stream",
     "text": [
      "all arguments must be integers\n"
     ]
    }
   ],
   "source": [
    "try:\n",
    "    sum(1.0, 2)\n",
    "except ValueError as err:\n",
    "    print(err)"
   ]
  },
  {
   "cell_type": "markdown",
   "id": "726c56ce",
   "metadata": {
    "slideshow": {
     "slide_type": "slide"
    }
   },
   "source": [
    "## ООП (кратко)\n",
    "В Python всё - объект"
   ]
  },
  {
   "cell_type": "code",
   "execution_count": 56,
   "id": "6d64a3af",
   "metadata": {
    "code_folding": [
     2,
     8,
     15,
     21,
     27,
     34,
     42,
     48,
     56,
     64,
     71,
     79
    ],
    "slideshow": {
     "slide_type": "subslide"
    }
   },
   "outputs": [],
   "source": [
    "class Vector:\n",
    "    \"\"\"n-мерный вектор\"\"\"\n",
    "    def __init__(self, *args):\n",
    "        \"\"\"\n",
    "        Конструктор\n",
    "        \"\"\"\n",
    "        self.__data = args\n",
    "        \n",
    "    def __abs__(self):\n",
    "        \"\"\"\n",
    "        Поведение при вызове функции abs(v).\n",
    "        Для вектора вычисляем норму.\n",
    "        \"\"\"\n",
    "        return self.dot(self)**0.5\n",
    "    \n",
    "    def __pos__(self):\n",
    "        \"\"\"\n",
    "        Унарный плюс: +v\n",
    "        \"\"\"\n",
    "        return Vector(*self.__data)\n",
    "    \n",
    "    def __neg__(self):\n",
    "        \"\"\"\n",
    "        Унарный минус: -v\n",
    "        \"\"\"\n",
    "        return Vector(*map(lambda x: -x, self.__data))\n",
    "    \n",
    "    def __len__(self):\n",
    "        \"\"\"\n",
    "        Поведение при вызове функции len(v).\n",
    "        Возвращаем длину вектора.\n",
    "        \"\"\"\n",
    "        return len(self.__data)\n",
    "    \n",
    "    def __getitem__(self, index):\n",
    "        \"\"\"\n",
    "        Оператор [] (v[i]).\n",
    "        Делает объект итерируемым, т.е.\n",
    "        можно например вызвать list(v)\n",
    "        \"\"\"\n",
    "        return self.__data[index]\n",
    "    \n",
    "    def __str__(self):\n",
    "        \"\"\"\n",
    "        Поведение при вызове функции print(v)\n",
    "        \"\"\"\n",
    "        return \"Vector({})\".format(', '.join(map(str, self.__data)))\n",
    "    \n",
    "    def __iadd__(self, other):\n",
    "        \"\"\"\n",
    "        v1 += v2\n",
    "        \"\"\"\n",
    "        self.__vec2vec_check(other)\n",
    "        self.__data = [x + y for x, y in zip(self.__data, other.__data)]\n",
    "        return self\n",
    "    \n",
    "    def __isub__(self, other):\n",
    "        \"\"\"\n",
    "        v1 -= v2\n",
    "        \"\"\"\n",
    "        self.__vec2vec_check(other)\n",
    "        self.__data = [x - y for x, y in zip(self.__data, other.__data)]\n",
    "        return self\n",
    "    \n",
    "    def __add__(self, other):\n",
    "        \"\"\"\n",
    "        v1 + v2\n",
    "        \"\"\"\n",
    "        self.__vec2vec_check(other)\n",
    "        return Vector(*[x + y for x, y in zip(self.__data, other.__data)])\n",
    "    \n",
    "    def __sub__(self, other):\n",
    "        \"\"\"\n",
    "        v1 - v2\n",
    "        \"\"\"\n",
    "        self.__vec2vec_check(other)\n",
    "        return Vector(*[x - y for x, y in zip(self.__data, other.__data)])\n",
    "    \n",
    "    def __vec2vec_check(self, other):\n",
    "        if not isinstance(other, Vector):\n",
    "            raise ValueError(\"other must be a Vector\")\n",
    "        \n",
    "        if len(self) != len(other):\n",
    "            raise ValueError(\"vectors have different sizes\")\n",
    "            \n",
    "    def dot(self, other):\n",
    "        self.__vec2vec_check(other)\n",
    "        return reduce(lambda res, x: res + x[0] * x[1], zip(self.__data, other.__data), 0)"
   ]
  },
  {
   "cell_type": "code",
   "execution_count": 57,
   "id": "f34978a4",
   "metadata": {
    "slideshow": {
     "slide_type": "subslide"
    }
   },
   "outputs": [],
   "source": [
    "a = Vector(1, -1, 1)\n",
    "b = Vector(1, 1, 2)"
   ]
  },
  {
   "cell_type": "code",
   "execution_count": 58,
   "id": "e8979aed",
   "metadata": {
    "scrolled": true,
    "slideshow": {
     "slide_type": "fragment"
    }
   },
   "outputs": [
    {
     "name": "stdout",
     "output_type": "stream",
     "text": [
      "Vector(1, -1, 1)\n",
      "-1\n",
      "len(a) = 3\n",
      "abs(a) = 1.7320508075688772\n",
      "Vector(2, 0, 3)\n",
      "Vector(2, 0, 3)\n"
     ]
    }
   ],
   "source": [
    "print(a)\n",
    "print(a[1])\n",
    "print(f'len(a) = {len(a)}')\n",
    "print(f'abs(a) = {abs(a)}')\n",
    "print(a + b)\n",
    "a += b\n",
    "print(a)"
   ]
  },
  {
   "cell_type": "code",
   "execution_count": 59,
   "id": "54c988a2",
   "metadata": {
    "slideshow": {
     "slide_type": "fragment"
    }
   },
   "outputs": [
    {
     "name": "stdout",
     "output_type": "stream",
     "text": [
      "[2, 0, 3]\n"
     ]
    }
   ],
   "source": [
    "lst = list(a)\n",
    "print(lst)"
   ]
  },
  {
   "cell_type": "code",
   "execution_count": 60,
   "id": "6d2e3f86",
   "metadata": {
    "slideshow": {
     "slide_type": "subslide"
    }
   },
   "outputs": [],
   "source": [
    "class Functor:\n",
    "    def __init__(self, fcn):\n",
    "        self.__fcn = fcn\n",
    "        \n",
    "    def __call__(self, *args, **kwargs):\n",
    "        return self.__fcn(*args, **kwargs)"
   ]
  },
  {
   "cell_type": "code",
   "execution_count": 61,
   "id": "c98e37dd",
   "metadata": {
    "slideshow": {
     "slide_type": "fragment"
    }
   },
   "outputs": [
    {
     "name": "stdout",
     "output_type": "stream",
     "text": [
      "3\n"
     ]
    }
   ],
   "source": [
    "f = Functor(lambda x, y: x + y)\n",
    "print(f(1, 2))"
   ]
  },
  {
   "cell_type": "markdown",
   "id": "1dcf50f2",
   "metadata": {
    "slideshow": {
     "slide_type": "fragment"
    }
   },
   "source": [
    "`__init__`, `__len__`, `__abs__`, `__str__`, `__getitem__`, `__call__`, `__add__` и т.д. -- магические методы.\n",
    "Существуют и другие магические методы, см. https://docs.python.org/3/reference/datamodel.html\n",
    "\n",
    "Магические методы необходимы для перегрузки операторов и взаимодействия с экосистемой Python."
   ]
  },
  {
   "cell_type": "markdown",
   "id": "b7f7fa88",
   "metadata": {
    "slideshow": {
     "slide_type": "slide"
    }
   },
   "source": [
    "### Наследование"
   ]
  },
  {
   "cell_type": "code",
   "execution_count": 62,
   "id": "241c5c03",
   "metadata": {
    "slideshow": {
     "slide_type": "fragment"
    }
   },
   "outputs": [],
   "source": [
    "class Vector3d(Vector):\n",
    "    def __init__(self, x, y, z):\n",
    "        super().__init__(x, y, z)\n",
    "        \n",
    "    def cross(self, other):\n",
    "        return Vector3d(self[1] * other[2] - self[2] * other[1],\n",
    "                        self[2] * other[0] - self[0] * other[2],\n",
    "                        self[0] * other[1] - self[1] * other[0])"
   ]
  },
  {
   "cell_type": "code",
   "execution_count": 63,
   "id": "4cb23bde",
   "metadata": {
    "slideshow": {
     "slide_type": "fragment"
    }
   },
   "outputs": [],
   "source": [
    "a = Vector3d(1, 0, 0)\n",
    "b = Vector3d(0, 1, 0)"
   ]
  },
  {
   "cell_type": "code",
   "execution_count": 64,
   "id": "fbbe14e4",
   "metadata": {
    "slideshow": {
     "slide_type": "fragment"
    }
   },
   "outputs": [
    {
     "name": "stdout",
     "output_type": "stream",
     "text": [
      "Vector(0, 0, 1)\n"
     ]
    }
   ],
   "source": [
    "c = a.cross(b)\n",
    "print(c)"
   ]
  },
  {
   "cell_type": "markdown",
   "id": "477c1358",
   "metadata": {
    "slideshow": {
     "slide_type": "subslide"
    }
   },
   "source": [
    "#### Видимость полей и методов"
   ]
  },
  {
   "cell_type": "code",
   "execution_count": 65,
   "id": "47398584",
   "metadata": {
    "slideshow": {
     "slide_type": "fragment"
    }
   },
   "outputs": [],
   "source": [
    "class A:\n",
    "    def __init__(self):\n",
    "        self._a = 1\n",
    "        self.__b = 2\n",
    "        self.__c = 3\n",
    "        \n",
    "    def fcn0(self):\n",
    "        return 0\n",
    "    \n",
    "    def _fcn1(self):\n",
    "        return 1\n",
    "    \n",
    "    def __fcn2(self):\n",
    "        return 2\n",
    "    \n",
    "    def __fcn3__(self):\n",
    "        return 3"
   ]
  },
  {
   "cell_type": "code",
   "execution_count": 66,
   "id": "8d6fd730",
   "metadata": {
    "slideshow": {
     "slide_type": "subslide"
    }
   },
   "outputs": [
    {
     "name": "stdout",
     "output_type": "stream",
     "text": [
      "1\n",
      "0\n",
      "1\n"
     ]
    }
   ],
   "source": [
    "a = A()\n",
    "print(a._a)\n",
    "print(a.fcn0())\n",
    "print(a._fcn1())"
   ]
  },
  {
   "cell_type": "code",
   "execution_count": 67,
   "id": "142d8da7",
   "metadata": {
    "slideshow": {
     "slide_type": "fragment"
    }
   },
   "outputs": [
    {
     "name": "stdout",
     "output_type": "stream",
     "text": [
      "<class 'AttributeError'>\n",
      "'A' object has no attribute '__b'\n"
     ]
    }
   ],
   "source": [
    "try:\n",
    "    print(a.__b)\n",
    "except Exception as err:\n",
    "    print(type(err))\n",
    "    print(err)"
   ]
  },
  {
   "cell_type": "code",
   "execution_count": 68,
   "id": "72fda25b",
   "metadata": {
    "slideshow": {
     "slide_type": "fragment"
    }
   },
   "outputs": [
    {
     "name": "stdout",
     "output_type": "stream",
     "text": [
      "2\n"
     ]
    }
   ],
   "source": [
    "print(a._A__b)"
   ]
  },
  {
   "cell_type": "code",
   "execution_count": 69,
   "id": "35280539",
   "metadata": {
    "slideshow": {
     "slide_type": "subslide"
    }
   },
   "outputs": [
    {
     "name": "stdout",
     "output_type": "stream",
     "text": [
      "<class 'AttributeError'>\n",
      "'A' object has no attribute '__fcn2'\n"
     ]
    }
   ],
   "source": [
    "try:\n",
    "    print(a.__fcn2())\n",
    "except Exception as err:\n",
    "    print(type(err))\n",
    "    print(err)"
   ]
  },
  {
   "cell_type": "code",
   "execution_count": 70,
   "id": "9b2d7a89",
   "metadata": {
    "slideshow": {
     "slide_type": "fragment"
    }
   },
   "outputs": [
    {
     "name": "stdout",
     "output_type": "stream",
     "text": [
      "2\n"
     ]
    }
   ],
   "source": [
    "print(a._A__fcn2())"
   ]
  },
  {
   "cell_type": "code",
   "execution_count": 71,
   "id": "2010015a",
   "metadata": {
    "slideshow": {
     "slide_type": "fragment"
    }
   },
   "outputs": [
    {
     "name": "stdout",
     "output_type": "stream",
     "text": [
      "3\n"
     ]
    }
   ],
   "source": [
    "print(a.__fcn3__())"
   ]
  },
  {
   "cell_type": "code",
   "execution_count": 72,
   "id": "81615ebc",
   "metadata": {
    "slideshow": {
     "slide_type": "subslide"
    }
   },
   "outputs": [],
   "source": [
    "class B(A):\n",
    "    def __init__(self):\n",
    "        super().__init__()\n",
    "        self._a = 3\n",
    "        self.__c = 7"
   ]
  },
  {
   "cell_type": "code",
   "execution_count": 73,
   "id": "0e65e78c",
   "metadata": {
    "slideshow": {
     "slide_type": "fragment"
    }
   },
   "outputs": [
    {
     "name": "stdout",
     "output_type": "stream",
     "text": [
      "3\n",
      "0\n",
      "1\n"
     ]
    }
   ],
   "source": [
    "b = B()\n",
    "print(b._a)\n",
    "print(b.fcn0())\n",
    "print(b._fcn1())"
   ]
  },
  {
   "cell_type": "code",
   "execution_count": 74,
   "id": "535852a9",
   "metadata": {
    "slideshow": {
     "slide_type": "subslide"
    }
   },
   "outputs": [
    {
     "name": "stdout",
     "output_type": "stream",
     "text": [
      "2\n"
     ]
    }
   ],
   "source": [
    "print(b._A__b)"
   ]
  },
  {
   "cell_type": "code",
   "execution_count": 75,
   "id": "22aa2c76",
   "metadata": {
    "slideshow": {
     "slide_type": "fragment"
    }
   },
   "outputs": [
    {
     "name": "stdout",
     "output_type": "stream",
     "text": [
      "<class 'AttributeError'>\n",
      "'B' object has no attribute '_B__b'\n"
     ]
    }
   ],
   "source": [
    "try:\n",
    "    print(b._B__b)\n",
    "except Exception as err:\n",
    "    print(type(err))\n",
    "    print(err)"
   ]
  },
  {
   "cell_type": "code",
   "execution_count": 76,
   "id": "5460079c",
   "metadata": {
    "slideshow": {
     "slide_type": "subslide"
    }
   },
   "outputs": [
    {
     "name": "stdout",
     "output_type": "stream",
     "text": [
      "3\n",
      "7\n"
     ]
    }
   ],
   "source": [
    "print(b._A__c)\n",
    "print(b._B__c)"
   ]
  },
  {
   "cell_type": "code",
   "execution_count": 77,
   "id": "96c4de9b",
   "metadata": {
    "slideshow": {
     "slide_type": "subslide"
    }
   },
   "outputs": [
    {
     "name": "stdout",
     "output_type": "stream",
     "text": [
      "2\n"
     ]
    }
   ],
   "source": [
    "print(b._A__fcn2())"
   ]
  },
  {
   "cell_type": "code",
   "execution_count": 79,
   "id": "fb847dc4",
   "metadata": {
    "slideshow": {
     "slide_type": "fragment"
    }
   },
   "outputs": [
    {
     "name": "stdout",
     "output_type": "stream",
     "text": [
      "3\n"
     ]
    }
   ],
   "source": [
    "print(b.__fcn3__())"
   ]
  },
  {
   "cell_type": "markdown",
   "id": "b10ac1a3",
   "metadata": {
    "slideshow": {
     "slide_type": "fragment"
    }
   },
   "source": [
    "Вывод: поля (или методы) вида _a удобно использовать в качестве \"protected\" полей (методов); поля вида __a удобно использовать в качестве приватных полей\n",
    "    "
   ]
  },
  {
   "cell_type": "markdown",
   "id": "cf4c83e2",
   "metadata": {
    "slideshow": {
     "slide_type": "subslide"
    }
   },
   "source": [
    "### Абстрактные классы\n",
    "Можно создавать с помощью модуля `abc` стандартной библиотеки Python.\n",
    "См. примеры на странице: https://docs.python.org/3/library/abc.html"
   ]
  },
  {
   "cell_type": "code",
   "execution_count": 80,
   "id": "f5ac3089",
   "metadata": {
    "slideshow": {
     "slide_type": "subslide"
    }
   },
   "outputs": [],
   "source": [
    "from abc import ABC, abstractmethod\n",
    "\n",
    "class MyAbsClass(ABC):\n",
    "    def __init__(self):\n",
    "        self._a = 1\n",
    "        \n",
    "    @abstractmethod\n",
    "    def fcn(self, x):\n",
    "        ...\n"
   ]
  },
  {
   "cell_type": "code",
   "execution_count": 81,
   "id": "9c5d7f4c",
   "metadata": {
    "slideshow": {
     "slide_type": "fragment"
    }
   },
   "outputs": [
    {
     "name": "stdout",
     "output_type": "stream",
     "text": [
      "<class 'TypeError'>\n",
      "Can't instantiate abstract class MyAbsClass with abstract method fcn\n"
     ]
    }
   ],
   "source": [
    "try:\n",
    "    q = MyAbsClass()\n",
    "except Exception as err:\n",
    "    print(type(err))\n",
    "    print(err)"
   ]
  },
  {
   "cell_type": "code",
   "execution_count": 82,
   "id": "fe1589fc",
   "metadata": {
    "slideshow": {
     "slide_type": "subslide"
    }
   },
   "outputs": [],
   "source": [
    "class AnotherClass(MyAbsClass):\n",
    "    def __init__(self):\n",
    "        super().__init__()\n",
    "        self._b = 2\n",
    "        \n",
    "    def fcn(self, x):\n",
    "        return self._a * x + self._b"
   ]
  },
  {
   "cell_type": "code",
   "execution_count": 83,
   "id": "30275201",
   "metadata": {
    "slideshow": {
     "slide_type": "fragment"
    }
   },
   "outputs": [
    {
     "name": "stdout",
     "output_type": "stream",
     "text": [
      "4\n"
     ]
    }
   ],
   "source": [
    "q = AnotherClass()\n",
    "print(q.fcn(2))"
   ]
  },
  {
   "cell_type": "markdown",
   "id": "e69abcb1",
   "metadata": {
    "slideshow": {
     "slide_type": "subslide"
    }
   },
   "source": [
    "### getters and setters"
   ]
  },
  {
   "cell_type": "code",
   "execution_count": 84,
   "id": "1322fc04",
   "metadata": {
    "slideshow": {
     "slide_type": "fragment"
    }
   },
   "outputs": [],
   "source": [
    "class Child:\n",
    "    def __init__(self, val):\n",
    "        self._age = val\n",
    "        \n",
    "    @property\n",
    "    def age(self):\n",
    "        return self._age\n",
    "    \n",
    "    @age.setter\n",
    "    def age(self, val):\n",
    "        if val >= 18:\n",
    "            raise ValueError('invalid age')\n",
    "            \n",
    "        self._age = val"
   ]
  },
  {
   "cell_type": "code",
   "execution_count": 85,
   "id": "774d2591",
   "metadata": {
    "slideshow": {
     "slide_type": "subslide"
    }
   },
   "outputs": [],
   "source": [
    "child = Child(5)"
   ]
  },
  {
   "cell_type": "code",
   "execution_count": 86,
   "id": "3ce53dfb",
   "metadata": {
    "slideshow": {
     "slide_type": "fragment"
    }
   },
   "outputs": [
    {
     "name": "stdout",
     "output_type": "stream",
     "text": [
      "5\n"
     ]
    }
   ],
   "source": [
    "print(child.age)"
   ]
  },
  {
   "cell_type": "code",
   "execution_count": 87,
   "id": "b2cfe59c",
   "metadata": {
    "slideshow": {
     "slide_type": "fragment"
    }
   },
   "outputs": [
    {
     "name": "stdout",
     "output_type": "stream",
     "text": [
      "3\n"
     ]
    }
   ],
   "source": [
    "child.age = 3\n",
    "print(child.age)"
   ]
  },
  {
   "cell_type": "code",
   "execution_count": 88,
   "id": "0e360f69",
   "metadata": {
    "slideshow": {
     "slide_type": "subslide"
    }
   },
   "outputs": [
    {
     "name": "stdout",
     "output_type": "stream",
     "text": [
      "invalid age\n"
     ]
    }
   ],
   "source": [
    "try:\n",
    "    child.age = 19\n",
    "except ValueError as err:\n",
    "    print(err)"
   ]
  },
  {
   "cell_type": "markdown",
   "id": "b20cd50e",
   "metadata": {
    "slideshow": {
     "slide_type": "slide"
    }
   },
   "source": [
    "## Стандартная библиотека `python`\n",
    "[docs.python.org/3/library/](https://docs.python.org/3/library/) - список стандартных модулей  \n",
    "Стандартная библиотека `python` обширна. С некоторыми модулями стандартной библиотекти мы уже успели познакомиться. Некоторые модули стандартной (и не только) библиотеки приведены ниже.\n",
    "\n",
    "* Работа с операционной системой: `sys`, `os`\n",
    "* `decimal` и `fractions` - вычисления с произвольной точностью\n",
    "* `itertools` - инструменты для итерирования\n",
    "* `datetime` - работа с датой и временем\n",
    "* Сериализация объектов: `ast`, `pickle`, `json`, ...\n",
    "* Сжатие данных: `zlib`, `zipfile`, `tarfile`\n",
    "* Инструменты тестирования: `timeit`, `unittest`, `doctest`, (не стандартная) `pytest`\n",
    "* Вэб-инструменты: `urllib`, (не стандартная) `requests`\n",
    "* Графический интерфейс: `tkinter`, (не стандартная) `PyQt5`\n",
    "* Разработка игр: `pygame`\n",
    "* Асинхронный код: `multiprocessing`, `subprocess`, `asyncio`"
   ]
  },
  {
   "cell_type": "markdown",
   "id": "21eeb0b9",
   "metadata": {
    "slideshow": {
     "slide_type": "subslide"
    }
   },
   "source": [
    "### `sys`: system-specific parameters and functions"
   ]
  },
  {
   "cell_type": "code",
   "execution_count": 89,
   "id": "9ef3315a",
   "metadata": {
    "scrolled": true,
    "slideshow": {
     "slide_type": "fragment"
    }
   },
   "outputs": [],
   "source": [
    "import sys"
   ]
  },
  {
   "cell_type": "code",
   "execution_count": 90,
   "id": "f4e77665",
   "metadata": {
    "slideshow": {
     "slide_type": "fragment"
    }
   },
   "outputs": [
    {
     "data": {
      "text/plain": [
       "['/home/sergei/.local/lib/python3.10/site-packages/ipykernel_launcher.py',\n",
       " '-f',\n",
       " '/home/sergei/.local/share/jupyter/runtime/kernel-c596fa52-383f-448a-8850-316918eebeb7.json']"
      ]
     },
     "execution_count": 90,
     "metadata": {},
     "output_type": "execute_result"
    }
   ],
   "source": [
    "sys.argv # аргуметты поданные на вход прогоамме при ее запуске (argv из C/C++)"
   ]
  },
  {
   "cell_type": "code",
   "execution_count": 91,
   "id": "6a735130",
   "metadata": {
    "slideshow": {
     "slide_type": "fragment"
    }
   },
   "outputs": [
    {
     "data": {
      "text/plain": [
       "['/home/sergei/git/lectures2022',\n",
       " '/usr/lib/python310.zip',\n",
       " '/usr/lib/python3.10',\n",
       " '/usr/lib/python3.10/lib-dynload',\n",
       " '',\n",
       " '/home/sergei/.local/lib/python3.10/site-packages',\n",
       " '/usr/lib/python3.10/site-packages']"
      ]
     },
     "execution_count": 91,
     "metadata": {},
     "output_type": "execute_result"
    }
   ],
   "source": [
    "sys.path # py-скрипт / интерпретатор ищет py-модули в этих директориях"
   ]
  },
  {
   "cell_type": "code",
   "execution_count": 92,
   "id": "45b63d20",
   "metadata": {
    "slideshow": {
     "slide_type": "fragment"
    }
   },
   "outputs": [
    {
     "data": {
      "text/plain": [
       "'linux'"
      ]
     },
     "execution_count": 92,
     "metadata": {},
     "output_type": "execute_result"
    }
   ],
   "source": [
    "sys.platform"
   ]
  },
  {
   "cell_type": "code",
   "execution_count": null,
   "id": "7f11f1e4",
   "metadata": {
    "slideshow": {
     "slide_type": "fragment"
    }
   },
   "outputs": [],
   "source": [
    "print(dir(sys))"
   ]
  },
  {
   "cell_type": "markdown",
   "id": "34e63496",
   "metadata": {
    "slideshow": {
     "slide_type": "subslide"
    }
   },
   "source": [
    "### `os` - инструменты для работы с операционной системой и файловой системой"
   ]
  },
  {
   "cell_type": "code",
   "execution_count": 96,
   "id": "502300c1",
   "metadata": {
    "slideshow": {
     "slide_type": "fragment"
    }
   },
   "outputs": [],
   "source": [
    "import os"
   ]
  },
  {
   "cell_type": "code",
   "execution_count": 97,
   "id": "c8eb1fd8",
   "metadata": {
    "slideshow": {
     "slide_type": "fragment"
    }
   },
   "outputs": [],
   "source": [
    "prefix = '/home/sergei'\n",
    "filename = 'test.txt'"
   ]
  },
  {
   "cell_type": "code",
   "execution_count": 98,
   "id": "523dd266",
   "metadata": {
    "slideshow": {
     "slide_type": "fragment"
    }
   },
   "outputs": [
    {
     "name": "stdout",
     "output_type": "stream",
     "text": [
      "/home/sergei/test.txt\n"
     ]
    }
   ],
   "source": [
    "path = os.path.join(prefix, filename)\n",
    "print(path)"
   ]
  },
  {
   "cell_type": "code",
   "execution_count": 99,
   "id": "f2c4c8fd",
   "metadata": {
    "slideshow": {
     "slide_type": "fragment"
    }
   },
   "outputs": [
    {
     "name": "stdout",
     "output_type": "stream",
     "text": [
      "test.txt\n"
     ]
    }
   ],
   "source": [
    "print(os.path.basename(path))"
   ]
  },
  {
   "cell_type": "code",
   "execution_count": 100,
   "id": "b1906932",
   "metadata": {
    "slideshow": {
     "slide_type": "fragment"
    }
   },
   "outputs": [
    {
     "name": "stdout",
     "output_type": "stream",
     "text": [
      "/home/sergei\n"
     ]
    }
   ],
   "source": [
    "print(os.path.dirname(path))"
   ]
  },
  {
   "cell_type": "code",
   "execution_count": 102,
   "id": "2d662491",
   "metadata": {
    "slideshow": {
     "slide_type": "subslide"
    }
   },
   "outputs": [
    {
     "name": "stdout",
     "output_type": "stream",
     "text": [
      "/home/sergei\n",
      "test.txt\n"
     ]
    }
   ],
   "source": [
    "head, tail = os.path.split(path)\n",
    "print(head)\n",
    "print(tail)"
   ]
  },
  {
   "cell_type": "code",
   "execution_count": 103,
   "id": "dad4d0c3",
   "metadata": {
    "slideshow": {
     "slide_type": "fragment"
    }
   },
   "outputs": [
    {
     "name": "stdout",
     "output_type": "stream",
     "text": [
      "/home/sergei/test\n",
      ".txt\n",
      "test\n"
     ]
    }
   ],
   "source": [
    "root, ext = os.path.splitext(path)\n",
    "print(root)\n",
    "print(ext)\n",
    "print(os.path.basename(root))"
   ]
  },
  {
   "cell_type": "code",
   "execution_count": 104,
   "id": "eb334bdb",
   "metadata": {
    "slideshow": {
     "slide_type": "subslide"
    }
   },
   "outputs": [
    {
     "data": {
      "text/plain": [
       "True"
      ]
     },
     "execution_count": 104,
     "metadata": {},
     "output_type": "execute_result"
    }
   ],
   "source": [
    "os.path.exists('/home/sergei')"
   ]
  },
  {
   "cell_type": "code",
   "execution_count": 105,
   "id": "700cba82",
   "metadata": {
    "slideshow": {
     "slide_type": "fragment"
    }
   },
   "outputs": [
    {
     "data": {
      "text/plain": [
       "False"
      ]
     },
     "execution_count": 105,
     "metadata": {},
     "output_type": "execute_result"
    }
   ],
   "source": [
    "os.path.isfile('/home/sergei')"
   ]
  },
  {
   "cell_type": "code",
   "execution_count": 106,
   "id": "9928902c",
   "metadata": {
    "slideshow": {
     "slide_type": "fragment"
    }
   },
   "outputs": [
    {
     "data": {
      "text/plain": [
       "True"
      ]
     },
     "execution_count": 106,
     "metadata": {},
     "output_type": "execute_result"
    }
   ],
   "source": [
    "os.path.isdir('/home/sergei')"
   ]
  },
  {
   "cell_type": "code",
   "execution_count": 107,
   "id": "d7720832",
   "metadata": {
    "slideshow": {
     "slide_type": "fragment"
    }
   },
   "outputs": [
    {
     "data": {
      "text/plain": [
       "True"
      ]
     },
     "execution_count": 107,
     "metadata": {},
     "output_type": "execute_result"
    }
   ],
   "source": [
    "os.path.exists('/home/sergei/test.txt')"
   ]
  },
  {
   "cell_type": "code",
   "execution_count": 108,
   "id": "7ce1306c",
   "metadata": {
    "slideshow": {
     "slide_type": "fragment"
    }
   },
   "outputs": [
    {
     "data": {
      "text/plain": [
       "True"
      ]
     },
     "execution_count": 108,
     "metadata": {},
     "output_type": "execute_result"
    }
   ],
   "source": [
    "os.path.isfile('/home/sergei/test.txt')"
   ]
  },
  {
   "cell_type": "code",
   "execution_count": 110,
   "id": "2b202782",
   "metadata": {
    "slideshow": {
     "slide_type": "fragment"
    }
   },
   "outputs": [
    {
     "data": {
      "text/plain": [
       "False"
      ]
     },
     "execution_count": 110,
     "metadata": {},
     "output_type": "execute_result"
    }
   ],
   "source": [
    "os.path.isdir('/home/sergei/test.txt')"
   ]
  },
  {
   "cell_type": "code",
   "execution_count": 111,
   "id": "48c83dbe",
   "metadata": {
    "slideshow": {
     "slide_type": "subslide"
    }
   },
   "outputs": [
    {
     "name": "stdout",
     "output_type": "stream",
     "text": [
      "['.bash_logout', '.bash_profile', '.bashrc', '.cache', '.config', '.gnupg', '.Xauthority', '.local', '.mozilla', '.nv', 'Downloads', '.xmonad', 'Desktop', 'Templates', 'Public', 'Documents', 'Music', 'Pictures', 'Videos', '.emacs.d', '.spacemacs.env', '.spacemacs', '.xmobarrc_bk', '.dmrc', '.ICEauthority', 'Tmp', '.wget-hsts', 'Linux', '.password-store', '.ssh', 'git', 'VirtualBox VMs', 'shared', '.openshot_qt', '.pki', '.mplayer', '.audacity-data', '.muttrc', '.msmtprc', '.mutt', '.elinks', '.rnd', '.texlive', '.gitconfig', '.cmake', '.ipython', '.zoom', 'mnt', 'notebooks', '.jupyter', '.conda', '.condarc', '.keras', 'elabels.txt', 'packages', 'python', 'blender', 'Calibre Library', '.maxima', '.sage', 'go', '.fltk', '.idlerc', '.wine', '.qucs', '.python_history', 'tr_ph_run039801_v5.root', 'tmp', 'uskov-cs', '.root_hist', '.npm', 'analysis-old', 'analysis', '.ghc', 'test.txt', 'test.png', '.lesshst', '.viminfo', '.bash_history', '.xsession-errors.old', '.xsession-errors']\n"
     ]
    }
   ],
   "source": [
    "print(os.listdir('/home/sergei'))"
   ]
  },
  {
   "cell_type": "code",
   "execution_count": 112,
   "id": "52b02250",
   "metadata": {
    "slideshow": {
     "slide_type": "subslide"
    }
   },
   "outputs": [
    {
     "name": "stdout",
     "output_type": "stream",
     "text": [
      "/home/sergei/python/anaconda3/condabin:/usr/local/bin:/usr/bin:/bin:/usr/local/sbin:/opt/cuda/bin:/opt/cuda/nsight_compute:/opt/cuda/nsight_systems/bin:/usr/lib/jvm/default/bin:/usr/bin/site_perl:/usr/bin/vendor_perl:/usr/bin/core_perl\n"
     ]
    }
   ],
   "source": [
    "print(os.getenv('PATH'))"
   ]
  },
  {
   "cell_type": "code",
   "execution_count": 113,
   "id": "9d408529",
   "metadata": {
    "slideshow": {
     "slide_type": "fragment"
    }
   },
   "outputs": [
    {
     "name": "stdout",
     "output_type": "stream",
     "text": [
      "None\n"
     ]
    }
   ],
   "source": [
    "print(os.getenv('LD_LIBRARY_PATH'))"
   ]
  },
  {
   "cell_type": "code",
   "execution_count": 114,
   "id": "198ae703",
   "metadata": {
    "slideshow": {
     "slide_type": "fragment"
    }
   },
   "outputs": [],
   "source": [
    "os.environ['LD_LIBRARY_PATH'] = '/home/sergei/.local/lib' "
   ]
  },
  {
   "cell_type": "code",
   "execution_count": 121,
   "id": "f1aa88a8",
   "metadata": {
    "slideshow": {
     "slide_type": "fragment"
    }
   },
   "outputs": [
    {
     "name": "stdout",
     "output_type": "stream",
     "text": [
      "/home/sergei/.local/lib\n"
     ]
    }
   ],
   "source": [
    "print(os.getenv('LD_LIBRARY_PATH'))"
   ]
  },
  {
   "cell_type": "code",
   "execution_count": 116,
   "id": "2c68668d",
   "metadata": {
    "scrolled": false,
    "slideshow": {
     "slide_type": "subslide"
    }
   },
   "outputs": [
    {
     "data": {
      "image/png": "[encoded data removed]",
      "text/plain": [
       "<IPython.core.display.Image object>"
      ]
     },
     "execution_count": 116,
     "metadata": {},
     "output_type": "execute_result"
    }
   ],
   "source": [
    "with open('script.py', 'w') as ofile:\n",
    "    ofile.write(\"\"\"\n",
    "import matplotlib.pyplot as plt\n",
    "import numpy as np\n",
    "\n",
    "plt.plot(np.arange(10), np.arange(10)**2)\n",
    "plt.savefig('/home/sergei/test.png')\n",
    "\"\"\")\n",
    "os.system('python script.py')\n",
    "\n",
    "from IPython.display import Image\n",
    "Image(filename='/home/sergei/test.png') "
   ]
  },
  {
   "cell_type": "markdown",
   "id": "e437a5e9",
   "metadata": {
    "slideshow": {
     "slide_type": "skip"
    }
   },
   "source": [
    "### `decimal`: Decimal fixed point and floating point arithmetic"
   ]
  },
  {
   "cell_type": "code",
   "execution_count": null,
   "id": "795b47d7",
   "metadata": {
    "slideshow": {
     "slide_type": "skip"
    }
   },
   "outputs": [],
   "source": [
    "import decimal"
   ]
  },
  {
   "cell_type": "code",
   "execution_count": null,
   "id": "6c8ff05c",
   "metadata": {
    "slideshow": {
     "slide_type": "skip"
    }
   },
   "outputs": [],
   "source": [
    "decimal.getcontext().prec = 2\n",
    "decimal.Decimal(2).sqrt()"
   ]
  },
  {
   "cell_type": "code",
   "execution_count": null,
   "id": "f280a610",
   "metadata": {
    "slideshow": {
     "slide_type": "skip"
    }
   },
   "outputs": [],
   "source": [
    "decimal.getcontext().prec = 1000\n",
    "decimal.Decimal(2).sqrt()"
   ]
  },
  {
   "cell_type": "markdown",
   "id": "26558ad9",
   "metadata": {
    "slideshow": {
     "slide_type": "slide"
    }
   },
   "source": [
    "### `itertools`: Functions creating iterators for efficient looping"
   ]
  },
  {
   "cell_type": "code",
   "execution_count": 131,
   "id": "ab1a31d8",
   "metadata": {
    "slideshow": {
     "slide_type": "fragment"
    }
   },
   "outputs": [],
   "source": [
    "import itertools"
   ]
  },
  {
   "cell_type": "code",
   "execution_count": 132,
   "id": "65afba2e",
   "metadata": {
    "slideshow": {
     "slide_type": "fragment"
    }
   },
   "outputs": [
    {
     "name": "stdout",
     "output_type": "stream",
     "text": [
      "A B C A B C A B C A "
     ]
    }
   ],
   "source": [
    "g = itertools.cycle('ABC')\n",
    "for _ in range(10):\n",
    "    print(f'{next(g)}', end=' ')"
   ]
  },
  {
   "cell_type": "code",
   "execution_count": 133,
   "id": "294a6101",
   "metadata": {
    "slideshow": {
     "slide_type": "subslide"
    }
   },
   "outputs": [
    {
     "name": "stdout",
     "output_type": "stream",
     "text": [
      "0 1 3 6 10 15 21 28 36 45 "
     ]
    }
   ],
   "source": [
    "for n in itertools.accumulate(range(10)):\n",
    "    print(f'{n}', end=' ')"
   ]
  },
  {
   "cell_type": "code",
   "execution_count": 134,
   "id": "e81678d0",
   "metadata": {
    "slideshow": {
     "slide_type": "fragment"
    }
   },
   "outputs": [
    {
     "name": "stdout",
     "output_type": "stream",
     "text": [
      "A1 A2 A3 A4 B1 B2 B3 B4 C1 C2 C3 C4 D1 D2 D3 D4 "
     ]
    }
   ],
   "source": [
    "for a, b in itertools.product('ABCD', [1, 2, 3, 4]):\n",
    "    print(f'{a}{b}', end=' ')"
   ]
  },
  {
   "cell_type": "code",
   "execution_count": 136,
   "id": "4da65179",
   "metadata": {
    "slideshow": {
     "slide_type": "fragment"
    }
   },
   "outputs": [
    {
     "name": "stdout",
     "output_type": "stream",
     "text": [
      "ABC ACB BAC BCA CAB CBA "
     ]
    }
   ],
   "source": [
    "for a,b,c in itertools.permutations('ABC'):\n",
    "    print(f'{a}{b}{c}', end=' ')"
   ]
  },
  {
   "cell_type": "markdown",
   "id": "2818f08c",
   "metadata": {
    "slideshow": {
     "slide_type": "slide"
    }
   },
   "source": [
    "### `datetime`: Basic date and time types"
   ]
  },
  {
   "cell_type": "code",
   "execution_count": 137,
   "id": "3372dc17",
   "metadata": {
    "slideshow": {
     "slide_type": "fragment"
    }
   },
   "outputs": [],
   "source": [
    "from datetime import date, timedelta\n",
    "d1 = date.fromisoformat('2020-12-04')"
   ]
  },
  {
   "cell_type": "code",
   "execution_count": 138,
   "id": "6381d09b",
   "metadata": {
    "slideshow": {
     "slide_type": "fragment"
    }
   },
   "outputs": [
    {
     "data": {
      "text/plain": [
       "False"
      ]
     },
     "execution_count": 138,
     "metadata": {},
     "output_type": "execute_result"
    }
   ],
   "source": [
    "d2 = date(2002, 12, 31)\n",
    "d1 < d2"
   ]
  },
  {
   "cell_type": "code",
   "execution_count": 139,
   "id": "140fbffa",
   "metadata": {
    "slideshow": {
     "slide_type": "subslide"
    }
   },
   "outputs": [
    {
     "data": {
      "text/plain": [
       "6548"
      ]
     },
     "execution_count": 139,
     "metadata": {},
     "output_type": "execute_result"
    }
   ],
   "source": [
    "delta = d1 - d2\n",
    "delta.days"
   ]
  },
  {
   "cell_type": "code",
   "execution_count": 140,
   "id": "4d37a5f8",
   "metadata": {
    "slideshow": {
     "slide_type": "fragment"
    }
   },
   "outputs": [
    {
     "data": {
      "text/plain": [
       "datetime.timedelta"
      ]
     },
     "execution_count": 140,
     "metadata": {},
     "output_type": "execute_result"
    }
   ],
   "source": [
    "type(delta)"
   ]
  },
  {
   "cell_type": "code",
   "execution_count": 141,
   "id": "0e48e6ce",
   "metadata": {
    "slideshow": {
     "slide_type": "fragment"
    }
   },
   "outputs": [
    {
     "data": {
      "text/plain": [
       "datetime.date(2020, 12, 19)"
      ]
     },
     "execution_count": 141,
     "metadata": {},
     "output_type": "execute_result"
    }
   ],
   "source": [
    "delta2 = timedelta(days=15)\n",
    "d3 = d1 + delta2\n",
    "d3"
   ]
  },
  {
   "cell_type": "code",
   "execution_count": 152,
   "id": "8c92ac67",
   "metadata": {
    "slideshow": {
     "slide_type": "subslide"
    }
   },
   "outputs": [
    {
     "data": {
      "text/plain": [
       "2"
      ]
     },
     "execution_count": 152,
     "metadata": {},
     "output_type": "execute_result"
    }
   ],
   "source": [
    "d4 = date(2022, 11, 23)\n",
    "d4.weekday()"
   ]
  },
  {
   "cell_type": "code",
   "execution_count": 155,
   "id": "05c62f50",
   "metadata": {
    "slideshow": {
     "slide_type": "fragment"
    }
   },
   "outputs": [
    {
     "data": {
      "text/plain": [
       "'Wednesday'"
      ]
     },
     "execution_count": 155,
     "metadata": {},
     "output_type": "execute_result"
    }
   ],
   "source": [
    "import calendar\n",
    "\n",
    "calendar.day_name[d4.weekday()]"
   ]
  },
  {
   "cell_type": "code",
   "execution_count": 143,
   "id": "705b5d66",
   "metadata": {
    "slideshow": {
     "slide_type": "subslide"
    }
   },
   "outputs": [
    {
     "data": {
      "text/plain": [
       "datetime.date(2022, 11, 23)"
      ]
     },
     "execution_count": 143,
     "metadata": {},
     "output_type": "execute_result"
    }
   ],
   "source": [
    "date.today()"
   ]
  },
  {
   "cell_type": "code",
   "execution_count": 144,
   "id": "1a177514",
   "metadata": {
    "slideshow": {
     "slide_type": "fragment"
    }
   },
   "outputs": [
    {
     "data": {
      "text/plain": [
       "datetime.datetime(2022, 11, 23, 11, 5, 43, 256971)"
      ]
     },
     "execution_count": 144,
     "metadata": {},
     "output_type": "execute_result"
    }
   ],
   "source": [
    "import time\n",
    "from datetime import datetime\n",
    "datetime.fromtimestamp(time.time())"
   ]
  },
  {
   "cell_type": "code",
   "execution_count": 158,
   "id": "e943cfd5",
   "metadata": {
    "slideshow": {
     "slide_type": "fragment"
    }
   },
   "outputs": [
    {
     "data": {
      "text/plain": [
       "datetime.datetime(2020, 7, 15, 21, 47, 9, 36145)"
      ]
     },
     "execution_count": 158,
     "metadata": {},
     "output_type": "execute_result"
    }
   ],
   "source": [
    "dt2 = datetime.fromisoformat('2020-07-15 21:47:09.036145')\n",
    "dt2"
   ]
  },
  {
   "cell_type": "markdown",
   "id": "7f4ae755",
   "metadata": {
    "slideshow": {
     "slide_type": "fragment"
    }
   },
   "source": [
    "Про формат ISO 8601 см. https://ru.wikipedia.org/wiki/ISO_8601"
   ]
  },
  {
   "cell_type": "code",
   "execution_count": 159,
   "id": "6981fc2b",
   "metadata": {
    "slideshow": {
     "slide_type": "subslide"
    }
   },
   "outputs": [
    {
     "data": {
      "text/plain": [
       "1594824429.036145"
      ]
     },
     "execution_count": 159,
     "metadata": {},
     "output_type": "execute_result"
    }
   ],
   "source": [
    "dt2.timestamp()"
   ]
  },
  {
   "cell_type": "markdown",
   "id": "fb9b7478",
   "metadata": {
    "slideshow": {
     "slide_type": "fragment"
    }
   },
   "source": [
    "Время с начала эпохи (00:00:00 UTC for 1 January 1970) в секундах"
   ]
  },
  {
   "cell_type": "markdown",
   "id": "8bd84e07",
   "metadata": {
    "slideshow": {
     "slide_type": "subslide"
    }
   },
   "source": [
    "### `timeit` - измерение времени"
   ]
  },
  {
   "cell_type": "code",
   "execution_count": 160,
   "id": "c3506acd",
   "metadata": {
    "slideshow": {
     "slide_type": "fragment"
    }
   },
   "outputs": [],
   "source": [
    "import timeit\n",
    "import numpy as np\n",
    "\n",
    "code1 = '''\n",
    "sum=0\n",
    "for i in range(10000):\n",
    "    sum += i**2\n",
    "'''\n",
    "code2 = 'sum([x**2 for x in range(10000)])'\n",
    "code3 = 'sum(map(lambda x: x**2, range(10000)))'\n",
    "code4 = 'sum(x**2 for x in range(10000))'\n",
    "code5 = '''\n",
    "import numpy as np\n",
    "np.sum(np.arange(10000)**2)\n",
    "'''"
   ]
  },
  {
   "cell_type": "code",
   "execution_count": 161,
   "id": "b66b1a13",
   "metadata": {
    "slideshow": {
     "slide_type": "subslide"
    }
   },
   "outputs": [
    {
     "name": "stdout",
     "output_type": "stream",
     "text": [
      "code 1: 2.07600\n",
      "code 2: 2.08747\n",
      "code 3: 2.19443\n",
      "code 4: 2.18077\n",
      "code 5: 0.01259\n"
     ]
    }
   ],
   "source": [
    "for idx, c in enumerate([code1, code2, code3, code4, code5]):\n",
    "    print(f'code {idx+1}: {timeit.timeit(c, number=1000):.5f}')"
   ]
  },
  {
   "cell_type": "code",
   "execution_count": 163,
   "id": "963aff51",
   "metadata": {
    "slideshow": {
     "slide_type": "fragment"
    }
   },
   "outputs": [
    {
     "name": "stdout",
     "output_type": "stream",
     "text": [
      "2.190 2.142 2.202 2.055 2.212\n",
      "2.032 1.976 1.970 1.925 2.166\n",
      "2.172 2.114 2.114 2.116 2.118\n",
      "2.044 2.046 2.034 2.050 2.038\n",
      "0.012 0.012 0.014 0.014 0.013\n"
     ]
    }
   ],
   "source": [
    "for idx, c in enumerate([code1, code2, code3, code4, code5]):\n",
    "    res = timeit.repeat(c, number=1000, repeat=5)\n",
    "    print(' '.join([f'{item:.3f}' for item in res]))"
   ]
  },
  {
   "cell_type": "markdown",
   "id": "d00f89a2",
   "metadata": {
    "slideshow": {
     "slide_type": "fragment"
    }
   },
   "source": [
    "Более подробно можно посмотреть в документации https://docs.python.org/3/library/timeit.html"
   ]
  },
  {
   "cell_type": "markdown",
   "id": "4149f59c",
   "metadata": {
    "slideshow": {
     "slide_type": "slide"
    }
   },
   "source": [
    "## Сериализация\n",
    "\n",
    "* Модуль `ast`\n",
    "* Модуль `pickle`\n",
    "* Модуль `json`"
   ]
  },
  {
   "cell_type": "markdown",
   "id": "31279945",
   "metadata": {
    "slideshow": {
     "slide_type": "subslide"
    }
   },
   "source": [
    "### ast - abstract syntax tree"
   ]
  },
  {
   "cell_type": "code",
   "execution_count": 164,
   "id": "00ac635b",
   "metadata": {
    "slideshow": {
     "slide_type": "fragment"
    }
   },
   "outputs": [],
   "source": [
    "import ast"
   ]
  },
  {
   "cell_type": "code",
   "execution_count": 165,
   "id": "09a6120b",
   "metadata": {
    "slideshow": {
     "slide_type": "fragment"
    }
   },
   "outputs": [],
   "source": [
    "data = [\n",
    "    1, 2, 'a',\n",
    "    ['2', 1],\n",
    "    (3, 2, 1),\n",
    "    {x: y**2 for x, y in enumerate(range(3))}\n",
    "]"
   ]
  },
  {
   "cell_type": "code",
   "execution_count": 166,
   "id": "80ae6349",
   "metadata": {
    "slideshow": {
     "slide_type": "fragment"
    }
   },
   "outputs": [],
   "source": [
    "with open('s1.txt', 'w') as f:\n",
    "    f.write(repr(data))"
   ]
  },
  {
   "cell_type": "code",
   "execution_count": 167,
   "id": "2fd76659",
   "metadata": {
    "slideshow": {
     "slide_type": "fragment"
    }
   },
   "outputs": [],
   "source": [
    "with open('s1.txt', 'r') as f:\n",
    "    restored_data = ast.literal_eval(f.read())"
   ]
  },
  {
   "cell_type": "code",
   "execution_count": 168,
   "id": "7bb4efaa",
   "metadata": {
    "slideshow": {
     "slide_type": "fragment"
    }
   },
   "outputs": [
    {
     "data": {
      "text/plain": [
       "list"
      ]
     },
     "execution_count": 168,
     "metadata": {},
     "output_type": "execute_result"
    }
   ],
   "source": [
    "type(restored_data)"
   ]
  },
  {
   "cell_type": "markdown",
   "id": "fabdcfff",
   "metadata": {
    "slideshow": {
     "slide_type": "subslide"
    }
   },
   "source": [
    "### pickle - бинарная сериализация"
   ]
  },
  {
   "cell_type": "code",
   "execution_count": 169,
   "id": "ea0f52a9",
   "metadata": {
    "slideshow": {
     "slide_type": "fragment"
    }
   },
   "outputs": [],
   "source": [
    "import pickle"
   ]
  },
  {
   "cell_type": "code",
   "execution_count": 170,
   "id": "6f70817d",
   "metadata": {
    "slideshow": {
     "slide_type": "fragment"
    }
   },
   "outputs": [],
   "source": [
    "data = [\n",
    "    1, 2, 'a',\n",
    "    ['2', 1],\n",
    "    (3, 2, 1),\n",
    "    {x: y**2 for x, y in enumerate(range(3))}\n",
    "]"
   ]
  },
  {
   "cell_type": "code",
   "execution_count": 171,
   "id": "b6458872",
   "metadata": {
    "slideshow": {
     "slide_type": "fragment"
    }
   },
   "outputs": [],
   "source": [
    "with open('s1.dat', 'wb') as f:\n",
    "    pickle.dump(data, f)"
   ]
  },
  {
   "cell_type": "code",
   "execution_count": 173,
   "id": "aeb828e0",
   "metadata": {
    "slideshow": {
     "slide_type": "fragment"
    }
   },
   "outputs": [],
   "source": [
    "with open('s1.dat', 'rb') as f:\n",
    "    restored_data2 = pickle.load(f)"
   ]
  },
  {
   "cell_type": "code",
   "execution_count": 174,
   "id": "a717a27a",
   "metadata": {
    "slideshow": {
     "slide_type": "fragment"
    }
   },
   "outputs": [
    {
     "name": "stdout",
     "output_type": "stream",
     "text": [
      "[1, 2, 'a', ['2', 1], (3, 2, 1), {0: 0, 1: 1, 2: 4}]\n"
     ]
    }
   ],
   "source": [
    "print(restored_data2)"
   ]
  },
  {
   "cell_type": "markdown",
   "id": "f6845bb8",
   "metadata": {
    "slideshow": {
     "slide_type": "subslide"
    }
   },
   "source": [
    "### JSON - JavaScript Object Notation"
   ]
  },
  {
   "cell_type": "code",
   "execution_count": 175,
   "id": "110051e5",
   "metadata": {
    "slideshow": {
     "slide_type": "fragment"
    }
   },
   "outputs": [],
   "source": [
    "import json"
   ]
  },
  {
   "cell_type": "code",
   "execution_count": 176,
   "id": "108a867f",
   "metadata": {
    "slideshow": {
     "slide_type": "fragment"
    }
   },
   "outputs": [],
   "source": [
    "data = [\n",
    "    1, 2, 'a',\n",
    "    ['2', 1],\n",
    "    (3, 2, 1),\n",
    "    {x: y**2 for x, y in enumerate(range(3))}\n",
    "]"
   ]
  },
  {
   "cell_type": "code",
   "execution_count": 177,
   "id": "9e5c6ab0",
   "metadata": {
    "slideshow": {
     "slide_type": "fragment"
    }
   },
   "outputs": [],
   "source": [
    "with open('s1.txt', 'w') as f:\n",
    "    json.dump(data, f)"
   ]
  },
  {
   "cell_type": "code",
   "execution_count": 178,
   "id": "ad1cee8d",
   "metadata": {
    "slideshow": {
     "slide_type": "fragment"
    }
   },
   "outputs": [],
   "source": [
    "with open('s1.txt', 'r') as f:\n",
    "    restored_data3 = json.load(f)"
   ]
  },
  {
   "cell_type": "code",
   "execution_count": 179,
   "id": "eab0899c",
   "metadata": {
    "slideshow": {
     "slide_type": "fragment"
    }
   },
   "outputs": [
    {
     "name": "stdout",
     "output_type": "stream",
     "text": [
      "[1, 2, 'a', ['2', 1], [3, 2, 1], {'0': 0, '1': 1, '2': 4}]\n"
     ]
    }
   ],
   "source": [
    "print(restored_data3)"
   ]
  },
  {
   "cell_type": "markdown",
   "id": "5de5e130",
   "metadata": {
    "slideshow": {
     "slide_type": "slide"
    }
   },
   "source": [
    "## requests"
   ]
  },
  {
   "cell_type": "code",
   "execution_count": 182,
   "id": "79c7b9e4",
   "metadata": {
    "slideshow": {
     "slide_type": "fragment"
    }
   },
   "outputs": [],
   "source": [
    "import requests\n",
    "import json\n",
    "from datetime import datetime"
   ]
  },
  {
   "cell_type": "markdown",
   "id": "caf41a40",
   "metadata": {
    "slideshow": {
     "slide_type": "subslide"
    }
   },
   "source": [
    "`requests.get` делает URL запрос. В результате получаем результат запроса (в виде текста). Это может быть, например, текст HTML-разметки, метаданные в формате JSON и т.п. (в зависимости о того, куда делается запрос).\n",
    "\n",
    "В примере ниже делаем запрос к https://api.open-meteo.com о прогнозе погоды на неделю."
   ]
  },
  {
   "cell_type": "code",
   "execution_count": 183,
   "id": "f54f11e2",
   "metadata": {
    "slideshow": {
     "slide_type": "fragment"
    }
   },
   "outputs": [],
   "source": [
    "req = requests.get('https://api.open-meteo.com/v1/forecast?latitude=54.843&longitude=83.093&hourly=temperature_2m,rain,snowfall,snow_depth,pressure_msl,windspeed_10m')"
   ]
  },
  {
   "cell_type": "code",
   "execution_count": 184,
   "id": "566e0838",
   "metadata": {
    "slideshow": {
     "slide_type": "fragment"
    }
   },
   "outputs": [],
   "source": [
    "wether_data = json.loads(req.text)"
   ]
  },
  {
   "cell_type": "code",
   "execution_count": 185,
   "id": "5e54cfdb",
   "metadata": {
    "slideshow": {
     "slide_type": "fragment"
    }
   },
   "outputs": [],
   "source": [
    "x = wether_data['hourly']['time']\n",
    "x = list(map(lambda s: datetime.strptime(s, \"%Y-%m-%dT%H:%M\"), x))"
   ]
  },
  {
   "cell_type": "code",
   "execution_count": 186,
   "id": "57a20819",
   "metadata": {
    "slideshow": {
     "slide_type": "subslide"
    }
   },
   "outputs": [],
   "source": [
    "import matplotlib.pyplot as plt\n",
    "import matplotlib.dates as mdates\n",
    "from matplotlib.dates import MO, TU, WE, TH, FR, SA, SU"
   ]
  },
  {
   "cell_type": "code",
   "execution_count": 201,
   "id": "01f1e605",
   "metadata": {
    "slideshow": {
     "slide_type": "fragment"
    }
   },
   "outputs": [
    {
     "data": {
      "text/plain": [
       "Text(0, 0.5, 'Wind spead, Km/h')"
      ]
     },
     "execution_count": 201,
     "metadata": {},
     "output_type": "execute_result"
    },
    {
     "data": {
      "image/png": "[encoded data removed]",
      "text/plain": [
       "<Figure size 640x480 with 3 Axes>"
      ]
     },
     "metadata": {},
     "output_type": "display_data"
    }
   ],
   "source": [
    "fig, axs = plt.subplots(2, 1, sharex=True)\n",
    "y = wether_data['hourly']['temperature_2m']\n",
    "axs[0].plot(x, y)\n",
    "axs[0].set_xlabel(\"Day\")\n",
    "axs[0].set_ylabel(u\"Temperature, \\N{DEGREE SIGN}C\")\n",
    "axs[0].xaxis.set_major_locator(mdates.WeekdayLocator(byweekday=(MO, TU, WE, TH, FR, SA, SU)))\n",
    "axs[0].xaxis.set_minor_locator(mdates.WeekdayLocator())\n",
    "axs[0].xaxis.set_major_formatter(mdates.DateFormatter('%a'))\n",
    "y =  wether_data['hourly']['pressure_msl']\n",
    "axs[1].plot(x, y)\n",
    "axs[1].set_ylabel(\"Pressure, hPa\")\n",
    "y = wether_data['hourly']['windspeed_10m']"
   ]
  }
 ],
 "metadata": {
  "celltoolbar": "Slideshow",
  "kernelspec": {
   "display_name": "Python 3 (ipykernel)",
   "language": "python",
   "name": "python3"
  },
  "language_info": {
   "codemirror_mode": {
    "name": "ipython",
    "version": 3
   },
   "file_extension": ".py",
   "mimetype": "text/x-python",
   "name": "python",
   "nbconvert_exporter": "python",
   "pygments_lexer": "ipython3",
   "version": "3.10.8"
  },
  "varInspector": {
   "cols": {
    "lenName": 16,
    "lenType": 16,
    "lenVar": 40
   },
   "kernels_config": {
    "python": {
     "delete_cmd_postfix": "",
     "delete_cmd_prefix": "del ",
     "library": "var_list.py",
     "varRefreshCmd": "print(var_dic_list())"
    },
    "r": {
     "delete_cmd_postfix": ") ",
     "delete_cmd_prefix": "rm(",
     "library": "var_list.r",
     "varRefreshCmd": "cat(var_dic_list()) "
    }
   },
   "types_to_exclude": [
    "module",
    "function",
    "builtin_function_or_method",
    "instance",
    "_Feature"
   ],
   "window_display": false
  }
 },
 "nbformat": 4,
 "nbformat_minor": 5
}
